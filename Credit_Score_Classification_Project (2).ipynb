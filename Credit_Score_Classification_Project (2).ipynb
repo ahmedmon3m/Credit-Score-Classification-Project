{
  "cells": [
    {
      "cell_type": "markdown",
      "metadata": {
        "id": "xcq5-BcnSNpe"
      },
      "source": [
        "## 1.❗Introduction\n",
        "<a id=\"about-dataset\"></a>"
      ]
    },
    {
      "cell_type": "markdown",
      "metadata": {
        "id": "5nvKZWB1SNpe"
      },
      "source": [
        "    Problem Statement\n",
        "    You are working as a data scientist in a global finance company. Over the years, the company has collected basic bank details and gathered a lot of credit-related information. The management wants to build an intelligent system to segregate the people into credit score brackets to reduce the manual efforts.\n",
        "\n",
        "    Task\n",
        "\n",
        "\n",
        "\n",
        "    Given a person’s credit-related information, build a machine learning model that can classify the credit score."
      ]
    },
    {
      "cell_type": "markdown",
      "metadata": {
        "id": "TL4_-7fYSNpe"
      },
      "source": [
        "<font color='black' size='2' face='Tenor Sans'>"
      ]
    },
    {
      "cell_type": "markdown",
      "metadata": {
        "id": "0SszYIGcSNpe"
      },
      "source": [
        "<a id=\"preparation\"></a>\n",
        "## 2. 🚩 Preparation"
      ]
    },
    {
      "cell_type": "markdown",
      "metadata": {
        "id": "VQJoJSuLSNpe"
      },
      "source": [
        "<a id=\"import-libraries\"></a>\n",
        "## 2.1 📔 Import Libraries"
      ]
    },
    {
      "cell_type": "code",
      "execution_count": 4,
      "metadata": {
        "id": "b1PgLJVaSNpe"
      },
      "outputs": [],
      "source": [
        "import numpy as np\n",
        "import pandas as pd\n",
        "import plotly.express as px\n",
        "import plotly.graph_objects as go\n",
        "import matplotlib.pyplot as plt\n",
        "import seaborn as sns\n",
        "from sklearn.preprocessing import OrdinalEncoder, LabelEncoder\n",
        "from sklearn.feature_selection import mutual_info_classif\n",
        "from sklearn.model_selection import train_test_split\n",
        "from sklearn.ensemble import RandomForestClassifier, RandomForestRegressor\n",
        "from sklearn.metrics import classification_report, confusion_matrix, accuracy_score, mean_squared_error\n",
        "from imblearn.over_sampling import SMOTE\n",
        "from xgboost import XGBRegressor\n",
        "import warnings\n",
        "\n",
        "warnings.filterwarnings(\"ignore\", category=FutureWarning)"
      ]
    },
    {
      "cell_type": "code",
      "execution_count": 5,
      "metadata": {
        "colab": {
          "base_uri": "https://localhost:8080/"
        },
        "id": "b-9v89jiq0Aa",
        "outputId": "61a4d25e-8783-4da7-f865-518ac8b9f665"
      },
      "outputs": [
        {
          "output_type": "stream",
          "name": "stdout",
          "text": [
            "Drive already mounted at /content/drive; to attempt to forcibly remount, call drive.mount(\"/content/drive\", force_remount=True).\n"
          ]
        }
      ],
      "source": [
        "from google.colab import drive\n",
        "drive.mount('/content/drive')"
      ]
    },
    {
      "cell_type": "markdown",
      "metadata": {
        "id": "SOwGbOr7SNpe"
      },
      "source": [
        "<a id=\"loading-files\"></a>\n",
        "## 2.2 🗃️ Loading Files\n",
        "<font color='black' size='2' face='Sans Serif'>"
      ]
    },
    {
      "cell_type": "code",
      "execution_count": 6,
      "metadata": {
        "colab": {
          "base_uri": "https://localhost:8080/",
          "height": 827
        },
        "id": "z87843jSSNpf",
        "outputId": "a50fa565-e8fa-4f9f-9389-530327f17700"
      },
      "outputs": [
        {
          "output_type": "stream",
          "name": "stderr",
          "text": [
            "<ipython-input-6-d04aed507f7f>:1: DtypeWarning: Columns (26) have mixed types. Specify dtype option on import or set low_memory=False.\n",
            "  df = pd.read_csv('/content/drive/MyDrive/train.csv', dtype={'Column26': str})\n"
          ]
        },
        {
          "output_type": "execute_result",
          "data": {
            "text/plain": [
              "            ID Customer_ID     Month           Name   Age          SSN  \\\n",
              "0       0x1602   CUS_0xd40   January  Aaron Maashoh    23  821-00-0265   \n",
              "1       0x1603   CUS_0xd40  February  Aaron Maashoh    23  821-00-0265   \n",
              "2       0x1604   CUS_0xd40     March  Aaron Maashoh  -500  821-00-0265   \n",
              "3       0x1605   CUS_0xd40     April  Aaron Maashoh    23  821-00-0265   \n",
              "4       0x1606   CUS_0xd40       May  Aaron Maashoh    23  821-00-0265   \n",
              "...        ...         ...       ...            ...   ...          ...   \n",
              "99995  0x25fe9  CUS_0x942c     April          Nicks    25  078-73-5990   \n",
              "99996  0x25fea  CUS_0x942c       May          Nicks    25  078-73-5990   \n",
              "99997  0x25feb  CUS_0x942c      June          Nicks    25  078-73-5990   \n",
              "99998  0x25fec  CUS_0x942c      July          Nicks    25  078-73-5990   \n",
              "99999  0x25fed  CUS_0x942c    August          Nicks    25  078-73-5990   \n",
              "\n",
              "      Occupation Annual_Income  Monthly_Inhand_Salary  Num_Bank_Accounts  ...  \\\n",
              "0      Scientist      19114.12            1824.843333                  3  ...   \n",
              "1      Scientist      19114.12                    NaN                  3  ...   \n",
              "2      Scientist      19114.12                    NaN                  3  ...   \n",
              "3      Scientist      19114.12                    NaN                  3  ...   \n",
              "4      Scientist      19114.12            1824.843333                  3  ...   \n",
              "...          ...           ...                    ...                ...  ...   \n",
              "99995   Mechanic      39628.99            3359.415833                  4  ...   \n",
              "99996   Mechanic      39628.99            3359.415833                  4  ...   \n",
              "99997   Mechanic      39628.99            3359.415833                  4  ...   \n",
              "99998   Mechanic      39628.99            3359.415833                  4  ...   \n",
              "99999   Mechanic     39628.99_            3359.415833                  4  ...   \n",
              "\n",
              "       Credit_Mix  Outstanding_Debt Credit_Utilization_Ratio  \\\n",
              "0               _            809.98                26.822620   \n",
              "1            Good            809.98                31.944960   \n",
              "2            Good            809.98                28.609352   \n",
              "3            Good            809.98                31.377862   \n",
              "4            Good            809.98                24.797347   \n",
              "...           ...               ...                      ...   \n",
              "99995           _            502.38                34.663572   \n",
              "99996           _            502.38                40.565631   \n",
              "99997        Good            502.38                41.255522   \n",
              "99998        Good            502.38                33.638208   \n",
              "99999        Good            502.38                34.192463   \n",
              "\n",
              "           Credit_History_Age  Payment_of_Min_Amount Total_EMI_per_month  \\\n",
              "0       22 Years and 1 Months                     No           49.574949   \n",
              "1                         NaN                     No           49.574949   \n",
              "2       22 Years and 3 Months                     No           49.574949   \n",
              "3       22 Years and 4 Months                     No           49.574949   \n",
              "4       22 Years and 5 Months                     No           49.574949   \n",
              "...                       ...                    ...                 ...   \n",
              "99995   31 Years and 6 Months                     No           35.104023   \n",
              "99996   31 Years and 7 Months                     No           35.104023   \n",
              "99997   31 Years and 8 Months                     No           35.104023   \n",
              "99998   31 Years and 9 Months                     No           35.104023   \n",
              "99999  31 Years and 10 Months                     No           35.104023   \n",
              "\n",
              "      Amount_invested_monthly                 Payment_Behaviour  \\\n",
              "0           80.41529543900253   High_spent_Small_value_payments   \n",
              "1          118.28022162236736    Low_spent_Large_value_payments   \n",
              "2             81.699521264648   Low_spent_Medium_value_payments   \n",
              "3           199.4580743910713    Low_spent_Small_value_payments   \n",
              "4          41.420153086217326  High_spent_Medium_value_payments   \n",
              "...                       ...                               ...   \n",
              "99995       60.97133255718485   High_spent_Large_value_payments   \n",
              "99996       54.18595028760385  High_spent_Medium_value_payments   \n",
              "99997       24.02847744864441   High_spent_Large_value_payments   \n",
              "99998      251.67258219721603    Low_spent_Large_value_payments   \n",
              "99999       167.1638651610451                            !@9#%8   \n",
              "\n",
              "          Monthly_Balance Credit_Score  \n",
              "0      312.49408867943663         Good  \n",
              "1      284.62916249607184         Good  \n",
              "2       331.2098628537912         Good  \n",
              "3      223.45130972736786         Good  \n",
              "4      341.48923103222177         Good  \n",
              "...                   ...          ...  \n",
              "99995          479.866228         Poor  \n",
              "99996           496.65161         Poor  \n",
              "99997          516.809083         Poor  \n",
              "99998          319.164979     Standard  \n",
              "99999          393.673696         Poor  \n",
              "\n",
              "[100000 rows x 28 columns]"
            ],
            "text/html": [
              "\n",
              "  <div id=\"df-a10111dd-cb72-4bfe-9575-d9229583d0ac\" class=\"colab-df-container\">\n",
              "    <div>\n",
              "<style scoped>\n",
              "    .dataframe tbody tr th:only-of-type {\n",
              "        vertical-align: middle;\n",
              "    }\n",
              "\n",
              "    .dataframe tbody tr th {\n",
              "        vertical-align: top;\n",
              "    }\n",
              "\n",
              "    .dataframe thead th {\n",
              "        text-align: right;\n",
              "    }\n",
              "</style>\n",
              "<table border=\"1\" class=\"dataframe\">\n",
              "  <thead>\n",
              "    <tr style=\"text-align: right;\">\n",
              "      <th></th>\n",
              "      <th>ID</th>\n",
              "      <th>Customer_ID</th>\n",
              "      <th>Month</th>\n",
              "      <th>Name</th>\n",
              "      <th>Age</th>\n",
              "      <th>SSN</th>\n",
              "      <th>Occupation</th>\n",
              "      <th>Annual_Income</th>\n",
              "      <th>Monthly_Inhand_Salary</th>\n",
              "      <th>Num_Bank_Accounts</th>\n",
              "      <th>...</th>\n",
              "      <th>Credit_Mix</th>\n",
              "      <th>Outstanding_Debt</th>\n",
              "      <th>Credit_Utilization_Ratio</th>\n",
              "      <th>Credit_History_Age</th>\n",
              "      <th>Payment_of_Min_Amount</th>\n",
              "      <th>Total_EMI_per_month</th>\n",
              "      <th>Amount_invested_monthly</th>\n",
              "      <th>Payment_Behaviour</th>\n",
              "      <th>Monthly_Balance</th>\n",
              "      <th>Credit_Score</th>\n",
              "    </tr>\n",
              "  </thead>\n",
              "  <tbody>\n",
              "    <tr>\n",
              "      <th>0</th>\n",
              "      <td>0x1602</td>\n",
              "      <td>CUS_0xd40</td>\n",
              "      <td>January</td>\n",
              "      <td>Aaron Maashoh</td>\n",
              "      <td>23</td>\n",
              "      <td>821-00-0265</td>\n",
              "      <td>Scientist</td>\n",
              "      <td>19114.12</td>\n",
              "      <td>1824.843333</td>\n",
              "      <td>3</td>\n",
              "      <td>...</td>\n",
              "      <td>_</td>\n",
              "      <td>809.98</td>\n",
              "      <td>26.822620</td>\n",
              "      <td>22 Years and 1 Months</td>\n",
              "      <td>No</td>\n",
              "      <td>49.574949</td>\n",
              "      <td>80.41529543900253</td>\n",
              "      <td>High_spent_Small_value_payments</td>\n",
              "      <td>312.49408867943663</td>\n",
              "      <td>Good</td>\n",
              "    </tr>\n",
              "    <tr>\n",
              "      <th>1</th>\n",
              "      <td>0x1603</td>\n",
              "      <td>CUS_0xd40</td>\n",
              "      <td>February</td>\n",
              "      <td>Aaron Maashoh</td>\n",
              "      <td>23</td>\n",
              "      <td>821-00-0265</td>\n",
              "      <td>Scientist</td>\n",
              "      <td>19114.12</td>\n",
              "      <td>NaN</td>\n",
              "      <td>3</td>\n",
              "      <td>...</td>\n",
              "      <td>Good</td>\n",
              "      <td>809.98</td>\n",
              "      <td>31.944960</td>\n",
              "      <td>NaN</td>\n",
              "      <td>No</td>\n",
              "      <td>49.574949</td>\n",
              "      <td>118.28022162236736</td>\n",
              "      <td>Low_spent_Large_value_payments</td>\n",
              "      <td>284.62916249607184</td>\n",
              "      <td>Good</td>\n",
              "    </tr>\n",
              "    <tr>\n",
              "      <th>2</th>\n",
              "      <td>0x1604</td>\n",
              "      <td>CUS_0xd40</td>\n",
              "      <td>March</td>\n",
              "      <td>Aaron Maashoh</td>\n",
              "      <td>-500</td>\n",
              "      <td>821-00-0265</td>\n",
              "      <td>Scientist</td>\n",
              "      <td>19114.12</td>\n",
              "      <td>NaN</td>\n",
              "      <td>3</td>\n",
              "      <td>...</td>\n",
              "      <td>Good</td>\n",
              "      <td>809.98</td>\n",
              "      <td>28.609352</td>\n",
              "      <td>22 Years and 3 Months</td>\n",
              "      <td>No</td>\n",
              "      <td>49.574949</td>\n",
              "      <td>81.699521264648</td>\n",
              "      <td>Low_spent_Medium_value_payments</td>\n",
              "      <td>331.2098628537912</td>\n",
              "      <td>Good</td>\n",
              "    </tr>\n",
              "    <tr>\n",
              "      <th>3</th>\n",
              "      <td>0x1605</td>\n",
              "      <td>CUS_0xd40</td>\n",
              "      <td>April</td>\n",
              "      <td>Aaron Maashoh</td>\n",
              "      <td>23</td>\n",
              "      <td>821-00-0265</td>\n",
              "      <td>Scientist</td>\n",
              "      <td>19114.12</td>\n",
              "      <td>NaN</td>\n",
              "      <td>3</td>\n",
              "      <td>...</td>\n",
              "      <td>Good</td>\n",
              "      <td>809.98</td>\n",
              "      <td>31.377862</td>\n",
              "      <td>22 Years and 4 Months</td>\n",
              "      <td>No</td>\n",
              "      <td>49.574949</td>\n",
              "      <td>199.4580743910713</td>\n",
              "      <td>Low_spent_Small_value_payments</td>\n",
              "      <td>223.45130972736786</td>\n",
              "      <td>Good</td>\n",
              "    </tr>\n",
              "    <tr>\n",
              "      <th>4</th>\n",
              "      <td>0x1606</td>\n",
              "      <td>CUS_0xd40</td>\n",
              "      <td>May</td>\n",
              "      <td>Aaron Maashoh</td>\n",
              "      <td>23</td>\n",
              "      <td>821-00-0265</td>\n",
              "      <td>Scientist</td>\n",
              "      <td>19114.12</td>\n",
              "      <td>1824.843333</td>\n",
              "      <td>3</td>\n",
              "      <td>...</td>\n",
              "      <td>Good</td>\n",
              "      <td>809.98</td>\n",
              "      <td>24.797347</td>\n",
              "      <td>22 Years and 5 Months</td>\n",
              "      <td>No</td>\n",
              "      <td>49.574949</td>\n",
              "      <td>41.420153086217326</td>\n",
              "      <td>High_spent_Medium_value_payments</td>\n",
              "      <td>341.48923103222177</td>\n",
              "      <td>Good</td>\n",
              "    </tr>\n",
              "    <tr>\n",
              "      <th>...</th>\n",
              "      <td>...</td>\n",
              "      <td>...</td>\n",
              "      <td>...</td>\n",
              "      <td>...</td>\n",
              "      <td>...</td>\n",
              "      <td>...</td>\n",
              "      <td>...</td>\n",
              "      <td>...</td>\n",
              "      <td>...</td>\n",
              "      <td>...</td>\n",
              "      <td>...</td>\n",
              "      <td>...</td>\n",
              "      <td>...</td>\n",
              "      <td>...</td>\n",
              "      <td>...</td>\n",
              "      <td>...</td>\n",
              "      <td>...</td>\n",
              "      <td>...</td>\n",
              "      <td>...</td>\n",
              "      <td>...</td>\n",
              "      <td>...</td>\n",
              "    </tr>\n",
              "    <tr>\n",
              "      <th>99995</th>\n",
              "      <td>0x25fe9</td>\n",
              "      <td>CUS_0x942c</td>\n",
              "      <td>April</td>\n",
              "      <td>Nicks</td>\n",
              "      <td>25</td>\n",
              "      <td>078-73-5990</td>\n",
              "      <td>Mechanic</td>\n",
              "      <td>39628.99</td>\n",
              "      <td>3359.415833</td>\n",
              "      <td>4</td>\n",
              "      <td>...</td>\n",
              "      <td>_</td>\n",
              "      <td>502.38</td>\n",
              "      <td>34.663572</td>\n",
              "      <td>31 Years and 6 Months</td>\n",
              "      <td>No</td>\n",
              "      <td>35.104023</td>\n",
              "      <td>60.97133255718485</td>\n",
              "      <td>High_spent_Large_value_payments</td>\n",
              "      <td>479.866228</td>\n",
              "      <td>Poor</td>\n",
              "    </tr>\n",
              "    <tr>\n",
              "      <th>99996</th>\n",
              "      <td>0x25fea</td>\n",
              "      <td>CUS_0x942c</td>\n",
              "      <td>May</td>\n",
              "      <td>Nicks</td>\n",
              "      <td>25</td>\n",
              "      <td>078-73-5990</td>\n",
              "      <td>Mechanic</td>\n",
              "      <td>39628.99</td>\n",
              "      <td>3359.415833</td>\n",
              "      <td>4</td>\n",
              "      <td>...</td>\n",
              "      <td>_</td>\n",
              "      <td>502.38</td>\n",
              "      <td>40.565631</td>\n",
              "      <td>31 Years and 7 Months</td>\n",
              "      <td>No</td>\n",
              "      <td>35.104023</td>\n",
              "      <td>54.18595028760385</td>\n",
              "      <td>High_spent_Medium_value_payments</td>\n",
              "      <td>496.65161</td>\n",
              "      <td>Poor</td>\n",
              "    </tr>\n",
              "    <tr>\n",
              "      <th>99997</th>\n",
              "      <td>0x25feb</td>\n",
              "      <td>CUS_0x942c</td>\n",
              "      <td>June</td>\n",
              "      <td>Nicks</td>\n",
              "      <td>25</td>\n",
              "      <td>078-73-5990</td>\n",
              "      <td>Mechanic</td>\n",
              "      <td>39628.99</td>\n",
              "      <td>3359.415833</td>\n",
              "      <td>4</td>\n",
              "      <td>...</td>\n",
              "      <td>Good</td>\n",
              "      <td>502.38</td>\n",
              "      <td>41.255522</td>\n",
              "      <td>31 Years and 8 Months</td>\n",
              "      <td>No</td>\n",
              "      <td>35.104023</td>\n",
              "      <td>24.02847744864441</td>\n",
              "      <td>High_spent_Large_value_payments</td>\n",
              "      <td>516.809083</td>\n",
              "      <td>Poor</td>\n",
              "    </tr>\n",
              "    <tr>\n",
              "      <th>99998</th>\n",
              "      <td>0x25fec</td>\n",
              "      <td>CUS_0x942c</td>\n",
              "      <td>July</td>\n",
              "      <td>Nicks</td>\n",
              "      <td>25</td>\n",
              "      <td>078-73-5990</td>\n",
              "      <td>Mechanic</td>\n",
              "      <td>39628.99</td>\n",
              "      <td>3359.415833</td>\n",
              "      <td>4</td>\n",
              "      <td>...</td>\n",
              "      <td>Good</td>\n",
              "      <td>502.38</td>\n",
              "      <td>33.638208</td>\n",
              "      <td>31 Years and 9 Months</td>\n",
              "      <td>No</td>\n",
              "      <td>35.104023</td>\n",
              "      <td>251.67258219721603</td>\n",
              "      <td>Low_spent_Large_value_payments</td>\n",
              "      <td>319.164979</td>\n",
              "      <td>Standard</td>\n",
              "    </tr>\n",
              "    <tr>\n",
              "      <th>99999</th>\n",
              "      <td>0x25fed</td>\n",
              "      <td>CUS_0x942c</td>\n",
              "      <td>August</td>\n",
              "      <td>Nicks</td>\n",
              "      <td>25</td>\n",
              "      <td>078-73-5990</td>\n",
              "      <td>Mechanic</td>\n",
              "      <td>39628.99_</td>\n",
              "      <td>3359.415833</td>\n",
              "      <td>4</td>\n",
              "      <td>...</td>\n",
              "      <td>Good</td>\n",
              "      <td>502.38</td>\n",
              "      <td>34.192463</td>\n",
              "      <td>31 Years and 10 Months</td>\n",
              "      <td>No</td>\n",
              "      <td>35.104023</td>\n",
              "      <td>167.1638651610451</td>\n",
              "      <td>!@9#%8</td>\n",
              "      <td>393.673696</td>\n",
              "      <td>Poor</td>\n",
              "    </tr>\n",
              "  </tbody>\n",
              "</table>\n",
              "<p>100000 rows × 28 columns</p>\n",
              "</div>\n",
              "    <div class=\"colab-df-buttons\">\n",
              "\n",
              "  <div class=\"colab-df-container\">\n",
              "    <button class=\"colab-df-convert\" onclick=\"convertToInteractive('df-a10111dd-cb72-4bfe-9575-d9229583d0ac')\"\n",
              "            title=\"Convert this dataframe to an interactive table.\"\n",
              "            style=\"display:none;\">\n",
              "\n",
              "  <svg xmlns=\"http://www.w3.org/2000/svg\" height=\"24px\" viewBox=\"0 -960 960 960\">\n",
              "    <path d=\"M120-120v-720h720v720H120Zm60-500h600v-160H180v160Zm220 220h160v-160H400v160Zm0 220h160v-160H400v160ZM180-400h160v-160H180v160Zm440 0h160v-160H620v160ZM180-180h160v-160H180v160Zm440 0h160v-160H620v160Z\"/>\n",
              "  </svg>\n",
              "    </button>\n",
              "\n",
              "  <style>\n",
              "    .colab-df-container {\n",
              "      display:flex;\n",
              "      gap: 12px;\n",
              "    }\n",
              "\n",
              "    .colab-df-convert {\n",
              "      background-color: #E8F0FE;\n",
              "      border: none;\n",
              "      border-radius: 50%;\n",
              "      cursor: pointer;\n",
              "      display: none;\n",
              "      fill: #1967D2;\n",
              "      height: 32px;\n",
              "      padding: 0 0 0 0;\n",
              "      width: 32px;\n",
              "    }\n",
              "\n",
              "    .colab-df-convert:hover {\n",
              "      background-color: #E2EBFA;\n",
              "      box-shadow: 0px 1px 2px rgba(60, 64, 67, 0.3), 0px 1px 3px 1px rgba(60, 64, 67, 0.15);\n",
              "      fill: #174EA6;\n",
              "    }\n",
              "\n",
              "    .colab-df-buttons div {\n",
              "      margin-bottom: 4px;\n",
              "    }\n",
              "\n",
              "    [theme=dark] .colab-df-convert {\n",
              "      background-color: #3B4455;\n",
              "      fill: #D2E3FC;\n",
              "    }\n",
              "\n",
              "    [theme=dark] .colab-df-convert:hover {\n",
              "      background-color: #434B5C;\n",
              "      box-shadow: 0px 1px 3px 1px rgba(0, 0, 0, 0.15);\n",
              "      filter: drop-shadow(0px 1px 2px rgba(0, 0, 0, 0.3));\n",
              "      fill: #FFFFFF;\n",
              "    }\n",
              "  </style>\n",
              "\n",
              "    <script>\n",
              "      const buttonEl =\n",
              "        document.querySelector('#df-a10111dd-cb72-4bfe-9575-d9229583d0ac button.colab-df-convert');\n",
              "      buttonEl.style.display =\n",
              "        google.colab.kernel.accessAllowed ? 'block' : 'none';\n",
              "\n",
              "      async function convertToInteractive(key) {\n",
              "        const element = document.querySelector('#df-a10111dd-cb72-4bfe-9575-d9229583d0ac');\n",
              "        const dataTable =\n",
              "          await google.colab.kernel.invokeFunction('convertToInteractive',\n",
              "                                                    [key], {});\n",
              "        if (!dataTable) return;\n",
              "\n",
              "        const docLinkHtml = 'Like what you see? Visit the ' +\n",
              "          '<a target=\"_blank\" href=https://colab.research.google.com/notebooks/data_table.ipynb>data table notebook</a>'\n",
              "          + ' to learn more about interactive tables.';\n",
              "        element.innerHTML = '';\n",
              "        dataTable['output_type'] = 'display_data';\n",
              "        await google.colab.output.renderOutput(dataTable, element);\n",
              "        const docLink = document.createElement('div');\n",
              "        docLink.innerHTML = docLinkHtml;\n",
              "        element.appendChild(docLink);\n",
              "      }\n",
              "    </script>\n",
              "  </div>\n",
              "\n",
              "\n",
              "    <div id=\"df-4e338eb3-559d-42b9-b03d-242731cb20d1\">\n",
              "      <button class=\"colab-df-quickchart\" onclick=\"quickchart('df-4e338eb3-559d-42b9-b03d-242731cb20d1')\"\n",
              "                title=\"Suggest charts\"\n",
              "                style=\"display:none;\">\n",
              "\n",
              "<svg xmlns=\"http://www.w3.org/2000/svg\" height=\"24px\"viewBox=\"0 0 24 24\"\n",
              "     width=\"24px\">\n",
              "    <g>\n",
              "        <path d=\"M19 3H5c-1.1 0-2 .9-2 2v14c0 1.1.9 2 2 2h14c1.1 0 2-.9 2-2V5c0-1.1-.9-2-2-2zM9 17H7v-7h2v7zm4 0h-2V7h2v10zm4 0h-2v-4h2v4z\"/>\n",
              "    </g>\n",
              "</svg>\n",
              "      </button>\n",
              "\n",
              "<style>\n",
              "  .colab-df-quickchart {\n",
              "      --bg-color: #E8F0FE;\n",
              "      --fill-color: #1967D2;\n",
              "      --hover-bg-color: #E2EBFA;\n",
              "      --hover-fill-color: #174EA6;\n",
              "      --disabled-fill-color: #AAA;\n",
              "      --disabled-bg-color: #DDD;\n",
              "  }\n",
              "\n",
              "  [theme=dark] .colab-df-quickchart {\n",
              "      --bg-color: #3B4455;\n",
              "      --fill-color: #D2E3FC;\n",
              "      --hover-bg-color: #434B5C;\n",
              "      --hover-fill-color: #FFFFFF;\n",
              "      --disabled-bg-color: #3B4455;\n",
              "      --disabled-fill-color: #666;\n",
              "  }\n",
              "\n",
              "  .colab-df-quickchart {\n",
              "    background-color: var(--bg-color);\n",
              "    border: none;\n",
              "    border-radius: 50%;\n",
              "    cursor: pointer;\n",
              "    display: none;\n",
              "    fill: var(--fill-color);\n",
              "    height: 32px;\n",
              "    padding: 0;\n",
              "    width: 32px;\n",
              "  }\n",
              "\n",
              "  .colab-df-quickchart:hover {\n",
              "    background-color: var(--hover-bg-color);\n",
              "    box-shadow: 0 1px 2px rgba(60, 64, 67, 0.3), 0 1px 3px 1px rgba(60, 64, 67, 0.15);\n",
              "    fill: var(--button-hover-fill-color);\n",
              "  }\n",
              "\n",
              "  .colab-df-quickchart-complete:disabled,\n",
              "  .colab-df-quickchart-complete:disabled:hover {\n",
              "    background-color: var(--disabled-bg-color);\n",
              "    fill: var(--disabled-fill-color);\n",
              "    box-shadow: none;\n",
              "  }\n",
              "\n",
              "  .colab-df-spinner {\n",
              "    border: 2px solid var(--fill-color);\n",
              "    border-color: transparent;\n",
              "    border-bottom-color: var(--fill-color);\n",
              "    animation:\n",
              "      spin 1s steps(1) infinite;\n",
              "  }\n",
              "\n",
              "  @keyframes spin {\n",
              "    0% {\n",
              "      border-color: transparent;\n",
              "      border-bottom-color: var(--fill-color);\n",
              "      border-left-color: var(--fill-color);\n",
              "    }\n",
              "    20% {\n",
              "      border-color: transparent;\n",
              "      border-left-color: var(--fill-color);\n",
              "      border-top-color: var(--fill-color);\n",
              "    }\n",
              "    30% {\n",
              "      border-color: transparent;\n",
              "      border-left-color: var(--fill-color);\n",
              "      border-top-color: var(--fill-color);\n",
              "      border-right-color: var(--fill-color);\n",
              "    }\n",
              "    40% {\n",
              "      border-color: transparent;\n",
              "      border-right-color: var(--fill-color);\n",
              "      border-top-color: var(--fill-color);\n",
              "    }\n",
              "    60% {\n",
              "      border-color: transparent;\n",
              "      border-right-color: var(--fill-color);\n",
              "    }\n",
              "    80% {\n",
              "      border-color: transparent;\n",
              "      border-right-color: var(--fill-color);\n",
              "      border-bottom-color: var(--fill-color);\n",
              "    }\n",
              "    90% {\n",
              "      border-color: transparent;\n",
              "      border-bottom-color: var(--fill-color);\n",
              "    }\n",
              "  }\n",
              "</style>\n",
              "\n",
              "      <script>\n",
              "        async function quickchart(key) {\n",
              "          const quickchartButtonEl =\n",
              "            document.querySelector('#' + key + ' button');\n",
              "          quickchartButtonEl.disabled = true;  // To prevent multiple clicks.\n",
              "          quickchartButtonEl.classList.add('colab-df-spinner');\n",
              "          try {\n",
              "            const charts = await google.colab.kernel.invokeFunction(\n",
              "                'suggestCharts', [key], {});\n",
              "          } catch (error) {\n",
              "            console.error('Error during call to suggestCharts:', error);\n",
              "          }\n",
              "          quickchartButtonEl.classList.remove('colab-df-spinner');\n",
              "          quickchartButtonEl.classList.add('colab-df-quickchart-complete');\n",
              "        }\n",
              "        (() => {\n",
              "          let quickchartButtonEl =\n",
              "            document.querySelector('#df-4e338eb3-559d-42b9-b03d-242731cb20d1 button');\n",
              "          quickchartButtonEl.style.display =\n",
              "            google.colab.kernel.accessAllowed ? 'block' : 'none';\n",
              "        })();\n",
              "      </script>\n",
              "    </div>\n",
              "\n",
              "  <div id=\"id_c490168c-1ef0-42e3-a34b-15802bc4c20b\">\n",
              "    <style>\n",
              "      .colab-df-generate {\n",
              "        background-color: #E8F0FE;\n",
              "        border: none;\n",
              "        border-radius: 50%;\n",
              "        cursor: pointer;\n",
              "        display: none;\n",
              "        fill: #1967D2;\n",
              "        height: 32px;\n",
              "        padding: 0 0 0 0;\n",
              "        width: 32px;\n",
              "      }\n",
              "\n",
              "      .colab-df-generate:hover {\n",
              "        background-color: #E2EBFA;\n",
              "        box-shadow: 0px 1px 2px rgba(60, 64, 67, 0.3), 0px 1px 3px 1px rgba(60, 64, 67, 0.15);\n",
              "        fill: #174EA6;\n",
              "      }\n",
              "\n",
              "      [theme=dark] .colab-df-generate {\n",
              "        background-color: #3B4455;\n",
              "        fill: #D2E3FC;\n",
              "      }\n",
              "\n",
              "      [theme=dark] .colab-df-generate:hover {\n",
              "        background-color: #434B5C;\n",
              "        box-shadow: 0px 1px 3px 1px rgba(0, 0, 0, 0.15);\n",
              "        filter: drop-shadow(0px 1px 2px rgba(0, 0, 0, 0.3));\n",
              "        fill: #FFFFFF;\n",
              "      }\n",
              "    </style>\n",
              "    <button class=\"colab-df-generate\" onclick=\"generateWithVariable('df')\"\n",
              "            title=\"Generate code using this dataframe.\"\n",
              "            style=\"display:none;\">\n",
              "\n",
              "  <svg xmlns=\"http://www.w3.org/2000/svg\" height=\"24px\"viewBox=\"0 0 24 24\"\n",
              "       width=\"24px\">\n",
              "    <path d=\"M7,19H8.4L18.45,9,17,7.55,7,17.6ZM5,21V16.75L18.45,3.32a2,2,0,0,1,2.83,0l1.4,1.43a1.91,1.91,0,0,1,.58,1.4,1.91,1.91,0,0,1-.58,1.4L9.25,21ZM18.45,9,17,7.55Zm-12,3A5.31,5.31,0,0,0,4.9,8.1,5.31,5.31,0,0,0,1,6.5,5.31,5.31,0,0,0,4.9,4.9,5.31,5.31,0,0,0,6.5,1,5.31,5.31,0,0,0,8.1,4.9,5.31,5.31,0,0,0,12,6.5,5.46,5.46,0,0,0,6.5,12Z\"/>\n",
              "  </svg>\n",
              "    </button>\n",
              "    <script>\n",
              "      (() => {\n",
              "      const buttonEl =\n",
              "        document.querySelector('#id_c490168c-1ef0-42e3-a34b-15802bc4c20b button.colab-df-generate');\n",
              "      buttonEl.style.display =\n",
              "        google.colab.kernel.accessAllowed ? 'block' : 'none';\n",
              "\n",
              "      buttonEl.onclick = () => {\n",
              "        google.colab.notebook.generateWithVariable('df');\n",
              "      }\n",
              "      })();\n",
              "    </script>\n",
              "  </div>\n",
              "\n",
              "    </div>\n",
              "  </div>\n"
            ],
            "application/vnd.google.colaboratory.intrinsic+json": {
              "type": "dataframe",
              "variable_name": "df"
            }
          },
          "metadata": {},
          "execution_count": 6
        }
      ],
      "source": [
        "df = pd.read_csv('/content/drive/MyDrive/train.csv', dtype={'Column26': str})\n",
        "df_test = pd.read_csv('/content/drive/MyDrive/test.csv', dtype={'Column26': str})\n",
        "\n",
        "df"
      ]
    },
    {
      "cell_type": "markdown",
      "metadata": {
        "id": "aq9OE30BSNpf"
      },
      "source": [
        "<a id=\"data-cleaning\"></a>\n",
        "## 3.🧹 Data Cleaning"
      ]
    },
    {
      "cell_type": "code",
      "execution_count": 7,
      "metadata": {
        "colab": {
          "base_uri": "https://localhost:8080/"
        },
        "id": "k9M1mOliSNpf",
        "outputId": "0414ea59-314f-4483-a80a-7a89c147ac77"
      },
      "outputs": [
        {
          "output_type": "stream",
          "name": "stdout",
          "text": [
            "<class 'pandas.core.frame.DataFrame'>\n",
            "RangeIndex: 100000 entries, 0 to 99999\n",
            "Data columns (total 28 columns):\n",
            " #   Column                    Non-Null Count   Dtype  \n",
            "---  ------                    --------------   -----  \n",
            " 0   ID                        100000 non-null  object \n",
            " 1   Customer_ID               100000 non-null  object \n",
            " 2   Month                     100000 non-null  object \n",
            " 3   Name                      90015 non-null   object \n",
            " 4   Age                       100000 non-null  object \n",
            " 5   SSN                       100000 non-null  object \n",
            " 6   Occupation                100000 non-null  object \n",
            " 7   Annual_Income             100000 non-null  object \n",
            " 8   Monthly_Inhand_Salary     84998 non-null   float64\n",
            " 9   Num_Bank_Accounts         100000 non-null  int64  \n",
            " 10  Num_Credit_Card           100000 non-null  int64  \n",
            " 11  Interest_Rate             100000 non-null  int64  \n",
            " 12  Num_of_Loan               100000 non-null  object \n",
            " 13  Type_of_Loan              88592 non-null   object \n",
            " 14  Delay_from_due_date       100000 non-null  int64  \n",
            " 15  Num_of_Delayed_Payment    92998 non-null   object \n",
            " 16  Changed_Credit_Limit      100000 non-null  object \n",
            " 17  Num_Credit_Inquiries      98035 non-null   float64\n",
            " 18  Credit_Mix                100000 non-null  object \n",
            " 19  Outstanding_Debt          100000 non-null  object \n",
            " 20  Credit_Utilization_Ratio  100000 non-null  float64\n",
            " 21  Credit_History_Age        90970 non-null   object \n",
            " 22  Payment_of_Min_Amount     100000 non-null  object \n",
            " 23  Total_EMI_per_month       100000 non-null  float64\n",
            " 24  Amount_invested_monthly   95521 non-null   object \n",
            " 25  Payment_Behaviour         100000 non-null  object \n",
            " 26  Monthly_Balance           98800 non-null   object \n",
            " 27  Credit_Score              100000 non-null  object \n",
            "dtypes: float64(4), int64(4), object(20)\n",
            "memory usage: 21.4+ MB\n"
          ]
        }
      ],
      "source": [
        "# Looks like a lot of data not in the right format. Let's fix it!\n",
        "\n",
        "df.info()"
      ]
    },
    {
      "cell_type": "code",
      "execution_count": 8,
      "metadata": {
        "colab": {
          "base_uri": "https://localhost:8080/"
        },
        "id": "Vj2ox-lN5Scz",
        "outputId": "ee727a61-2d1a-4f56-986f-fb84c372d6d1"
      },
      "outputs": [
        {
          "output_type": "stream",
          "name": "stdout",
          "text": [
            "Name                        9985\n",
            "Monthly_Inhand_Salary      15002\n",
            "Type_of_Loan               11408\n",
            "Num_of_Delayed_Payment      7002\n",
            "Num_Credit_Inquiries        1965\n",
            "Credit_History_Age          9030\n",
            "Amount_invested_monthly     4479\n",
            "Monthly_Balance             1200\n",
            "dtype: int64\n"
          ]
        }
      ],
      "source": [
        "missing_per_column = df.isnull().sum()\n",
        "print(missing_per_column[missing_per_column > 0])"
      ]
    },
    {
      "cell_type": "markdown",
      "metadata": {
        "id": "e1KEyJqUSNpf"
      },
      "source": [
        "    There are a lot of missplaced symbols not related to data which will affect training model. Let's do some magic to adjust form"
      ]
    },
    {
      "cell_type": "markdown",
      "metadata": {
        "id": "pjnNgE2_SNpf"
      },
      "source": [
        "\n",
        "\n",
        "```\n",
        "# This is formatted as code\n",
        "```\n",
        "\n",
        "<a id=\"adjust-data-format\"></a>\n",
        "## 3.1 📚 Adjust Data Format (+ Entry)"
      ]
    },
    {
      "cell_type": "markdown",
      "metadata": {
        "id": "3y1CJ4chSNpf"
      },
      "source": [
        "    Age / Loans / Delayed Payments\n"
      ]
    },
    {
      "cell_type": "code",
      "execution_count": 9,
      "metadata": {
        "id": "EYC144UCSNpf"
      },
      "outputs": [],
      "source": [
        "# That's a tricky one. I loop with extending code, so it solve Data Entry and Data Format issues at once.\n",
        "for x in ['Age', 'Num_of_Loan', 'Num_of_Delayed_Payment']:\n",
        "    df[x] = df[x].fillna('0').str.extract('(\\d+)').astype(float).astype(int)\n",
        "\n"
      ]
    },
    {
      "cell_type": "markdown",
      "metadata": {
        "id": "uCYb_UyYSNpf"
      },
      "source": [
        "    Annual Income"
      ]
    },
    {
      "cell_type": "code",
      "execution_count": 10,
      "metadata": {
        "colab": {
          "base_uri": "https://localhost:8080/",
          "height": 36
        },
        "id": "Ihbx-OCgdW9O",
        "outputId": "dbba058f-589a-4928-a3ac-de3781cbe9ff"
      },
      "outputs": [
        {
          "output_type": "execute_result",
          "data": {
            "text/plain": [
              "'10001727.0'"
            ],
            "application/vnd.google.colaboratory.intrinsic+json": {
              "type": "string"
            }
          },
          "metadata": {},
          "execution_count": 10
        }
      ],
      "source": [
        "df['Annual_Income'].min()\n"
      ]
    },
    {
      "cell_type": "code",
      "execution_count": 11,
      "metadata": {
        "id": "fiXQUJpwSNpf"
      },
      "outputs": [],
      "source": [
        "df['Annual_Income'] = df['Annual_Income'].str.replace(r'[^0-9.]', '', regex=True)\n",
        "df['Annual_Income'] = df['Annual_Income'].astype(float)\n"
      ]
    },
    {
      "cell_type": "markdown",
      "metadata": {
        "id": "Iq57XwmRSNpf"
      },
      "source": [
        "    Credit Limit"
      ]
    },
    {
      "cell_type": "code",
      "execution_count": 12,
      "metadata": {
        "id": "6jAzDd2fSNpf"
      },
      "outputs": [],
      "source": [
        "# Each column has it's own 'thing', which keep showing me errors. So I will step by step get rid of mistakes until achieving appropriate conditions\n",
        "\n",
        "df['Changed_Credit_Limit'] = df['Changed_Credit_Limit'].replace('_', np.nan)\n",
        "df['Changed_Credit_Limit'] = pd.to_numeric(df['Changed_Credit_Limit'], errors='coerce')\n",
        "df['Changed_Credit_Limit'] = df['Changed_Credit_Limit'].fillna(0)"
      ]
    },
    {
      "cell_type": "markdown",
      "metadata": {
        "id": "GG556NntSNpf"
      },
      "source": [
        "    Outstanding Debt"
      ]
    },
    {
      "cell_type": "code",
      "execution_count": 13,
      "metadata": {
        "id": "hNE91AXKSNpf"
      },
      "outputs": [],
      "source": [
        "# As the previous one, here I am dealing with non-numeric values. Conver them into float, ignoring errors. And replacing NaN values with 0\n",
        "\n",
        "df['Outstanding_Debt'] = df['Outstanding_Debt'].astype(str)\n",
        "df['Outstanding_Debt'] = df['Outstanding_Debt'].str.replace(r'[^0-9.]', '', regex=True)\n",
        "df['Outstanding_Debt'] = pd.to_numeric(df['Outstanding_Debt'], errors='coerce')\n",
        "df['Outstanding_Debt'] = df['Outstanding_Debt'].fillna(0)"
      ]
    },
    {
      "cell_type": "markdown",
      "metadata": {
        "id": "SYo8PIh6SNpf"
      },
      "source": [
        "    Invested Monthly"
      ]
    },
    {
      "cell_type": "code",
      "execution_count": 14,
      "metadata": {
        "id": "WnRTHBYOSNpf"
      },
      "outputs": [],
      "source": [
        "# Same but handling more errors\n",
        "\n",
        "df['Amount_invested_monthly'] = df['Amount_invested_monthly'].astype(str)\n",
        "df['Amount_invested_monthly'] = df['Amount_invested_monthly'].replace('', '0')\n",
        "df['Amount_invested_monthly'] = df['Amount_invested_monthly'].str.replace(r'[^0-9.]', '')\n",
        "df['Amount_invested_monthly'] = pd.to_numeric(df['Amount_invested_monthly'], errors='coerce')\n",
        "df['Amount_invested_monthly'] = df['Amount_invested_monthly'].fillna(0)"
      ]
    },
    {
      "cell_type": "markdown",
      "metadata": {
        "id": "HQhpiMVOSNpf"
      },
      "source": [
        "    Monthly Balance"
      ]
    },
    {
      "cell_type": "code",
      "execution_count": 15,
      "metadata": {
        "id": "l_t93gIrSNpf"
      },
      "outputs": [],
      "source": [
        "df['Monthly_Balance'] = df['Monthly_Balance'].astype(str)\n",
        "df['Monthly_Balance'] = df['Monthly_Balance'].str.replace(r'[^0-9.-]+', '')\n",
        "df['Monthly_Balance'] = pd.to_numeric(df['Monthly_Balance'], errors='coerce')\n",
        "df['Monthly_Balance'] = df['Monthly_Balance'].fillna(0)"
      ]
    },
    {
      "cell_type": "markdown",
      "metadata": {
        "id": "9MzJHiY0SNpf"
      },
      "source": [
        "    Credit History Age"
      ]
    },
    {
      "cell_type": "code",
      "execution_count": 16,
      "metadata": {
        "id": "rUNJGXktSNpf"
      },
      "outputs": [],
      "source": [
        "# Covert Credit History Age into Months for better model construction\n",
        "\n",
        "def parse_years_and_months(age):\n",
        "    if isinstance(age, str):\n",
        "        age_parts = age.split(' Years and ')\n",
        "        years = int(age_parts[0]) if 'Years' in age else 0\n",
        "        months_str = age_parts[1].split(' Months')[0] if 'Months' in age_parts[1] else '0'\n",
        "        months = int(months_str)\n",
        "        total_months = years * 12 + months\n",
        "        return total_months\n",
        "    else:\n",
        "        return 0\n",
        "\n",
        "df['Credit_History_Age_Months'] = df['Credit_History_Age'].apply(parse_years_and_months)"
      ]
    },
    {
      "cell_type": "markdown",
      "metadata": {
        "id": "_HKmRZc1SNpf"
      },
      "source": [
        "<a id=\"duplicates\"></a>\n",
        "## 3.2 👥 Dublicates"
      ]
    },
    {
      "cell_type": "code",
      "execution_count": 17,
      "metadata": {
        "colab": {
          "base_uri": "https://localhost:8080/"
        },
        "id": "o8am_GRkSNpf",
        "outputId": "43025834-75ed-461e-d8d7-c3d8b2623b67"
      },
      "outputs": [
        {
          "output_type": "stream",
          "name": "stdout",
          "text": [
            "There are no duplicates 👌\n"
          ]
        }
      ],
      "source": [
        "duplicates = df[df.duplicated()]\n",
        "num_duplicates = duplicates.shape[0]\n",
        "\n",
        "if num_duplicates == 0:\n",
        "    print(\"There are no duplicates 👌\")\n",
        "else:\n",
        "    print(\"There are\", num_duplicates, \"duplicates.\")"
      ]
    },
    {
      "cell_type": "markdown",
      "metadata": {
        "id": "iIlzNhkgSNpf"
      },
      "source": [
        "## 3.3 ⚖️ Data Scaling\n",
        "<a id=\"data-scaling\"></a>\n"
      ]
    },
    {
      "cell_type": "code",
      "execution_count": 18,
      "metadata": {
        "colab": {
          "base_uri": "https://localhost:8080/",
          "height": 582
        },
        "id": "Jhp0DuTwSNpf",
        "outputId": "54f0ba62-d3ee-4347-da6d-eb7b969a9750"
      },
      "outputs": [
        {
          "output_type": "execute_result",
          "data": {
            "text/plain": [
              "                              count           mean           std          min  \\\n",
              "Age                        100000.0     119.509700  6.847573e+02    14.000000   \n",
              "Annual_Income              100000.0  176415.701298  1.429618e+06  7005.930000   \n",
              "Monthly_Inhand_Salary       84998.0    4194.170850  3.183686e+03   303.645417   \n",
              "Num_Bank_Accounts          100000.0      17.091280  1.174048e+02    -1.000000   \n",
              "Num_Credit_Card            100000.0      22.474430  1.290574e+02     0.000000   \n",
              "Interest_Rate              100000.0      72.466040  4.664226e+02     1.000000   \n",
              "Num_of_Loan                100000.0      10.761960  6.178993e+01     0.000000   \n",
              "Delay_from_due_date        100000.0      21.068780  1.486010e+01    -5.000000   \n",
              "Num_of_Delayed_Payment     100000.0      28.779410  2.181148e+02     0.000000   \n",
              "Changed_Credit_Limit       100000.0      10.171791  6.880628e+00    -6.490000   \n",
              "Num_Credit_Inquiries        98035.0      27.754251  1.931773e+02     0.000000   \n",
              "Outstanding_Debt           100000.0    1426.220376  1.155129e+03     0.230000   \n",
              "Credit_Utilization_Ratio   100000.0      32.285173  5.116875e+00    20.000000   \n",
              "Total_EMI_per_month        100000.0    1403.118217  8.306041e+03     0.000000   \n",
              "Amount_invested_monthly    100000.0     178.363270  1.984724e+02     0.000000   \n",
              "Monthly_Balance            100000.0     397.684413  2.171320e+02     0.000000   \n",
              "Credit_History_Age_Months  100000.0     201.221460  1.143207e+02     0.000000   \n",
              "\n",
              "                                    25%           50%           75%  \\\n",
              "Age                           25.000000     34.000000     42.000000   \n",
              "Annual_Income              19457.500000  37578.610000  72790.920000   \n",
              "Monthly_Inhand_Salary       1625.568229   3093.745000   5957.448333   \n",
              "Num_Bank_Accounts              3.000000      6.000000      7.000000   \n",
              "Num_Credit_Card                4.000000      5.000000      7.000000   \n",
              "Interest_Rate                  8.000000     13.000000     20.000000   \n",
              "Num_of_Loan                    2.000000      3.000000      6.000000   \n",
              "Delay_from_due_date           10.000000     18.000000     28.000000   \n",
              "Num_of_Delayed_Payment         8.000000     13.000000     18.000000   \n",
              "Changed_Credit_Limit           4.970000      9.250000     14.660000   \n",
              "Num_Credit_Inquiries           3.000000      6.000000      9.000000   \n",
              "Outstanding_Debt             566.072500   1166.155000   1945.962500   \n",
              "Credit_Utilization_Ratio      28.052567     32.305784     36.496663   \n",
              "Total_EMI_per_month           30.306660     69.249473    161.224249   \n",
              "Amount_invested_monthly       58.325837    116.545252    220.039055   \n",
              "Monthly_Balance              267.871374    334.806633    467.670597   \n",
              "Credit_History_Age_Months    114.000000    208.000000    292.000000   \n",
              "\n",
              "                                    max  \n",
              "Age                        8.698000e+03  \n",
              "Annual_Income              2.419806e+07  \n",
              "Monthly_Inhand_Salary      1.520463e+04  \n",
              "Num_Bank_Accounts          1.798000e+03  \n",
              "Num_Credit_Card            1.499000e+03  \n",
              "Interest_Rate              5.797000e+03  \n",
              "Num_of_Loan                1.496000e+03  \n",
              "Delay_from_due_date        6.700000e+01  \n",
              "Num_of_Delayed_Payment     4.397000e+03  \n",
              "Changed_Credit_Limit       3.697000e+01  \n",
              "Num_Credit_Inquiries       2.597000e+03  \n",
              "Outstanding_Debt           4.998070e+03  \n",
              "Credit_Utilization_Ratio   5.000000e+01  \n",
              "Total_EMI_per_month        8.233100e+04  \n",
              "Amount_invested_monthly    1.977326e+03  \n",
              "Monthly_Balance            1.602041e+03  \n",
              "Credit_History_Age_Months  4.040000e+02  "
            ],
            "text/html": [
              "\n",
              "  <div id=\"df-492f5a46-a341-488b-9a6e-ec0ec3078116\" class=\"colab-df-container\">\n",
              "    <div>\n",
              "<style scoped>\n",
              "    .dataframe tbody tr th:only-of-type {\n",
              "        vertical-align: middle;\n",
              "    }\n",
              "\n",
              "    .dataframe tbody tr th {\n",
              "        vertical-align: top;\n",
              "    }\n",
              "\n",
              "    .dataframe thead th {\n",
              "        text-align: right;\n",
              "    }\n",
              "</style>\n",
              "<table border=\"1\" class=\"dataframe\">\n",
              "  <thead>\n",
              "    <tr style=\"text-align: right;\">\n",
              "      <th></th>\n",
              "      <th>count</th>\n",
              "      <th>mean</th>\n",
              "      <th>std</th>\n",
              "      <th>min</th>\n",
              "      <th>25%</th>\n",
              "      <th>50%</th>\n",
              "      <th>75%</th>\n",
              "      <th>max</th>\n",
              "    </tr>\n",
              "  </thead>\n",
              "  <tbody>\n",
              "    <tr>\n",
              "      <th>Age</th>\n",
              "      <td>100000.0</td>\n",
              "      <td>119.509700</td>\n",
              "      <td>6.847573e+02</td>\n",
              "      <td>14.000000</td>\n",
              "      <td>25.000000</td>\n",
              "      <td>34.000000</td>\n",
              "      <td>42.000000</td>\n",
              "      <td>8.698000e+03</td>\n",
              "    </tr>\n",
              "    <tr>\n",
              "      <th>Annual_Income</th>\n",
              "      <td>100000.0</td>\n",
              "      <td>176415.701298</td>\n",
              "      <td>1.429618e+06</td>\n",
              "      <td>7005.930000</td>\n",
              "      <td>19457.500000</td>\n",
              "      <td>37578.610000</td>\n",
              "      <td>72790.920000</td>\n",
              "      <td>2.419806e+07</td>\n",
              "    </tr>\n",
              "    <tr>\n",
              "      <th>Monthly_Inhand_Salary</th>\n",
              "      <td>84998.0</td>\n",
              "      <td>4194.170850</td>\n",
              "      <td>3.183686e+03</td>\n",
              "      <td>303.645417</td>\n",
              "      <td>1625.568229</td>\n",
              "      <td>3093.745000</td>\n",
              "      <td>5957.448333</td>\n",
              "      <td>1.520463e+04</td>\n",
              "    </tr>\n",
              "    <tr>\n",
              "      <th>Num_Bank_Accounts</th>\n",
              "      <td>100000.0</td>\n",
              "      <td>17.091280</td>\n",
              "      <td>1.174048e+02</td>\n",
              "      <td>-1.000000</td>\n",
              "      <td>3.000000</td>\n",
              "      <td>6.000000</td>\n",
              "      <td>7.000000</td>\n",
              "      <td>1.798000e+03</td>\n",
              "    </tr>\n",
              "    <tr>\n",
              "      <th>Num_Credit_Card</th>\n",
              "      <td>100000.0</td>\n",
              "      <td>22.474430</td>\n",
              "      <td>1.290574e+02</td>\n",
              "      <td>0.000000</td>\n",
              "      <td>4.000000</td>\n",
              "      <td>5.000000</td>\n",
              "      <td>7.000000</td>\n",
              "      <td>1.499000e+03</td>\n",
              "    </tr>\n",
              "    <tr>\n",
              "      <th>Interest_Rate</th>\n",
              "      <td>100000.0</td>\n",
              "      <td>72.466040</td>\n",
              "      <td>4.664226e+02</td>\n",
              "      <td>1.000000</td>\n",
              "      <td>8.000000</td>\n",
              "      <td>13.000000</td>\n",
              "      <td>20.000000</td>\n",
              "      <td>5.797000e+03</td>\n",
              "    </tr>\n",
              "    <tr>\n",
              "      <th>Num_of_Loan</th>\n",
              "      <td>100000.0</td>\n",
              "      <td>10.761960</td>\n",
              "      <td>6.178993e+01</td>\n",
              "      <td>0.000000</td>\n",
              "      <td>2.000000</td>\n",
              "      <td>3.000000</td>\n",
              "      <td>6.000000</td>\n",
              "      <td>1.496000e+03</td>\n",
              "    </tr>\n",
              "    <tr>\n",
              "      <th>Delay_from_due_date</th>\n",
              "      <td>100000.0</td>\n",
              "      <td>21.068780</td>\n",
              "      <td>1.486010e+01</td>\n",
              "      <td>-5.000000</td>\n",
              "      <td>10.000000</td>\n",
              "      <td>18.000000</td>\n",
              "      <td>28.000000</td>\n",
              "      <td>6.700000e+01</td>\n",
              "    </tr>\n",
              "    <tr>\n",
              "      <th>Num_of_Delayed_Payment</th>\n",
              "      <td>100000.0</td>\n",
              "      <td>28.779410</td>\n",
              "      <td>2.181148e+02</td>\n",
              "      <td>0.000000</td>\n",
              "      <td>8.000000</td>\n",
              "      <td>13.000000</td>\n",
              "      <td>18.000000</td>\n",
              "      <td>4.397000e+03</td>\n",
              "    </tr>\n",
              "    <tr>\n",
              "      <th>Changed_Credit_Limit</th>\n",
              "      <td>100000.0</td>\n",
              "      <td>10.171791</td>\n",
              "      <td>6.880628e+00</td>\n",
              "      <td>-6.490000</td>\n",
              "      <td>4.970000</td>\n",
              "      <td>9.250000</td>\n",
              "      <td>14.660000</td>\n",
              "      <td>3.697000e+01</td>\n",
              "    </tr>\n",
              "    <tr>\n",
              "      <th>Num_Credit_Inquiries</th>\n",
              "      <td>98035.0</td>\n",
              "      <td>27.754251</td>\n",
              "      <td>1.931773e+02</td>\n",
              "      <td>0.000000</td>\n",
              "      <td>3.000000</td>\n",
              "      <td>6.000000</td>\n",
              "      <td>9.000000</td>\n",
              "      <td>2.597000e+03</td>\n",
              "    </tr>\n",
              "    <tr>\n",
              "      <th>Outstanding_Debt</th>\n",
              "      <td>100000.0</td>\n",
              "      <td>1426.220376</td>\n",
              "      <td>1.155129e+03</td>\n",
              "      <td>0.230000</td>\n",
              "      <td>566.072500</td>\n",
              "      <td>1166.155000</td>\n",
              "      <td>1945.962500</td>\n",
              "      <td>4.998070e+03</td>\n",
              "    </tr>\n",
              "    <tr>\n",
              "      <th>Credit_Utilization_Ratio</th>\n",
              "      <td>100000.0</td>\n",
              "      <td>32.285173</td>\n",
              "      <td>5.116875e+00</td>\n",
              "      <td>20.000000</td>\n",
              "      <td>28.052567</td>\n",
              "      <td>32.305784</td>\n",
              "      <td>36.496663</td>\n",
              "      <td>5.000000e+01</td>\n",
              "    </tr>\n",
              "    <tr>\n",
              "      <th>Total_EMI_per_month</th>\n",
              "      <td>100000.0</td>\n",
              "      <td>1403.118217</td>\n",
              "      <td>8.306041e+03</td>\n",
              "      <td>0.000000</td>\n",
              "      <td>30.306660</td>\n",
              "      <td>69.249473</td>\n",
              "      <td>161.224249</td>\n",
              "      <td>8.233100e+04</td>\n",
              "    </tr>\n",
              "    <tr>\n",
              "      <th>Amount_invested_monthly</th>\n",
              "      <td>100000.0</td>\n",
              "      <td>178.363270</td>\n",
              "      <td>1.984724e+02</td>\n",
              "      <td>0.000000</td>\n",
              "      <td>58.325837</td>\n",
              "      <td>116.545252</td>\n",
              "      <td>220.039055</td>\n",
              "      <td>1.977326e+03</td>\n",
              "    </tr>\n",
              "    <tr>\n",
              "      <th>Monthly_Balance</th>\n",
              "      <td>100000.0</td>\n",
              "      <td>397.684413</td>\n",
              "      <td>2.171320e+02</td>\n",
              "      <td>0.000000</td>\n",
              "      <td>267.871374</td>\n",
              "      <td>334.806633</td>\n",
              "      <td>467.670597</td>\n",
              "      <td>1.602041e+03</td>\n",
              "    </tr>\n",
              "    <tr>\n",
              "      <th>Credit_History_Age_Months</th>\n",
              "      <td>100000.0</td>\n",
              "      <td>201.221460</td>\n",
              "      <td>1.143207e+02</td>\n",
              "      <td>0.000000</td>\n",
              "      <td>114.000000</td>\n",
              "      <td>208.000000</td>\n",
              "      <td>292.000000</td>\n",
              "      <td>4.040000e+02</td>\n",
              "    </tr>\n",
              "  </tbody>\n",
              "</table>\n",
              "</div>\n",
              "    <div class=\"colab-df-buttons\">\n",
              "\n",
              "  <div class=\"colab-df-container\">\n",
              "    <button class=\"colab-df-convert\" onclick=\"convertToInteractive('df-492f5a46-a341-488b-9a6e-ec0ec3078116')\"\n",
              "            title=\"Convert this dataframe to an interactive table.\"\n",
              "            style=\"display:none;\">\n",
              "\n",
              "  <svg xmlns=\"http://www.w3.org/2000/svg\" height=\"24px\" viewBox=\"0 -960 960 960\">\n",
              "    <path d=\"M120-120v-720h720v720H120Zm60-500h600v-160H180v160Zm220 220h160v-160H400v160Zm0 220h160v-160H400v160ZM180-400h160v-160H180v160Zm440 0h160v-160H620v160ZM180-180h160v-160H180v160Zm440 0h160v-160H620v160Z\"/>\n",
              "  </svg>\n",
              "    </button>\n",
              "\n",
              "  <style>\n",
              "    .colab-df-container {\n",
              "      display:flex;\n",
              "      gap: 12px;\n",
              "    }\n",
              "\n",
              "    .colab-df-convert {\n",
              "      background-color: #E8F0FE;\n",
              "      border: none;\n",
              "      border-radius: 50%;\n",
              "      cursor: pointer;\n",
              "      display: none;\n",
              "      fill: #1967D2;\n",
              "      height: 32px;\n",
              "      padding: 0 0 0 0;\n",
              "      width: 32px;\n",
              "    }\n",
              "\n",
              "    .colab-df-convert:hover {\n",
              "      background-color: #E2EBFA;\n",
              "      box-shadow: 0px 1px 2px rgba(60, 64, 67, 0.3), 0px 1px 3px 1px rgba(60, 64, 67, 0.15);\n",
              "      fill: #174EA6;\n",
              "    }\n",
              "\n",
              "    .colab-df-buttons div {\n",
              "      margin-bottom: 4px;\n",
              "    }\n",
              "\n",
              "    [theme=dark] .colab-df-convert {\n",
              "      background-color: #3B4455;\n",
              "      fill: #D2E3FC;\n",
              "    }\n",
              "\n",
              "    [theme=dark] .colab-df-convert:hover {\n",
              "      background-color: #434B5C;\n",
              "      box-shadow: 0px 1px 3px 1px rgba(0, 0, 0, 0.15);\n",
              "      filter: drop-shadow(0px 1px 2px rgba(0, 0, 0, 0.3));\n",
              "      fill: #FFFFFF;\n",
              "    }\n",
              "  </style>\n",
              "\n",
              "    <script>\n",
              "      const buttonEl =\n",
              "        document.querySelector('#df-492f5a46-a341-488b-9a6e-ec0ec3078116 button.colab-df-convert');\n",
              "      buttonEl.style.display =\n",
              "        google.colab.kernel.accessAllowed ? 'block' : 'none';\n",
              "\n",
              "      async function convertToInteractive(key) {\n",
              "        const element = document.querySelector('#df-492f5a46-a341-488b-9a6e-ec0ec3078116');\n",
              "        const dataTable =\n",
              "          await google.colab.kernel.invokeFunction('convertToInteractive',\n",
              "                                                    [key], {});\n",
              "        if (!dataTable) return;\n",
              "\n",
              "        const docLinkHtml = 'Like what you see? Visit the ' +\n",
              "          '<a target=\"_blank\" href=https://colab.research.google.com/notebooks/data_table.ipynb>data table notebook</a>'\n",
              "          + ' to learn more about interactive tables.';\n",
              "        element.innerHTML = '';\n",
              "        dataTable['output_type'] = 'display_data';\n",
              "        await google.colab.output.renderOutput(dataTable, element);\n",
              "        const docLink = document.createElement('div');\n",
              "        docLink.innerHTML = docLinkHtml;\n",
              "        element.appendChild(docLink);\n",
              "      }\n",
              "    </script>\n",
              "  </div>\n",
              "\n",
              "\n",
              "    <div id=\"df-b3c6b2b9-85f3-4e98-82c2-d99b4a9b3beb\">\n",
              "      <button class=\"colab-df-quickchart\" onclick=\"quickchart('df-b3c6b2b9-85f3-4e98-82c2-d99b4a9b3beb')\"\n",
              "                title=\"Suggest charts\"\n",
              "                style=\"display:none;\">\n",
              "\n",
              "<svg xmlns=\"http://www.w3.org/2000/svg\" height=\"24px\"viewBox=\"0 0 24 24\"\n",
              "     width=\"24px\">\n",
              "    <g>\n",
              "        <path d=\"M19 3H5c-1.1 0-2 .9-2 2v14c0 1.1.9 2 2 2h14c1.1 0 2-.9 2-2V5c0-1.1-.9-2-2-2zM9 17H7v-7h2v7zm4 0h-2V7h2v10zm4 0h-2v-4h2v4z\"/>\n",
              "    </g>\n",
              "</svg>\n",
              "      </button>\n",
              "\n",
              "<style>\n",
              "  .colab-df-quickchart {\n",
              "      --bg-color: #E8F0FE;\n",
              "      --fill-color: #1967D2;\n",
              "      --hover-bg-color: #E2EBFA;\n",
              "      --hover-fill-color: #174EA6;\n",
              "      --disabled-fill-color: #AAA;\n",
              "      --disabled-bg-color: #DDD;\n",
              "  }\n",
              "\n",
              "  [theme=dark] .colab-df-quickchart {\n",
              "      --bg-color: #3B4455;\n",
              "      --fill-color: #D2E3FC;\n",
              "      --hover-bg-color: #434B5C;\n",
              "      --hover-fill-color: #FFFFFF;\n",
              "      --disabled-bg-color: #3B4455;\n",
              "      --disabled-fill-color: #666;\n",
              "  }\n",
              "\n",
              "  .colab-df-quickchart {\n",
              "    background-color: var(--bg-color);\n",
              "    border: none;\n",
              "    border-radius: 50%;\n",
              "    cursor: pointer;\n",
              "    display: none;\n",
              "    fill: var(--fill-color);\n",
              "    height: 32px;\n",
              "    padding: 0;\n",
              "    width: 32px;\n",
              "  }\n",
              "\n",
              "  .colab-df-quickchart:hover {\n",
              "    background-color: var(--hover-bg-color);\n",
              "    box-shadow: 0 1px 2px rgba(60, 64, 67, 0.3), 0 1px 3px 1px rgba(60, 64, 67, 0.15);\n",
              "    fill: var(--button-hover-fill-color);\n",
              "  }\n",
              "\n",
              "  .colab-df-quickchart-complete:disabled,\n",
              "  .colab-df-quickchart-complete:disabled:hover {\n",
              "    background-color: var(--disabled-bg-color);\n",
              "    fill: var(--disabled-fill-color);\n",
              "    box-shadow: none;\n",
              "  }\n",
              "\n",
              "  .colab-df-spinner {\n",
              "    border: 2px solid var(--fill-color);\n",
              "    border-color: transparent;\n",
              "    border-bottom-color: var(--fill-color);\n",
              "    animation:\n",
              "      spin 1s steps(1) infinite;\n",
              "  }\n",
              "\n",
              "  @keyframes spin {\n",
              "    0% {\n",
              "      border-color: transparent;\n",
              "      border-bottom-color: var(--fill-color);\n",
              "      border-left-color: var(--fill-color);\n",
              "    }\n",
              "    20% {\n",
              "      border-color: transparent;\n",
              "      border-left-color: var(--fill-color);\n",
              "      border-top-color: var(--fill-color);\n",
              "    }\n",
              "    30% {\n",
              "      border-color: transparent;\n",
              "      border-left-color: var(--fill-color);\n",
              "      border-top-color: var(--fill-color);\n",
              "      border-right-color: var(--fill-color);\n",
              "    }\n",
              "    40% {\n",
              "      border-color: transparent;\n",
              "      border-right-color: var(--fill-color);\n",
              "      border-top-color: var(--fill-color);\n",
              "    }\n",
              "    60% {\n",
              "      border-color: transparent;\n",
              "      border-right-color: var(--fill-color);\n",
              "    }\n",
              "    80% {\n",
              "      border-color: transparent;\n",
              "      border-right-color: var(--fill-color);\n",
              "      border-bottom-color: var(--fill-color);\n",
              "    }\n",
              "    90% {\n",
              "      border-color: transparent;\n",
              "      border-bottom-color: var(--fill-color);\n",
              "    }\n",
              "  }\n",
              "</style>\n",
              "\n",
              "      <script>\n",
              "        async function quickchart(key) {\n",
              "          const quickchartButtonEl =\n",
              "            document.querySelector('#' + key + ' button');\n",
              "          quickchartButtonEl.disabled = true;  // To prevent multiple clicks.\n",
              "          quickchartButtonEl.classList.add('colab-df-spinner');\n",
              "          try {\n",
              "            const charts = await google.colab.kernel.invokeFunction(\n",
              "                'suggestCharts', [key], {});\n",
              "          } catch (error) {\n",
              "            console.error('Error during call to suggestCharts:', error);\n",
              "          }\n",
              "          quickchartButtonEl.classList.remove('colab-df-spinner');\n",
              "          quickchartButtonEl.classList.add('colab-df-quickchart-complete');\n",
              "        }\n",
              "        (() => {\n",
              "          let quickchartButtonEl =\n",
              "            document.querySelector('#df-b3c6b2b9-85f3-4e98-82c2-d99b4a9b3beb button');\n",
              "          quickchartButtonEl.style.display =\n",
              "            google.colab.kernel.accessAllowed ? 'block' : 'none';\n",
              "        })();\n",
              "      </script>\n",
              "    </div>\n",
              "\n",
              "    </div>\n",
              "  </div>\n"
            ],
            "application/vnd.google.colaboratory.intrinsic+json": {
              "type": "dataframe",
              "summary": "{\n  \"name\": \"df\",\n  \"rows\": 17,\n  \"fields\": [\n    {\n      \"column\": \"count\",\n      \"properties\": {\n        \"dtype\": \"number\",\n        \"std\": 3639.944753540021,\n        \"min\": 84998.0,\n        \"max\": 100000.0,\n        \"num_unique_values\": 3,\n        \"samples\": [\n          100000.0,\n          84998.0,\n          98035.0\n        ],\n        \"semantic_type\": \"\",\n        \"description\": \"\"\n      }\n    },\n    {\n      \"column\": \"mean\",\n      \"properties\": {\n        \"dtype\": \"number\",\n        \"std\": 42676.30219708766,\n        \"min\": 10.1717906,\n        \"max\": 176415.70129814997,\n        \"num_unique_values\": 17,\n        \"samples\": [\n          119.5097,\n          176415.70129814997,\n          72.46604\n        ],\n        \"semantic_type\": \"\",\n        \"description\": \"\"\n      }\n    },\n    {\n      \"column\": \"std\",\n      \"properties\": {\n        \"dtype\": \"number\",\n        \"std\": 346510.8911316043,\n        \"min\": 5.116875070150902,\n        \"max\": 1429618.0514141466,\n        \"num_unique_values\": 17,\n        \"samples\": [\n          684.7573134999157,\n          1429618.0514141466,\n          466.4226212217413\n        ],\n        \"semantic_type\": \"\",\n        \"description\": \"\"\n      }\n    },\n    {\n      \"column\": \"min\",\n      \"properties\": {\n        \"dtype\": \"number\",\n        \"std\": 1695.8294490789808,\n        \"min\": -6.49,\n        \"max\": 7005.93,\n        \"num_unique_values\": 10,\n        \"samples\": [\n          0.23,\n          7005.93,\n          1.0\n        ],\n        \"semantic_type\": \"\",\n        \"description\": \"\"\n      }\n    },\n    {\n      \"column\": \"25%\",\n      \"properties\": {\n        \"dtype\": \"number\",\n        \"std\": 4694.521200838325,\n        \"min\": 2.0,\n        \"max\": 19457.5,\n        \"num_unique_values\": 15,\n        \"samples\": [\n          566.0725,\n          30.306660494686994,\n          25.0\n        ],\n        \"semantic_type\": \"\",\n        \"description\": \"\"\n      }\n    },\n    {\n      \"column\": \"50%\",\n      \"properties\": {\n        \"dtype\": \"number\",\n        \"std\": 9069.089149388883,\n        \"min\": 3.0,\n        \"max\": 37578.61,\n        \"num_unique_values\": 15,\n        \"samples\": [\n          1166.155,\n          69.24947329972044,\n          34.0\n        ],\n        \"semantic_type\": \"\",\n        \"description\": \"\"\n      }\n    },\n    {\n      \"column\": \"75%\",\n      \"properties\": {\n        \"dtype\": \"number\",\n        \"std\": 17575.59392250177,\n        \"min\": 6.0,\n        \"max\": 72790.92,\n        \"num_unique_values\": 16,\n        \"samples\": [\n          42.0,\n          72790.92,\n          6.0\n        ],\n        \"semantic_type\": \"\",\n        \"description\": \"\"\n      }\n    },\n    {\n      \"column\": \"max\",\n      \"properties\": {\n        \"dtype\": \"number\",\n        \"std\": 5866909.108628571,\n        \"min\": 36.97,\n        \"max\": 24198062.0,\n        \"num_unique_values\": 17,\n        \"samples\": [\n          8698.0,\n          24198062.0,\n          5797.0\n        ],\n        \"semantic_type\": \"\",\n        \"description\": \"\"\n      }\n    }\n  ]\n}"
            }
          },
          "metadata": {},
          "execution_count": 18
        }
      ],
      "source": [
        "df.describe().T\n"
      ]
    },
    {
      "cell_type": "code",
      "execution_count": 19,
      "metadata": {
        "id": "MT6eFG91SNpf"
      },
      "outputs": [],
      "source": [
        "# Removing rediculous top outliers (2%)\n",
        "\n",
        "selected_columns_train = df[['Num_Bank_Accounts', 'Interest_Rate', 'Annual_Income', 'Num_of_Delayed_Payment', 'Num_Credit_Inquiries', 'Total_EMI_per_month', 'Num_of_Loan', 'Num_Credit_Card']]\n",
        "\n",
        "percentile_threshold = 0.98\n",
        "percentiles = selected_columns_train.quantile(percentile_threshold)\n",
        "\n",
        "for column in selected_columns_train.columns:\n",
        "    df = df[df[column] <= percentiles[column]]"
      ]
    },
    {
      "cell_type": "code",
      "execution_count": 20,
      "metadata": {
        "colab": {
          "base_uri": "https://localhost:8080/",
          "height": 582
        },
        "id": "tQXiKtrcSNpf",
        "outputId": "ffc84ae8-846f-4f6e-8045-c7a6ea94f9b9"
      },
      "outputs": [
        {
          "output_type": "execute_result",
          "data": {
            "text/plain": [
              "                             count          mean           std          min  \\\n",
              "Age                        85806.0    120.486003    690.067511    14.000000   \n",
              "Annual_Income              85806.0  49378.620726  36478.390299  7005.930000   \n",
              "Monthly_Inhand_Salary      72894.0   4105.781241   3036.319177   303.645417   \n",
              "Num_Bank_Accounts          85806.0      5.372759      2.585031    -1.000000   \n",
              "Num_Credit_Card            85806.0      5.779048      5.727016     0.000000   \n",
              "Interest_Rate              85806.0     14.551174      8.824173     1.000000   \n",
              "Num_of_Loan                85806.0      7.318381     18.881665     0.000000   \n",
              "Delay_from_due_date        85806.0     21.033483     14.786223    -5.000000   \n",
              "Num_of_Delayed_Payment     85806.0     12.348321      6.845002     0.000000   \n",
              "Changed_Credit_Limit       85806.0     10.189597      6.867078    -6.490000   \n",
              "Num_Credit_Inquiries       85806.0      5.757558      3.808858     0.000000   \n",
              "Outstanding_Debt           85806.0   1420.471486   1150.336514     0.230000   \n",
              "Credit_Utilization_Ratio   85806.0     32.250542      5.098798    20.000000   \n",
              "Total_EMI_per_month        85806.0    287.201729   1900.010819     0.000000   \n",
              "Amount_invested_monthly    85806.0    174.614986    190.440132     0.000000   \n",
              "Monthly_Balance            85806.0    393.844633    208.552121     0.000000   \n",
              "Credit_History_Age_Months  85806.0    201.374484    114.274695     0.000000   \n",
              "\n",
              "                                    25%           50%           75%  \\\n",
              "Age                           25.000000     34.000000     42.000000   \n",
              "Annual_Income              19294.460000  36780.030000  70825.760000   \n",
              "Monthly_Inhand_Salary       1623.778333   3069.091667   5899.970000   \n",
              "Num_Bank_Accounts              3.000000      6.000000      7.000000   \n",
              "Num_Credit_Card                4.000000      5.000000      7.000000   \n",
              "Interest_Rate                  7.000000     13.000000     20.000000   \n",
              "Num_of_Loan                    2.000000      3.000000      6.000000   \n",
              "Delay_from_due_date           10.000000     18.000000     28.000000   \n",
              "Num_of_Delayed_Payment         8.000000     13.000000     18.000000   \n",
              "Changed_Credit_Limit           4.990000      9.280000     14.710000   \n",
              "Num_Credit_Inquiries           3.000000      5.000000      8.000000   \n",
              "Outstanding_Debt             565.375000   1163.330000   1933.980000   \n",
              "Credit_Utilization_Ratio      28.024589     32.263129     36.468620   \n",
              "Total_EMI_per_month           29.489975     66.648703    148.997495   \n",
              "Amount_invested_monthly       58.040175    115.485412    216.812779   \n",
              "Monthly_Balance              268.094008    334.580384    464.420853   \n",
              "Credit_History_Age_Months    114.000000    209.000000    292.000000   \n",
              "\n",
              "                                     max  \n",
              "Age                          8698.000000  \n",
              "Annual_Income              166837.640000  \n",
              "Monthly_Inhand_Salary       14131.123333  \n",
              "Num_Bank_Accounts              10.000000  \n",
              "Num_Credit_Card               171.000000  \n",
              "Interest_Rate                 128.000000  \n",
              "Num_of_Loan                   100.000000  \n",
              "Delay_from_due_date            67.000000  \n",
              "Num_of_Delayed_Payment         25.000000  \n",
              "Changed_Credit_Limit           36.970000  \n",
              "Num_Credit_Inquiries           16.000000  \n",
              "Outstanding_Debt             4998.070000  \n",
              "Credit_Utilization_Ratio       48.489852  \n",
              "Total_EMI_per_month         29974.000000  \n",
              "Amount_invested_monthly      1775.048037  \n",
              "Monthly_Balance              1497.941923  \n",
              "Credit_History_Age_Months     404.000000  "
            ],
            "text/html": [
              "\n",
              "  <div id=\"df-dcf68dcf-e32f-4c46-a210-3b2527b0522a\" class=\"colab-df-container\">\n",
              "    <div>\n",
              "<style scoped>\n",
              "    .dataframe tbody tr th:only-of-type {\n",
              "        vertical-align: middle;\n",
              "    }\n",
              "\n",
              "    .dataframe tbody tr th {\n",
              "        vertical-align: top;\n",
              "    }\n",
              "\n",
              "    .dataframe thead th {\n",
              "        text-align: right;\n",
              "    }\n",
              "</style>\n",
              "<table border=\"1\" class=\"dataframe\">\n",
              "  <thead>\n",
              "    <tr style=\"text-align: right;\">\n",
              "      <th></th>\n",
              "      <th>count</th>\n",
              "      <th>mean</th>\n",
              "      <th>std</th>\n",
              "      <th>min</th>\n",
              "      <th>25%</th>\n",
              "      <th>50%</th>\n",
              "      <th>75%</th>\n",
              "      <th>max</th>\n",
              "    </tr>\n",
              "  </thead>\n",
              "  <tbody>\n",
              "    <tr>\n",
              "      <th>Age</th>\n",
              "      <td>85806.0</td>\n",
              "      <td>120.486003</td>\n",
              "      <td>690.067511</td>\n",
              "      <td>14.000000</td>\n",
              "      <td>25.000000</td>\n",
              "      <td>34.000000</td>\n",
              "      <td>42.000000</td>\n",
              "      <td>8698.000000</td>\n",
              "    </tr>\n",
              "    <tr>\n",
              "      <th>Annual_Income</th>\n",
              "      <td>85806.0</td>\n",
              "      <td>49378.620726</td>\n",
              "      <td>36478.390299</td>\n",
              "      <td>7005.930000</td>\n",
              "      <td>19294.460000</td>\n",
              "      <td>36780.030000</td>\n",
              "      <td>70825.760000</td>\n",
              "      <td>166837.640000</td>\n",
              "    </tr>\n",
              "    <tr>\n",
              "      <th>Monthly_Inhand_Salary</th>\n",
              "      <td>72894.0</td>\n",
              "      <td>4105.781241</td>\n",
              "      <td>3036.319177</td>\n",
              "      <td>303.645417</td>\n",
              "      <td>1623.778333</td>\n",
              "      <td>3069.091667</td>\n",
              "      <td>5899.970000</td>\n",
              "      <td>14131.123333</td>\n",
              "    </tr>\n",
              "    <tr>\n",
              "      <th>Num_Bank_Accounts</th>\n",
              "      <td>85806.0</td>\n",
              "      <td>5.372759</td>\n",
              "      <td>2.585031</td>\n",
              "      <td>-1.000000</td>\n",
              "      <td>3.000000</td>\n",
              "      <td>6.000000</td>\n",
              "      <td>7.000000</td>\n",
              "      <td>10.000000</td>\n",
              "    </tr>\n",
              "    <tr>\n",
              "      <th>Num_Credit_Card</th>\n",
              "      <td>85806.0</td>\n",
              "      <td>5.779048</td>\n",
              "      <td>5.727016</td>\n",
              "      <td>0.000000</td>\n",
              "      <td>4.000000</td>\n",
              "      <td>5.000000</td>\n",
              "      <td>7.000000</td>\n",
              "      <td>171.000000</td>\n",
              "    </tr>\n",
              "    <tr>\n",
              "      <th>Interest_Rate</th>\n",
              "      <td>85806.0</td>\n",
              "      <td>14.551174</td>\n",
              "      <td>8.824173</td>\n",
              "      <td>1.000000</td>\n",
              "      <td>7.000000</td>\n",
              "      <td>13.000000</td>\n",
              "      <td>20.000000</td>\n",
              "      <td>128.000000</td>\n",
              "    </tr>\n",
              "    <tr>\n",
              "      <th>Num_of_Loan</th>\n",
              "      <td>85806.0</td>\n",
              "      <td>7.318381</td>\n",
              "      <td>18.881665</td>\n",
              "      <td>0.000000</td>\n",
              "      <td>2.000000</td>\n",
              "      <td>3.000000</td>\n",
              "      <td>6.000000</td>\n",
              "      <td>100.000000</td>\n",
              "    </tr>\n",
              "    <tr>\n",
              "      <th>Delay_from_due_date</th>\n",
              "      <td>85806.0</td>\n",
              "      <td>21.033483</td>\n",
              "      <td>14.786223</td>\n",
              "      <td>-5.000000</td>\n",
              "      <td>10.000000</td>\n",
              "      <td>18.000000</td>\n",
              "      <td>28.000000</td>\n",
              "      <td>67.000000</td>\n",
              "    </tr>\n",
              "    <tr>\n",
              "      <th>Num_of_Delayed_Payment</th>\n",
              "      <td>85806.0</td>\n",
              "      <td>12.348321</td>\n",
              "      <td>6.845002</td>\n",
              "      <td>0.000000</td>\n",
              "      <td>8.000000</td>\n",
              "      <td>13.000000</td>\n",
              "      <td>18.000000</td>\n",
              "      <td>25.000000</td>\n",
              "    </tr>\n",
              "    <tr>\n",
              "      <th>Changed_Credit_Limit</th>\n",
              "      <td>85806.0</td>\n",
              "      <td>10.189597</td>\n",
              "      <td>6.867078</td>\n",
              "      <td>-6.490000</td>\n",
              "      <td>4.990000</td>\n",
              "      <td>9.280000</td>\n",
              "      <td>14.710000</td>\n",
              "      <td>36.970000</td>\n",
              "    </tr>\n",
              "    <tr>\n",
              "      <th>Num_Credit_Inquiries</th>\n",
              "      <td>85806.0</td>\n",
              "      <td>5.757558</td>\n",
              "      <td>3.808858</td>\n",
              "      <td>0.000000</td>\n",
              "      <td>3.000000</td>\n",
              "      <td>5.000000</td>\n",
              "      <td>8.000000</td>\n",
              "      <td>16.000000</td>\n",
              "    </tr>\n",
              "    <tr>\n",
              "      <th>Outstanding_Debt</th>\n",
              "      <td>85806.0</td>\n",
              "      <td>1420.471486</td>\n",
              "      <td>1150.336514</td>\n",
              "      <td>0.230000</td>\n",
              "      <td>565.375000</td>\n",
              "      <td>1163.330000</td>\n",
              "      <td>1933.980000</td>\n",
              "      <td>4998.070000</td>\n",
              "    </tr>\n",
              "    <tr>\n",
              "      <th>Credit_Utilization_Ratio</th>\n",
              "      <td>85806.0</td>\n",
              "      <td>32.250542</td>\n",
              "      <td>5.098798</td>\n",
              "      <td>20.000000</td>\n",
              "      <td>28.024589</td>\n",
              "      <td>32.263129</td>\n",
              "      <td>36.468620</td>\n",
              "      <td>48.489852</td>\n",
              "    </tr>\n",
              "    <tr>\n",
              "      <th>Total_EMI_per_month</th>\n",
              "      <td>85806.0</td>\n",
              "      <td>287.201729</td>\n",
              "      <td>1900.010819</td>\n",
              "      <td>0.000000</td>\n",
              "      <td>29.489975</td>\n",
              "      <td>66.648703</td>\n",
              "      <td>148.997495</td>\n",
              "      <td>29974.000000</td>\n",
              "    </tr>\n",
              "    <tr>\n",
              "      <th>Amount_invested_monthly</th>\n",
              "      <td>85806.0</td>\n",
              "      <td>174.614986</td>\n",
              "      <td>190.440132</td>\n",
              "      <td>0.000000</td>\n",
              "      <td>58.040175</td>\n",
              "      <td>115.485412</td>\n",
              "      <td>216.812779</td>\n",
              "      <td>1775.048037</td>\n",
              "    </tr>\n",
              "    <tr>\n",
              "      <th>Monthly_Balance</th>\n",
              "      <td>85806.0</td>\n",
              "      <td>393.844633</td>\n",
              "      <td>208.552121</td>\n",
              "      <td>0.000000</td>\n",
              "      <td>268.094008</td>\n",
              "      <td>334.580384</td>\n",
              "      <td>464.420853</td>\n",
              "      <td>1497.941923</td>\n",
              "    </tr>\n",
              "    <tr>\n",
              "      <th>Credit_History_Age_Months</th>\n",
              "      <td>85806.0</td>\n",
              "      <td>201.374484</td>\n",
              "      <td>114.274695</td>\n",
              "      <td>0.000000</td>\n",
              "      <td>114.000000</td>\n",
              "      <td>209.000000</td>\n",
              "      <td>292.000000</td>\n",
              "      <td>404.000000</td>\n",
              "    </tr>\n",
              "  </tbody>\n",
              "</table>\n",
              "</div>\n",
              "    <div class=\"colab-df-buttons\">\n",
              "\n",
              "  <div class=\"colab-df-container\">\n",
              "    <button class=\"colab-df-convert\" onclick=\"convertToInteractive('df-dcf68dcf-e32f-4c46-a210-3b2527b0522a')\"\n",
              "            title=\"Convert this dataframe to an interactive table.\"\n",
              "            style=\"display:none;\">\n",
              "\n",
              "  <svg xmlns=\"http://www.w3.org/2000/svg\" height=\"24px\" viewBox=\"0 -960 960 960\">\n",
              "    <path d=\"M120-120v-720h720v720H120Zm60-500h600v-160H180v160Zm220 220h160v-160H400v160Zm0 220h160v-160H400v160ZM180-400h160v-160H180v160Zm440 0h160v-160H620v160ZM180-180h160v-160H180v160Zm440 0h160v-160H620v160Z\"/>\n",
              "  </svg>\n",
              "    </button>\n",
              "\n",
              "  <style>\n",
              "    .colab-df-container {\n",
              "      display:flex;\n",
              "      gap: 12px;\n",
              "    }\n",
              "\n",
              "    .colab-df-convert {\n",
              "      background-color: #E8F0FE;\n",
              "      border: none;\n",
              "      border-radius: 50%;\n",
              "      cursor: pointer;\n",
              "      display: none;\n",
              "      fill: #1967D2;\n",
              "      height: 32px;\n",
              "      padding: 0 0 0 0;\n",
              "      width: 32px;\n",
              "    }\n",
              "\n",
              "    .colab-df-convert:hover {\n",
              "      background-color: #E2EBFA;\n",
              "      box-shadow: 0px 1px 2px rgba(60, 64, 67, 0.3), 0px 1px 3px 1px rgba(60, 64, 67, 0.15);\n",
              "      fill: #174EA6;\n",
              "    }\n",
              "\n",
              "    .colab-df-buttons div {\n",
              "      margin-bottom: 4px;\n",
              "    }\n",
              "\n",
              "    [theme=dark] .colab-df-convert {\n",
              "      background-color: #3B4455;\n",
              "      fill: #D2E3FC;\n",
              "    }\n",
              "\n",
              "    [theme=dark] .colab-df-convert:hover {\n",
              "      background-color: #434B5C;\n",
              "      box-shadow: 0px 1px 3px 1px rgba(0, 0, 0, 0.15);\n",
              "      filter: drop-shadow(0px 1px 2px rgba(0, 0, 0, 0.3));\n",
              "      fill: #FFFFFF;\n",
              "    }\n",
              "  </style>\n",
              "\n",
              "    <script>\n",
              "      const buttonEl =\n",
              "        document.querySelector('#df-dcf68dcf-e32f-4c46-a210-3b2527b0522a button.colab-df-convert');\n",
              "      buttonEl.style.display =\n",
              "        google.colab.kernel.accessAllowed ? 'block' : 'none';\n",
              "\n",
              "      async function convertToInteractive(key) {\n",
              "        const element = document.querySelector('#df-dcf68dcf-e32f-4c46-a210-3b2527b0522a');\n",
              "        const dataTable =\n",
              "          await google.colab.kernel.invokeFunction('convertToInteractive',\n",
              "                                                    [key], {});\n",
              "        if (!dataTable) return;\n",
              "\n",
              "        const docLinkHtml = 'Like what you see? Visit the ' +\n",
              "          '<a target=\"_blank\" href=https://colab.research.google.com/notebooks/data_table.ipynb>data table notebook</a>'\n",
              "          + ' to learn more about interactive tables.';\n",
              "        element.innerHTML = '';\n",
              "        dataTable['output_type'] = 'display_data';\n",
              "        await google.colab.output.renderOutput(dataTable, element);\n",
              "        const docLink = document.createElement('div');\n",
              "        docLink.innerHTML = docLinkHtml;\n",
              "        element.appendChild(docLink);\n",
              "      }\n",
              "    </script>\n",
              "  </div>\n",
              "\n",
              "\n",
              "    <div id=\"df-720d9bce-edf1-452c-ba52-b8b075714012\">\n",
              "      <button class=\"colab-df-quickchart\" onclick=\"quickchart('df-720d9bce-edf1-452c-ba52-b8b075714012')\"\n",
              "                title=\"Suggest charts\"\n",
              "                style=\"display:none;\">\n",
              "\n",
              "<svg xmlns=\"http://www.w3.org/2000/svg\" height=\"24px\"viewBox=\"0 0 24 24\"\n",
              "     width=\"24px\">\n",
              "    <g>\n",
              "        <path d=\"M19 3H5c-1.1 0-2 .9-2 2v14c0 1.1.9 2 2 2h14c1.1 0 2-.9 2-2V5c0-1.1-.9-2-2-2zM9 17H7v-7h2v7zm4 0h-2V7h2v10zm4 0h-2v-4h2v4z\"/>\n",
              "    </g>\n",
              "</svg>\n",
              "      </button>\n",
              "\n",
              "<style>\n",
              "  .colab-df-quickchart {\n",
              "      --bg-color: #E8F0FE;\n",
              "      --fill-color: #1967D2;\n",
              "      --hover-bg-color: #E2EBFA;\n",
              "      --hover-fill-color: #174EA6;\n",
              "      --disabled-fill-color: #AAA;\n",
              "      --disabled-bg-color: #DDD;\n",
              "  }\n",
              "\n",
              "  [theme=dark] .colab-df-quickchart {\n",
              "      --bg-color: #3B4455;\n",
              "      --fill-color: #D2E3FC;\n",
              "      --hover-bg-color: #434B5C;\n",
              "      --hover-fill-color: #FFFFFF;\n",
              "      --disabled-bg-color: #3B4455;\n",
              "      --disabled-fill-color: #666;\n",
              "  }\n",
              "\n",
              "  .colab-df-quickchart {\n",
              "    background-color: var(--bg-color);\n",
              "    border: none;\n",
              "    border-radius: 50%;\n",
              "    cursor: pointer;\n",
              "    display: none;\n",
              "    fill: var(--fill-color);\n",
              "    height: 32px;\n",
              "    padding: 0;\n",
              "    width: 32px;\n",
              "  }\n",
              "\n",
              "  .colab-df-quickchart:hover {\n",
              "    background-color: var(--hover-bg-color);\n",
              "    box-shadow: 0 1px 2px rgba(60, 64, 67, 0.3), 0 1px 3px 1px rgba(60, 64, 67, 0.15);\n",
              "    fill: var(--button-hover-fill-color);\n",
              "  }\n",
              "\n",
              "  .colab-df-quickchart-complete:disabled,\n",
              "  .colab-df-quickchart-complete:disabled:hover {\n",
              "    background-color: var(--disabled-bg-color);\n",
              "    fill: var(--disabled-fill-color);\n",
              "    box-shadow: none;\n",
              "  }\n",
              "\n",
              "  .colab-df-spinner {\n",
              "    border: 2px solid var(--fill-color);\n",
              "    border-color: transparent;\n",
              "    border-bottom-color: var(--fill-color);\n",
              "    animation:\n",
              "      spin 1s steps(1) infinite;\n",
              "  }\n",
              "\n",
              "  @keyframes spin {\n",
              "    0% {\n",
              "      border-color: transparent;\n",
              "      border-bottom-color: var(--fill-color);\n",
              "      border-left-color: var(--fill-color);\n",
              "    }\n",
              "    20% {\n",
              "      border-color: transparent;\n",
              "      border-left-color: var(--fill-color);\n",
              "      border-top-color: var(--fill-color);\n",
              "    }\n",
              "    30% {\n",
              "      border-color: transparent;\n",
              "      border-left-color: var(--fill-color);\n",
              "      border-top-color: var(--fill-color);\n",
              "      border-right-color: var(--fill-color);\n",
              "    }\n",
              "    40% {\n",
              "      border-color: transparent;\n",
              "      border-right-color: var(--fill-color);\n",
              "      border-top-color: var(--fill-color);\n",
              "    }\n",
              "    60% {\n",
              "      border-color: transparent;\n",
              "      border-right-color: var(--fill-color);\n",
              "    }\n",
              "    80% {\n",
              "      border-color: transparent;\n",
              "      border-right-color: var(--fill-color);\n",
              "      border-bottom-color: var(--fill-color);\n",
              "    }\n",
              "    90% {\n",
              "      border-color: transparent;\n",
              "      border-bottom-color: var(--fill-color);\n",
              "    }\n",
              "  }\n",
              "</style>\n",
              "\n",
              "      <script>\n",
              "        async function quickchart(key) {\n",
              "          const quickchartButtonEl =\n",
              "            document.querySelector('#' + key + ' button');\n",
              "          quickchartButtonEl.disabled = true;  // To prevent multiple clicks.\n",
              "          quickchartButtonEl.classList.add('colab-df-spinner');\n",
              "          try {\n",
              "            const charts = await google.colab.kernel.invokeFunction(\n",
              "                'suggestCharts', [key], {});\n",
              "          } catch (error) {\n",
              "            console.error('Error during call to suggestCharts:', error);\n",
              "          }\n",
              "          quickchartButtonEl.classList.remove('colab-df-spinner');\n",
              "          quickchartButtonEl.classList.add('colab-df-quickchart-complete');\n",
              "        }\n",
              "        (() => {\n",
              "          let quickchartButtonEl =\n",
              "            document.querySelector('#df-720d9bce-edf1-452c-ba52-b8b075714012 button');\n",
              "          quickchartButtonEl.style.display =\n",
              "            google.colab.kernel.accessAllowed ? 'block' : 'none';\n",
              "        })();\n",
              "      </script>\n",
              "    </div>\n",
              "\n",
              "    </div>\n",
              "  </div>\n"
            ],
            "application/vnd.google.colaboratory.intrinsic+json": {
              "type": "dataframe",
              "summary": "{\n  \"name\": \"df\",\n  \"rows\": 17,\n  \"fields\": [\n    {\n      \"column\": \"count\",\n      \"properties\": {\n        \"dtype\": \"number\",\n        \"std\": 3131.6199904691302,\n        \"min\": 72894.0,\n        \"max\": 85806.0,\n        \"num_unique_values\": 2,\n        \"samples\": [\n          72894.0,\n          85806.0\n        ],\n        \"semantic_type\": \"\",\n        \"description\": \"\"\n      }\n    },\n    {\n      \"column\": \"mean\",\n      \"properties\": {\n        \"dtype\": \"number\",\n        \"std\": 11915.530549675861,\n        \"min\": 5.3727594806889964,\n        \"max\": 49378.62072553202,\n        \"num_unique_values\": 17,\n        \"samples\": [\n          120.48600330979185,\n          49378.62072553202\n        ],\n        \"semantic_type\": \"\",\n        \"description\": \"\"\n      }\n    },\n    {\n      \"column\": \"std\",\n      \"properties\": {\n        \"dtype\": \"number\",\n        \"std\": 8776.140819843346,\n        \"min\": 2.5850314955525415,\n        \"max\": 36478.39029890693,\n        \"num_unique_values\": 17,\n        \"samples\": [\n          690.0675110451392,\n          36478.39029890693\n        ],\n        \"semantic_type\": \"\",\n        \"description\": \"\"\n      }\n    },\n    {\n      \"column\": \"min\",\n      \"properties\": {\n        \"dtype\": \"number\",\n        \"std\": 1695.8294490789808,\n        \"min\": -6.49,\n        \"max\": 7005.93,\n        \"num_unique_values\": 10,\n        \"samples\": [\n          0.23,\n          7005.93\n        ],\n        \"semantic_type\": \"\",\n        \"description\": \"\"\n      }\n    },\n    {\n      \"column\": \"25%\",\n      \"properties\": {\n        \"dtype\": \"number\",\n        \"std\": 4655.156238810676,\n        \"min\": 2.0,\n        \"max\": 19294.46,\n        \"num_unique_values\": 16,\n        \"samples\": [\n          25.0,\n          19294.46\n        ],\n        \"semantic_type\": \"\",\n        \"description\": \"\"\n      }\n    },\n    {\n      \"column\": \"50%\",\n      \"properties\": {\n        \"dtype\": \"number\",\n        \"std\": 8876.103143539829,\n        \"min\": 3.0,\n        \"max\": 36780.03,\n        \"num_unique_values\": 15,\n        \"samples\": [\n          1163.33,\n          66.6487033985263\n        ],\n        \"semantic_type\": \"\",\n        \"description\": \"\"\n      }\n    },\n    {\n      \"column\": \"75%\",\n      \"properties\": {\n        \"dtype\": \"number\",\n        \"std\": 17100.86505975831,\n        \"min\": 6.0,\n        \"max\": 70825.76,\n        \"num_unique_values\": 16,\n        \"samples\": [\n          42.0,\n          70825.76\n        ],\n        \"semantic_type\": \"\",\n        \"description\": \"\"\n      }\n    },\n    {\n      \"column\": \"max\",\n      \"properties\": {\n        \"dtype\": \"number\",\n        \"std\": 40277.64769019069,\n        \"min\": 10.0,\n        \"max\": 166837.64,\n        \"num_unique_values\": 17,\n        \"samples\": [\n          8698.0,\n          166837.64\n        ],\n        \"semantic_type\": \"\",\n        \"description\": \"\"\n      }\n    }\n  ]\n}"
            }
          },
          "metadata": {},
          "execution_count": 20
        }
      ],
      "source": [
        "df.describe().T"
      ]
    },
    {
      "cell_type": "markdown",
      "metadata": {
        "id": "KX5ppu4qSNpf"
      },
      "source": [
        "    That looks quite pretty ✅"
      ]
    },
    {
      "cell_type": "markdown",
      "metadata": {
        "id": "Q_pLE0ojSNpg"
      },
      "source": [
        "<a id=\"data-entry\"></a>\n",
        "## 3.4 👾 Data Entry Plus"
      ]
    },
    {
      "cell_type": "markdown",
      "metadata": {
        "id": "45SpH5RfSNpg"
      },
      "source": [
        "## 3.4.1 🗑️ Filtering trash\n",
        "<a id=\"filtering-trash\"></a>"
      ]
    },
    {
      "cell_type": "code",
      "execution_count": 21,
      "metadata": {
        "id": "KKTa_xGnSNpg"
      },
      "outputs": [],
      "source": [
        "df = df[df['Payment_Behaviour'] != '!@9#%8']"
      ]
    },
    {
      "cell_type": "code",
      "execution_count": 22,
      "metadata": {
        "colab": {
          "base_uri": "https://localhost:8080/"
        },
        "id": "SoFqdsusSNpg",
        "outputId": "dee32d01-8446-49a0-f9b0-45af69ff85c6"
      },
      "outputs": [
        {
          "output_type": "stream",
          "name": "stdout",
          "text": [
            "['Scientist' 'Teacher' 'Engineer' 'Entrepreneur' 'Developer' 'Lawyer'\n",
            " 'Media_Manager' 'Doctor' 'Journalist' 'Manager' 'Accountant' 'Musician'\n",
            " 'Mechanic' 'Writer' 'Architect']\n"
          ]
        }
      ],
      "source": [
        "# Drop the rows containing the value '_______' in the 'Occupation' column\n",
        "\n",
        "df = df[df['Occupation'] != '_______']\n",
        "print(df['Occupation'].unique())"
      ]
    },
    {
      "cell_type": "code",
      "execution_count": 23,
      "metadata": {
        "colab": {
          "base_uri": "https://localhost:8080/"
        },
        "id": "ass3GFlcSNpg",
        "outputId": "0cf42400-3390-458b-ef49-e9130443d08b"
      },
      "outputs": [
        {
          "output_type": "stream",
          "name": "stdout",
          "text": [
            "['Good' 'Standard' 'Bad']\n"
          ]
        }
      ],
      "source": [
        "# Drop rows where 'Credit_Mix' is '_'\n",
        "\n",
        "df = df[df['Credit_Mix'] != '_']\n",
        "print(df['Credit_Mix'].unique())"
      ]
    },
    {
      "cell_type": "markdown",
      "metadata": {
        "id": "WrWiw6CoSNpg"
      },
      "source": [
        "### 3.4.2 ➖ Negative Values\n",
        "<a id=\"negative-values\"></a>\n"
      ]
    },
    {
      "cell_type": "code",
      "execution_count": 24,
      "metadata": {
        "id": "5DtYvE5jSNpg"
      },
      "outputs": [],
      "source": [
        "# Negative values\n",
        "\n",
        "selected_columns = ['Delay_from_due_date', 'Changed_Credit_Limit', 'Num_Bank_Accounts']\n",
        "\n",
        "for column in selected_columns:\n",
        "    df = df[df[column] >= 0]"
      ]
    },
    {
      "cell_type": "markdown",
      "metadata": {
        "id": "MOgYQ5HrSNpg"
      },
      "source": [
        "## 3.4.2 🚮 Dropping Columns\n",
        "<a id=\"dropping-columns\"></a>"
      ]
    },
    {
      "cell_type": "code",
      "execution_count": 25,
      "metadata": {
        "id": "IHEqKTskSNpg"
      },
      "outputs": [],
      "source": [
        "# Not useful for trainig model\n",
        "\n",
        "columns_to_drop = ['ID', 'Customer_ID', 'Month', 'Name', 'SSN', 'Credit_History_Age','Monthly_Inhand_Salary', 'Type_of_Loan']\n",
        "\n",
        "df.drop(columns=columns_to_drop, inplace=True)"
      ]
    },
    {
      "cell_type": "markdown",
      "metadata": {
        "id": "yuCxiLJiSNpg"
      },
      "source": [
        "<a id=\"missing-values\"></a>\n",
        "## 3.5 🕵️ Missing Values"
      ]
    },
    {
      "cell_type": "code",
      "execution_count": 26,
      "metadata": {
        "colab": {
          "base_uri": "https://localhost:8080/"
        },
        "id": "evFa2SdrSNpg",
        "outputId": "b022915e-c4e9-4111-a303-a94c832e9344"
      },
      "outputs": [
        {
          "output_type": "stream",
          "name": "stdout",
          "text": [
            "There are no missing values 💅\n"
          ]
        }
      ],
      "source": [
        "total_missing_values = df.isnull().sum().sum()\n",
        "\n",
        "if total_missing_values == 0:\n",
        "    print(\"There are no missing values 💅\")\n",
        "else:\n",
        "    print(\"Total missing values:\", total_missing_values)"
      ]
    },
    {
      "cell_type": "markdown",
      "metadata": {
        "id": "MmOb1umBSNpg"
      },
      "source": [
        "## 4.0 🎚️ Feature Engineering\n",
        "<a id=\"feature-engineering\"></a>"
      ]
    },
    {
      "cell_type": "code",
      "execution_count": 27,
      "metadata": {
        "colab": {
          "base_uri": "https://localhost:8080/",
          "height": 493
        },
        "id": "XcG0YLq6SNpg",
        "outputId": "25c0a491-09c4-4afe-a37d-ba879a829fa1"
      },
      "outputs": [
        {
          "output_type": "display_data",
          "data": {
            "text/plain": [
              "<Figure size 1600x600 with 16 Axes>"
            ],
            "image/png": "[encoded data removed]"
          },
          "metadata": {}
        }
      ],
      "source": [
        "numeric_columns = df.select_dtypes(include=['int64', 'float64']).columns\n",
        "\n",
        "num_columns = 8\n",
        "num_rows = (len(numeric_columns) + num_columns - 1) // num_columns\n",
        "\n",
        "fig, axes = plt.subplots(num_rows, num_columns, figsize=(16, 6))\n",
        "\n",
        "axes = axes.flatten()\n",
        "\n",
        "for i, column in enumerate(numeric_columns):\n",
        "    sns.boxplot(x=df[column], ax=axes[i])\n",
        "    axes[i].set_title(column, fontsize=7)\n",
        "    axes[i].set_xlabel('Value', fontsize=7)\n",
        "    axes[i].set_ylabel('Count', fontsize=7)\n",
        "\n",
        "for j in range(len(numeric_columns), num_columns*num_rows):\n",
        "    axes[j].axis('off')\n",
        "\n",
        "plt.tight_layout()\n",
        "plt.show()"
      ]
    },
    {
      "cell_type": "markdown",
      "metadata": {
        "id": "x5oyr4gZ-GpH"
      },
      "source": [
        "KEY 🗝️\n",
        "    ______________________________________________________________________\n",
        "    \n",
        "    # There are significant outliers in features like Num_Credit_Card, Interest_Rate, Num_of_Loan, Delay_from_due_date, Outstanding_Debt, and Total_EMI_per_month.\n",
        "\n",
        "    \n",
        "    ______________________________________________________________________"
      ]
    },
    {
      "cell_type": "markdown",
      "metadata": {
        "id": "MQL40uvQSNpg"
      },
      "source": [
        "##  Scaling\n",
        "<a id=\"scaling\"></a>\n"
      ]
    },
    {
      "cell_type": "code",
      "execution_count": 28,
      "metadata": {
        "id": "P-4I3kXMSNpg"
      },
      "outputs": [],
      "source": [
        "# Another step to tune best scale (subjective)\n",
        "\n",
        "df = df[df['Age'] < 60]\n",
        "df = df[df['Num_Credit_Card'] <= 10]\n",
        "df = df[df['Interest_Rate'] <= 50]\n",
        "df = df[df['Num_of_Loan'] <= 12]\n",
        "df = df[df['Num_Bank_Accounts'] <= 10]\n",
        "df = df[df['Delay_from_due_date'] <= 60]\n",
        "df = df[df['Changed_Credit_Limit'] <= 30]\n",
        "df = df[df['Num_Credit_Inquiries'] <= 12]\n",
        "df = df[df['Total_EMI_per_month'] <= 200]\n",
        "df = df[df['Outstanding_Debt'] <= 1500]"
      ]
    },
    {
      "cell_type": "code",
      "execution_count": 29,
      "metadata": {
        "colab": {
          "base_uri": "https://localhost:8080/",
          "height": 551
        },
        "id": "m-AWLH6PUNi2",
        "outputId": "2bed42ac-85c7-45b7-f15a-52a673551ae5"
      },
      "outputs": [
        {
          "output_type": "execute_result",
          "data": {
            "text/plain": [
              "                             count          mean           std          min  \\\n",
              "Age                        30890.0     35.124927     11.046095    14.000000   \n",
              "Annual_Income              30890.0  50590.317761  35769.329245  7006.520000   \n",
              "Num_Bank_Accounts          30890.0      4.423567      2.303806     0.000000   \n",
              "Num_Credit_Card            30890.0      4.801068      1.670622     0.000000   \n",
              "Interest_Rate              30890.0     10.268307      5.910050     1.000000   \n",
              "Num_of_Loan                30890.0      2.245354      1.700307     0.000000   \n",
              "Delay_from_due_date        30890.0     15.011525      9.328179     0.000000   \n",
              "Num_of_Delayed_Payment     30890.0     10.394043      6.108735     0.000000   \n",
              "Changed_Credit_Limit       30890.0      8.623212      5.128232     0.000000   \n",
              "Num_Credit_Inquiries       30890.0      3.911266      2.815899     0.000000   \n",
              "Outstanding_Debt           30890.0    776.591309    443.942378     0.230000   \n",
              "Credit_Utilization_Ratio   30890.0     32.489029      5.116336    20.832487   \n",
              "Total_EMI_per_month        30890.0     59.136310     53.338045     0.000000   \n",
              "Amount_invested_monthly    30890.0    178.093899    189.499519     0.000000   \n",
              "Monthly_Balance            30890.0    435.374131    217.782155     0.000000   \n",
              "Credit_History_Age_Months  30890.0    243.759566    108.883827     0.000000   \n",
              "\n",
              "                                    25%           50%           75%  \\\n",
              "Age                           26.000000     35.000000     44.000000   \n",
              "Annual_Income              21834.105000  36534.435000  72389.880000   \n",
              "Num_Bank_Accounts              3.000000      4.000000      6.000000   \n",
              "Num_Credit_Card                4.000000      5.000000      6.000000   \n",
              "Interest_Rate                  6.000000      9.000000     14.000000   \n",
              "Num_of_Loan                    1.000000      2.000000      3.000000   \n",
              "Delay_from_due_date            8.000000     13.000000     22.000000   \n",
              "Num_of_Delayed_Payment         6.000000     11.000000     15.000000   \n",
              "Changed_Credit_Limit           4.560000      8.400000     11.640000   \n",
              "Num_Credit_Inquiries           2.000000      4.000000      6.000000   \n",
              "Outstanding_Debt             388.375000    778.910000   1181.640000   \n",
              "Credit_Utilization_Ratio      28.264133     32.464556     36.698747   \n",
              "Total_EMI_per_month           16.526136     46.019803     88.724686   \n",
              "Amount_invested_monthly       61.506439    120.261966    222.515966   \n",
              "Monthly_Balance              293.460477    368.926890    518.305559   \n",
              "Credit_History_Age_Months    195.000000    255.000000    329.000000   \n",
              "\n",
              "                                     max  \n",
              "Age                            56.000000  \n",
              "Annual_Income              166837.640000  \n",
              "Num_Bank_Accounts              10.000000  \n",
              "Num_Credit_Card                10.000000  \n",
              "Interest_Rate                  34.000000  \n",
              "Num_of_Loan                     9.000000  \n",
              "Delay_from_due_date            60.000000  \n",
              "Num_of_Delayed_Payment         25.000000  \n",
              "Changed_Credit_Limit           26.900000  \n",
              "Num_Credit_Inquiries           12.000000  \n",
              "Outstanding_Debt             1499.920000  \n",
              "Credit_Utilization_Ratio       48.489852  \n",
              "Total_EMI_per_month           199.904691  \n",
              "Amount_invested_monthly      1733.700474  \n",
              "Monthly_Balance              1459.930653  \n",
              "Credit_History_Age_Months     404.000000  "
            ],
            "text/html": [
              "\n",
              "  <div id=\"df-e4dbe653-3369-49d0-929e-34bd97765529\" class=\"colab-df-container\">\n",
              "    <div>\n",
              "<style scoped>\n",
              "    .dataframe tbody tr th:only-of-type {\n",
              "        vertical-align: middle;\n",
              "    }\n",
              "\n",
              "    .dataframe tbody tr th {\n",
              "        vertical-align: top;\n",
              "    }\n",
              "\n",
              "    .dataframe thead th {\n",
              "        text-align: right;\n",
              "    }\n",
              "</style>\n",
              "<table border=\"1\" class=\"dataframe\">\n",
              "  <thead>\n",
              "    <tr style=\"text-align: right;\">\n",
              "      <th></th>\n",
              "      <th>count</th>\n",
              "      <th>mean</th>\n",
              "      <th>std</th>\n",
              "      <th>min</th>\n",
              "      <th>25%</th>\n",
              "      <th>50%</th>\n",
              "      <th>75%</th>\n",
              "      <th>max</th>\n",
              "    </tr>\n",
              "  </thead>\n",
              "  <tbody>\n",
              "    <tr>\n",
              "      <th>Age</th>\n",
              "      <td>30890.0</td>\n",
              "      <td>35.124927</td>\n",
              "      <td>11.046095</td>\n",
              "      <td>14.000000</td>\n",
              "      <td>26.000000</td>\n",
              "      <td>35.000000</td>\n",
              "      <td>44.000000</td>\n",
              "      <td>56.000000</td>\n",
              "    </tr>\n",
              "    <tr>\n",
              "      <th>Annual_Income</th>\n",
              "      <td>30890.0</td>\n",
              "      <td>50590.317761</td>\n",
              "      <td>35769.329245</td>\n",
              "      <td>7006.520000</td>\n",
              "      <td>21834.105000</td>\n",
              "      <td>36534.435000</td>\n",
              "      <td>72389.880000</td>\n",
              "      <td>166837.640000</td>\n",
              "    </tr>\n",
              "    <tr>\n",
              "      <th>Num_Bank_Accounts</th>\n",
              "      <td>30890.0</td>\n",
              "      <td>4.423567</td>\n",
              "      <td>2.303806</td>\n",
              "      <td>0.000000</td>\n",
              "      <td>3.000000</td>\n",
              "      <td>4.000000</td>\n",
              "      <td>6.000000</td>\n",
              "      <td>10.000000</td>\n",
              "    </tr>\n",
              "    <tr>\n",
              "      <th>Num_Credit_Card</th>\n",
              "      <td>30890.0</td>\n",
              "      <td>4.801068</td>\n",
              "      <td>1.670622</td>\n",
              "      <td>0.000000</td>\n",
              "      <td>4.000000</td>\n",
              "      <td>5.000000</td>\n",
              "      <td>6.000000</td>\n",
              "      <td>10.000000</td>\n",
              "    </tr>\n",
              "    <tr>\n",
              "      <th>Interest_Rate</th>\n",
              "      <td>30890.0</td>\n",
              "      <td>10.268307</td>\n",
              "      <td>5.910050</td>\n",
              "      <td>1.000000</td>\n",
              "      <td>6.000000</td>\n",
              "      <td>9.000000</td>\n",
              "      <td>14.000000</td>\n",
              "      <td>34.000000</td>\n",
              "    </tr>\n",
              "    <tr>\n",
              "      <th>Num_of_Loan</th>\n",
              "      <td>30890.0</td>\n",
              "      <td>2.245354</td>\n",
              "      <td>1.700307</td>\n",
              "      <td>0.000000</td>\n",
              "      <td>1.000000</td>\n",
              "      <td>2.000000</td>\n",
              "      <td>3.000000</td>\n",
              "      <td>9.000000</td>\n",
              "    </tr>\n",
              "    <tr>\n",
              "      <th>Delay_from_due_date</th>\n",
              "      <td>30890.0</td>\n",
              "      <td>15.011525</td>\n",
              "      <td>9.328179</td>\n",
              "      <td>0.000000</td>\n",
              "      <td>8.000000</td>\n",
              "      <td>13.000000</td>\n",
              "      <td>22.000000</td>\n",
              "      <td>60.000000</td>\n",
              "    </tr>\n",
              "    <tr>\n",
              "      <th>Num_of_Delayed_Payment</th>\n",
              "      <td>30890.0</td>\n",
              "      <td>10.394043</td>\n",
              "      <td>6.108735</td>\n",
              "      <td>0.000000</td>\n",
              "      <td>6.000000</td>\n",
              "      <td>11.000000</td>\n",
              "      <td>15.000000</td>\n",
              "      <td>25.000000</td>\n",
              "    </tr>\n",
              "    <tr>\n",
              "      <th>Changed_Credit_Limit</th>\n",
              "      <td>30890.0</td>\n",
              "      <td>8.623212</td>\n",
              "      <td>5.128232</td>\n",
              "      <td>0.000000</td>\n",
              "      <td>4.560000</td>\n",
              "      <td>8.400000</td>\n",
              "      <td>11.640000</td>\n",
              "      <td>26.900000</td>\n",
              "    </tr>\n",
              "    <tr>\n",
              "      <th>Num_Credit_Inquiries</th>\n",
              "      <td>30890.0</td>\n",
              "      <td>3.911266</td>\n",
              "      <td>2.815899</td>\n",
              "      <td>0.000000</td>\n",
              "      <td>2.000000</td>\n",
              "      <td>4.000000</td>\n",
              "      <td>6.000000</td>\n",
              "      <td>12.000000</td>\n",
              "    </tr>\n",
              "    <tr>\n",
              "      <th>Outstanding_Debt</th>\n",
              "      <td>30890.0</td>\n",
              "      <td>776.591309</td>\n",
              "      <td>443.942378</td>\n",
              "      <td>0.230000</td>\n",
              "      <td>388.375000</td>\n",
              "      <td>778.910000</td>\n",
              "      <td>1181.640000</td>\n",
              "      <td>1499.920000</td>\n",
              "    </tr>\n",
              "    <tr>\n",
              "      <th>Credit_Utilization_Ratio</th>\n",
              "      <td>30890.0</td>\n",
              "      <td>32.489029</td>\n",
              "      <td>5.116336</td>\n",
              "      <td>20.832487</td>\n",
              "      <td>28.264133</td>\n",
              "      <td>32.464556</td>\n",
              "      <td>36.698747</td>\n",
              "      <td>48.489852</td>\n",
              "    </tr>\n",
              "    <tr>\n",
              "      <th>Total_EMI_per_month</th>\n",
              "      <td>30890.0</td>\n",
              "      <td>59.136310</td>\n",
              "      <td>53.338045</td>\n",
              "      <td>0.000000</td>\n",
              "      <td>16.526136</td>\n",
              "      <td>46.019803</td>\n",
              "      <td>88.724686</td>\n",
              "      <td>199.904691</td>\n",
              "    </tr>\n",
              "    <tr>\n",
              "      <th>Amount_invested_monthly</th>\n",
              "      <td>30890.0</td>\n",
              "      <td>178.093899</td>\n",
              "      <td>189.499519</td>\n",
              "      <td>0.000000</td>\n",
              "      <td>61.506439</td>\n",
              "      <td>120.261966</td>\n",
              "      <td>222.515966</td>\n",
              "      <td>1733.700474</td>\n",
              "    </tr>\n",
              "    <tr>\n",
              "      <th>Monthly_Balance</th>\n",
              "      <td>30890.0</td>\n",
              "      <td>435.374131</td>\n",
              "      <td>217.782155</td>\n",
              "      <td>0.000000</td>\n",
              "      <td>293.460477</td>\n",
              "      <td>368.926890</td>\n",
              "      <td>518.305559</td>\n",
              "      <td>1459.930653</td>\n",
              "    </tr>\n",
              "    <tr>\n",
              "      <th>Credit_History_Age_Months</th>\n",
              "      <td>30890.0</td>\n",
              "      <td>243.759566</td>\n",
              "      <td>108.883827</td>\n",
              "      <td>0.000000</td>\n",
              "      <td>195.000000</td>\n",
              "      <td>255.000000</td>\n",
              "      <td>329.000000</td>\n",
              "      <td>404.000000</td>\n",
              "    </tr>\n",
              "  </tbody>\n",
              "</table>\n",
              "</div>\n",
              "    <div class=\"colab-df-buttons\">\n",
              "\n",
              "  <div class=\"colab-df-container\">\n",
              "    <button class=\"colab-df-convert\" onclick=\"convertToInteractive('df-e4dbe653-3369-49d0-929e-34bd97765529')\"\n",
              "            title=\"Convert this dataframe to an interactive table.\"\n",
              "            style=\"display:none;\">\n",
              "\n",
              "  <svg xmlns=\"http://www.w3.org/2000/svg\" height=\"24px\" viewBox=\"0 -960 960 960\">\n",
              "    <path d=\"M120-120v-720h720v720H120Zm60-500h600v-160H180v160Zm220 220h160v-160H400v160Zm0 220h160v-160H400v160ZM180-400h160v-160H180v160Zm440 0h160v-160H620v160ZM180-180h160v-160H180v160Zm440 0h160v-160H620v160Z\"/>\n",
              "  </svg>\n",
              "    </button>\n",
              "\n",
              "  <style>\n",
              "    .colab-df-container {\n",
              "      display:flex;\n",
              "      gap: 12px;\n",
              "    }\n",
              "\n",
              "    .colab-df-convert {\n",
              "      background-color: #E8F0FE;\n",
              "      border: none;\n",
              "      border-radius: 50%;\n",
              "      cursor: pointer;\n",
              "      display: none;\n",
              "      fill: #1967D2;\n",
              "      height: 32px;\n",
              "      padding: 0 0 0 0;\n",
              "      width: 32px;\n",
              "    }\n",
              "\n",
              "    .colab-df-convert:hover {\n",
              "      background-color: #E2EBFA;\n",
              "      box-shadow: 0px 1px 2px rgba(60, 64, 67, 0.3), 0px 1px 3px 1px rgba(60, 64, 67, 0.15);\n",
              "      fill: #174EA6;\n",
              "    }\n",
              "\n",
              "    .colab-df-buttons div {\n",
              "      margin-bottom: 4px;\n",
              "    }\n",
              "\n",
              "    [theme=dark] .colab-df-convert {\n",
              "      background-color: #3B4455;\n",
              "      fill: #D2E3FC;\n",
              "    }\n",
              "\n",
              "    [theme=dark] .colab-df-convert:hover {\n",
              "      background-color: #434B5C;\n",
              "      box-shadow: 0px 1px 3px 1px rgba(0, 0, 0, 0.15);\n",
              "      filter: drop-shadow(0px 1px 2px rgba(0, 0, 0, 0.3));\n",
              "      fill: #FFFFFF;\n",
              "    }\n",
              "  </style>\n",
              "\n",
              "    <script>\n",
              "      const buttonEl =\n",
              "        document.querySelector('#df-e4dbe653-3369-49d0-929e-34bd97765529 button.colab-df-convert');\n",
              "      buttonEl.style.display =\n",
              "        google.colab.kernel.accessAllowed ? 'block' : 'none';\n",
              "\n",
              "      async function convertToInteractive(key) {\n",
              "        const element = document.querySelector('#df-e4dbe653-3369-49d0-929e-34bd97765529');\n",
              "        const dataTable =\n",
              "          await google.colab.kernel.invokeFunction('convertToInteractive',\n",
              "                                                    [key], {});\n",
              "        if (!dataTable) return;\n",
              "\n",
              "        const docLinkHtml = 'Like what you see? Visit the ' +\n",
              "          '<a target=\"_blank\" href=https://colab.research.google.com/notebooks/data_table.ipynb>data table notebook</a>'\n",
              "          + ' to learn more about interactive tables.';\n",
              "        element.innerHTML = '';\n",
              "        dataTable['output_type'] = 'display_data';\n",
              "        await google.colab.output.renderOutput(dataTable, element);\n",
              "        const docLink = document.createElement('div');\n",
              "        docLink.innerHTML = docLinkHtml;\n",
              "        element.appendChild(docLink);\n",
              "      }\n",
              "    </script>\n",
              "  </div>\n",
              "\n",
              "\n",
              "    <div id=\"df-6be910d7-fa4d-46aa-9b45-d9013dc1c8ea\">\n",
              "      <button class=\"colab-df-quickchart\" onclick=\"quickchart('df-6be910d7-fa4d-46aa-9b45-d9013dc1c8ea')\"\n",
              "                title=\"Suggest charts\"\n",
              "                style=\"display:none;\">\n",
              "\n",
              "<svg xmlns=\"http://www.w3.org/2000/svg\" height=\"24px\"viewBox=\"0 0 24 24\"\n",
              "     width=\"24px\">\n",
              "    <g>\n",
              "        <path d=\"M19 3H5c-1.1 0-2 .9-2 2v14c0 1.1.9 2 2 2h14c1.1 0 2-.9 2-2V5c0-1.1-.9-2-2-2zM9 17H7v-7h2v7zm4 0h-2V7h2v10zm4 0h-2v-4h2v4z\"/>\n",
              "    </g>\n",
              "</svg>\n",
              "      </button>\n",
              "\n",
              "<style>\n",
              "  .colab-df-quickchart {\n",
              "      --bg-color: #E8F0FE;\n",
              "      --fill-color: #1967D2;\n",
              "      --hover-bg-color: #E2EBFA;\n",
              "      --hover-fill-color: #174EA6;\n",
              "      --disabled-fill-color: #AAA;\n",
              "      --disabled-bg-color: #DDD;\n",
              "  }\n",
              "\n",
              "  [theme=dark] .colab-df-quickchart {\n",
              "      --bg-color: #3B4455;\n",
              "      --fill-color: #D2E3FC;\n",
              "      --hover-bg-color: #434B5C;\n",
              "      --hover-fill-color: #FFFFFF;\n",
              "      --disabled-bg-color: #3B4455;\n",
              "      --disabled-fill-color: #666;\n",
              "  }\n",
              "\n",
              "  .colab-df-quickchart {\n",
              "    background-color: var(--bg-color);\n",
              "    border: none;\n",
              "    border-radius: 50%;\n",
              "    cursor: pointer;\n",
              "    display: none;\n",
              "    fill: var(--fill-color);\n",
              "    height: 32px;\n",
              "    padding: 0;\n",
              "    width: 32px;\n",
              "  }\n",
              "\n",
              "  .colab-df-quickchart:hover {\n",
              "    background-color: var(--hover-bg-color);\n",
              "    box-shadow: 0 1px 2px rgba(60, 64, 67, 0.3), 0 1px 3px 1px rgba(60, 64, 67, 0.15);\n",
              "    fill: var(--button-hover-fill-color);\n",
              "  }\n",
              "\n",
              "  .colab-df-quickchart-complete:disabled,\n",
              "  .colab-df-quickchart-complete:disabled:hover {\n",
              "    background-color: var(--disabled-bg-color);\n",
              "    fill: var(--disabled-fill-color);\n",
              "    box-shadow: none;\n",
              "  }\n",
              "\n",
              "  .colab-df-spinner {\n",
              "    border: 2px solid var(--fill-color);\n",
              "    border-color: transparent;\n",
              "    border-bottom-color: var(--fill-color);\n",
              "    animation:\n",
              "      spin 1s steps(1) infinite;\n",
              "  }\n",
              "\n",
              "  @keyframes spin {\n",
              "    0% {\n",
              "      border-color: transparent;\n",
              "      border-bottom-color: var(--fill-color);\n",
              "      border-left-color: var(--fill-color);\n",
              "    }\n",
              "    20% {\n",
              "      border-color: transparent;\n",
              "      border-left-color: var(--fill-color);\n",
              "      border-top-color: var(--fill-color);\n",
              "    }\n",
              "    30% {\n",
              "      border-color: transparent;\n",
              "      border-left-color: var(--fill-color);\n",
              "      border-top-color: var(--fill-color);\n",
              "      border-right-color: var(--fill-color);\n",
              "    }\n",
              "    40% {\n",
              "      border-color: transparent;\n",
              "      border-right-color: var(--fill-color);\n",
              "      border-top-color: var(--fill-color);\n",
              "    }\n",
              "    60% {\n",
              "      border-color: transparent;\n",
              "      border-right-color: var(--fill-color);\n",
              "    }\n",
              "    80% {\n",
              "      border-color: transparent;\n",
              "      border-right-color: var(--fill-color);\n",
              "      border-bottom-color: var(--fill-color);\n",
              "    }\n",
              "    90% {\n",
              "      border-color: transparent;\n",
              "      border-bottom-color: var(--fill-color);\n",
              "    }\n",
              "  }\n",
              "</style>\n",
              "\n",
              "      <script>\n",
              "        async function quickchart(key) {\n",
              "          const quickchartButtonEl =\n",
              "            document.querySelector('#' + key + ' button');\n",
              "          quickchartButtonEl.disabled = true;  // To prevent multiple clicks.\n",
              "          quickchartButtonEl.classList.add('colab-df-spinner');\n",
              "          try {\n",
              "            const charts = await google.colab.kernel.invokeFunction(\n",
              "                'suggestCharts', [key], {});\n",
              "          } catch (error) {\n",
              "            console.error('Error during call to suggestCharts:', error);\n",
              "          }\n",
              "          quickchartButtonEl.classList.remove('colab-df-spinner');\n",
              "          quickchartButtonEl.classList.add('colab-df-quickchart-complete');\n",
              "        }\n",
              "        (() => {\n",
              "          let quickchartButtonEl =\n",
              "            document.querySelector('#df-6be910d7-fa4d-46aa-9b45-d9013dc1c8ea button');\n",
              "          quickchartButtonEl.style.display =\n",
              "            google.colab.kernel.accessAllowed ? 'block' : 'none';\n",
              "        })();\n",
              "      </script>\n",
              "    </div>\n",
              "\n",
              "    </div>\n",
              "  </div>\n"
            ],
            "application/vnd.google.colaboratory.intrinsic+json": {
              "type": "dataframe",
              "summary": "{\n  \"name\": \"df\",\n  \"rows\": 16,\n  \"fields\": [\n    {\n      \"column\": \"count\",\n      \"properties\": {\n        \"dtype\": \"number\",\n        \"std\": 0.0,\n        \"min\": 30890.0,\n        \"max\": 30890.0,\n        \"num_unique_values\": 1,\n        \"samples\": [\n          30890.0\n        ],\n        \"semantic_type\": \"\",\n        \"description\": \"\"\n      }\n    },\n    {\n      \"column\": \"mean\",\n      \"properties\": {\n        \"dtype\": \"number\",\n        \"std\": 12619.00995868953,\n        \"min\": 2.245354483651667,\n        \"max\": 50590.31776141146,\n        \"num_unique_values\": 16,\n        \"samples\": [\n          35.12492716089349\n        ],\n        \"semantic_type\": \"\",\n        \"description\": \"\"\n      }\n    },\n    {\n      \"column\": \"std\",\n      \"properties\": {\n        \"dtype\": \"number\",\n        \"std\": 8925.410781653767,\n        \"min\": 1.670622478798591,\n        \"max\": 35769.32924536726,\n        \"num_unique_values\": 16,\n        \"samples\": [\n          11.046095071370148\n        ],\n        \"semantic_type\": \"\",\n        \"description\": \"\"\n      }\n    },\n    {\n      \"column\": \"min\",\n      \"properties\": {\n        \"dtype\": \"number\",\n        \"std\": 1751.039320905326,\n        \"min\": 0.0,\n        \"max\": 7006.52,\n        \"num_unique_values\": 6,\n        \"samples\": [\n          14.0\n        ],\n        \"semantic_type\": \"\",\n        \"description\": \"\"\n      }\n    },\n    {\n      \"column\": \"25%\",\n      \"properties\": {\n        \"dtype\": \"number\",\n        \"std\": 5442.40595019772,\n        \"min\": 1.0,\n        \"max\": 21834.105,\n        \"num_unique_values\": 15,\n        \"samples\": [\n          388.375\n        ],\n        \"semantic_type\": \"\",\n        \"description\": \"\"\n      }\n    },\n    {\n      \"column\": \"50%\",\n      \"properties\": {\n        \"dtype\": \"number\",\n        \"std\": 9107.720779331034,\n        \"min\": 2.0,\n        \"max\": 36534.435,\n        \"num_unique_values\": 15,\n        \"samples\": [\n          778.91\n        ],\n        \"semantic_type\": \"\",\n        \"description\": \"\"\n      }\n    },\n    {\n      \"column\": \"75%\",\n      \"properties\": {\n        \"dtype\": \"number\",\n        \"std\": 18058.343341324347,\n        \"min\": 3.0,\n        \"max\": 72389.88,\n        \"num_unique_values\": 14,\n        \"samples\": [\n          36.69874650336054\n        ],\n        \"semantic_type\": \"\",\n        \"description\": \"\"\n      }\n    },\n    {\n      \"column\": \"max\",\n      \"properties\": {\n        \"dtype\": \"number\",\n        \"std\": 41620.68346416074,\n        \"min\": 9.0,\n        \"max\": 166837.64,\n        \"num_unique_values\": 15,\n        \"samples\": [\n          1499.92\n        ],\n        \"semantic_type\": \"\",\n        \"description\": \"\"\n      }\n    }\n  ]\n}"
            }
          },
          "metadata": {},
          "execution_count": 29
        }
      ],
      "source": [
        "df.describe().T"
      ]
    },
    {
      "cell_type": "code",
      "execution_count": 30,
      "metadata": {
        "colab": {
          "base_uri": "https://localhost:8080/",
          "height": 493
        },
        "id": "Q_GofD52-pZt",
        "outputId": "d693b3fe-badb-4969-d42a-d75457a53dec"
      },
      "outputs": [
        {
          "output_type": "display_data",
          "data": {
            "text/plain": [
              "<Figure size 1600x600 with 16 Axes>"
            ],
            "image/png": "[encoded data removed]"
          },
          "metadata": {}
        }
      ],
      "source": [
        "numeric_columns = df.select_dtypes(include=['int64', 'float64']).columns\n",
        "\n",
        "num_columns = 8\n",
        "num_rows = (len(numeric_columns) + num_columns - 1) // num_columns\n",
        "\n",
        "fig, axes = plt.subplots(num_rows, num_columns, figsize=(16, 6))\n",
        "\n",
        "axes = axes.flatten()\n",
        "\n",
        "for i, column in enumerate(numeric_columns):\n",
        "    sns.boxplot(x=df[column], ax=axes[i])\n",
        "    axes[i].set_title(column, fontsize=7)\n",
        "    axes[i].set_xlabel('Value', fontsize=7)\n",
        "    axes[i].set_ylabel('Count', fontsize=7)\n",
        "\n",
        "for j in range(len(numeric_columns), num_columns*num_rows):\n",
        "    axes[j].axis('off')\n",
        "\n",
        "plt.tight_layout()\n",
        "plt.show()"
      ]
    },
    {
      "cell_type": "markdown",
      "metadata": {
        "id": "Nsu_rFEPSNpg"
      },
      "source": [
        "    KEY 🗝️\n",
        "    ______________________________________________________________________\n",
        "    \n",
        "    Decision was made while making EDA. I looked at the plots and realized, that some outliers are way beyond Standard deviation. The challenge is to choose the right scaling for modeling.\n",
        "    \n",
        "    ______________________________________________________________________"
      ]
    },
    {
      "cell_type": "markdown",
      "metadata": {
        "id": "pMEsOEzsSNpg"
      },
      "source": [
        "##Encoding\n",
        "<a id=\"encoding\"></a>\n"
      ]
    },
    {
      "cell_type": "markdown",
      "metadata": {
        "id": "ZyumLf-oSNph"
      },
      "source": [
        "##Label Encoder\n",
        "<a id=\"label-encoder\"></a>"
      ]
    },
    {
      "cell_type": "code",
      "execution_count": 31,
      "metadata": {
        "id": "JEnwh3eOSNph"
      },
      "outputs": [],
      "source": [
        "categories = ['Poor', 'Standard', 'Good']\n",
        "\n",
        "encoder = OrdinalEncoder(categories=[categories])\n",
        "\n",
        "df['Credit_Score_Encoded'] = encoder.fit_transform(df[['Credit_Score']])"
      ]
    },
    {
      "cell_type": "code",
      "execution_count": 32,
      "metadata": {
        "id": "ky2aj3F3SNph"
      },
      "outputs": [],
      "source": [
        "# Encoding Occupation\n",
        "\n",
        "label_encoder = LabelEncoder()\n",
        "df['Occupation_Encoded'] = label_encoder.fit_transform(df['Occupation'])"
      ]
    },
    {
      "cell_type": "markdown",
      "metadata": {
        "id": "An8U5IyxSNph"
      },
      "source": [
        "##Ordinal Encoder\n",
        "<a id=\"ordinal-encoder\"></a>\n"
      ]
    },
    {
      "cell_type": "code",
      "execution_count": 33,
      "metadata": {
        "id": "kr3MYwzXSNph"
      },
      "outputs": [],
      "source": [
        "categories = ['Bad', 'Standard', 'Good']\n",
        "\n",
        "encoder = OrdinalEncoder(categories=[categories])\n",
        "\n",
        "df['Credit_Mix_Encoded'] = encoder.fit_transform(df[['Credit_Mix']])"
      ]
    },
    {
      "cell_type": "code",
      "execution_count": 34,
      "metadata": {
        "id": "T2ZY6TPbSNph"
      },
      "outputs": [],
      "source": [
        "categories_payment_behaviour = [\n",
        "    'Low_spent_Small_value_payments',\n",
        "    'Low_spent_Medium_value_payments',\n",
        "    'Low_spent_Large_value_payments',\n",
        "    'High_spent_Small_value_payments',\n",
        "    'High_spent_Medium_value_payments',\n",
        "    'High_spent_Large_value_payments'\n",
        "]\n",
        "\n",
        "encoder_payment_behaviour = OrdinalEncoder(categories=[categories_payment_behaviour])\n",
        "\n",
        "df['Payment_Behaviour_Encoded'] = encoder_payment_behaviour.fit_transform(df[['Payment_Behaviour']])"
      ]
    },
    {
      "cell_type": "code",
      "execution_count": 35,
      "metadata": {
        "id": "XekrRDBzSNph"
      },
      "outputs": [],
      "source": [
        "# Dropping Unencoded columns\n",
        "columns_to_drop = [ 'Payment_Behaviour', 'Credit_Mix', 'Occupation','Credit_Score']\n",
        "df.drop(columns=columns_to_drop, inplace=True)"
      ]
    },
    {
      "cell_type": "markdown",
      "metadata": {
        "id": "6AnHErq7SNph"
      },
      "source": [
        "##New Features\n",
        "<a id=\"new-features\"></a>\n"
      ]
    },
    {
      "cell_type": "markdown",
      "metadata": {
        "id": "DKzvM2pcSNph"
      },
      "source": [
        "    It might help to increase % of accuracy and reduce amount of errors."
      ]
    },
    {
      "cell_type": "code",
      "execution_count": 36,
      "metadata": {
        "id": "EWcXABf9SNph"
      },
      "outputs": [],
      "source": [
        "# Calculate the total number of accounts (Bank Accounts + Credit Cards)\n",
        "\n",
        "df['Total_Num_Accounts'] = df['Num_Bank_Accounts'] + df['Num_Credit_Card']\n",
        "\n",
        "# Calculate the total outstanding debt per account\n",
        "\n",
        "df['Debt_Per_Account'] = df['Outstanding_Debt'] / df['Total_Num_Accounts']\n",
        "\n",
        "# Calculate the ratio of outstanding debt to annual income\n",
        "\n",
        "df['Debt_to_Income_Ratio'] = df['Outstanding_Debt'] / df['Annual_Income']\n",
        "\n",
        "# Calculate the total number of delayed payments per account\n",
        "\n",
        "df['Delayed_Payments_Per_Account'] = df['Num_of_Delayed_Payment'] / df['Total_Num_Accounts']\n",
        "\n",
        "# Calculate the total monthly expenses (EMI + Monthly Investments)\n",
        "\n",
        "df['Total_Monthly_Expenses'] = df['Total_EMI_per_month'] + df['Amount_invested_monthly']\n"
      ]
    },
    {
      "cell_type": "markdown",
      "metadata": {
        "id": "d0CNfnT9SNph"
      },
      "source": [
        "##Mutual Information Score (MI Score)\n",
        "<a id=\"mutual-information-score\"></a>\n"
      ]
    },
    {
      "cell_type": "markdown",
      "metadata": {
        "id": "TQa21061SNph"
      },
      "source": [
        "    MI Score is a treasure! It will help you to recognize the most valuable variables for the prediction. Cool, right?"
      ]
    },
    {
      "cell_type": "code",
      "execution_count": 37,
      "metadata": {
        "colab": {
          "base_uri": "https://localhost:8080/"
        },
        "id": "ZCD7sueNSNph",
        "outputId": "dcfb45e9-9549-4bae-a642-ea8f775029d2"
      },
      "outputs": [
        {
          "output_type": "stream",
          "name": "stdout",
          "text": [
            "Feature 'Age': Mutual Information Score = 0.004964300605555749\n",
            "Feature 'Annual_Income': Mutual Information Score = 0.4279294552272739\n",
            "Feature 'Num_Bank_Accounts': Mutual Information Score = 0.05812977737378322\n",
            "Feature 'Num_Credit_Card': Mutual Information Score = 0.070430728423716\n",
            "Feature 'Interest_Rate': Mutual Information Score = 0.10203817093304801\n",
            "Feature 'Num_of_Loan': Mutual Information Score = 0.025713527947642145\n",
            "Feature 'Delay_from_due_date': Mutual Information Score = 0.06583644411851308\n",
            "Feature 'Num_of_Delayed_Payment': Mutual Information Score = 0.04997309110483816\n",
            "Feature 'Changed_Credit_Limit': Mutual Information Score = 0.10422487861322693\n",
            "Feature 'Num_Credit_Inquiries': Mutual Information Score = 0.03201837281917563\n",
            "Feature 'Outstanding_Debt': Mutual Information Score = 0.43140383761990364\n",
            "Feature 'Credit_Utilization_Ratio': Mutual Information Score = 0.0008940600062685711\n",
            "Feature 'Payment_of_Min_Amount': Mutual Information Score = 0.07077188032147208\n",
            "Feature 'Total_EMI_per_month': Mutual Information Score = 0.3504406109454492\n",
            "Feature 'Amount_invested_monthly': Mutual Information Score = 0.002450936011143101\n",
            "Feature 'Monthly_Balance': Mutual Information Score = 0.004944582883276594\n",
            "Feature 'Credit_History_Age_Months': Mutual Information Score = 0.018459390787272323\n",
            "Feature 'Occupation_Encoded': Mutual Information Score = 0.0\n",
            "Feature 'Credit_Mix_Encoded': Mutual Information Score = 0.1827952003010458\n",
            "Feature 'Payment_Behaviour_Encoded': Mutual Information Score = 0.0016441620168428095\n",
            "Feature 'Total_Num_Accounts': Mutual Information Score = 0.07950651283559163\n",
            "Feature 'Debt_Per_Account': Mutual Information Score = 0.43047537163653127\n",
            "Feature 'Debt_to_Income_Ratio': Mutual Information Score = 0.4315132874237706\n",
            "Feature 'Delayed_Payments_Per_Account': Mutual Information Score = 0.05422067951302245\n",
            "Feature 'Total_Monthly_Expenses': Mutual Information Score = 0.005232400797671843\n"
          ]
        }
      ],
      "source": [
        "categorical_columns = df.select_dtypes(include=['object']).columns\n",
        "\n",
        "data_encoded = df.copy()\n",
        "\n",
        "encoder = OrdinalEncoder()\n",
        "data_encoded[categorical_columns] = encoder.fit_transform(data_encoded[categorical_columns])\n",
        "\n",
        "y = data_encoded['Credit_Score_Encoded']\n",
        "X = data_encoded.drop(columns=['Credit_Score_Encoded'])\n",
        "\n",
        "mi_scores = mutual_info_classif(X, y)\n",
        "\n",
        "for i, score in enumerate(mi_scores):\n",
        "    print(f\"Feature '{X.columns[i]}': Mutual Information Score = {score}\")"
      ]
    },
    {
      "cell_type": "code",
      "execution_count": 38,
      "metadata": {
        "colab": {
          "base_uri": "https://localhost:8080/",
          "height": 542
        },
        "id": "eUbYNP7QSNph",
        "outputId": "25fe084b-09d9-4b91-e84c-f66f9e53587b"
      },
      "outputs": [
        {
          "output_type": "display_data",
          "data": {
            "text/html": [
              "<html>\n",
              "<head><meta charset=\"utf-8\" /></head>\n",
              "<body>\n",
              "    <div>            <script src=\"https://cdnjs.cloudflare.com/ajax/libs/mathjax/2.7.5/MathJax.js?config=TeX-AMS-MML_SVG\"></script><script type=\"text/javascript\">if (window.MathJax && window.MathJax.Hub && window.MathJax.Hub.Config) {window.MathJax.Hub.Config({SVG: {font: \"STIX-Web\"}});}</script>                <script type=\"text/javascript\">window.PlotlyConfig = {MathJaxConfig: 'local'};</script>\n",
              "        <script charset=\"utf-8\" src=\"https://cdn.plot.ly/plotly-2.35.2.min.js\"></script>                <div id=\"9bcc92e3-9014-40c0-a001-621810218802\" class=\"plotly-graph-div\" style=\"height:525px; width:100%;\"></div>            <script type=\"text/javascript\">                                    window.PLOTLYENV=window.PLOTLYENV || {};                                    if (document.getElementById(\"9bcc92e3-9014-40c0-a001-621810218802\")) {                    Plotly.newPlot(                        \"9bcc92e3-9014-40c0-a001-621810218802\",                        [{\"marker\":{\"color\":[0.4315132874237706,0.43140383761990364,0.43047537163653127,0.4279294552272739,0.3504406109454492,0.1827952003010458,0.10422487861322693,0.10203817093304801,0.07950651283559163,0.07077188032147208,0.070430728423716,0.06583644411851308,0.05812977737378322,0.05422067951302245,0.04997309110483816,0.03201837281917563,0.025713527947642145,0.018459390787272323,0.005232400797671843,0.004964300605555749,0.004944582883276594,0.002450936011143101,0.0016441620168428095,0.0008940600062685711,0.0],\"colorbar\":{\"len\":0.5,\"title\":{\"text\":\"Mutual Information Score\"},\"y\":0.2}},\"x\":[\"Debt_to_Income_Ratio\",\"Outstanding_Debt\",\"Debt_Per_Account\",\"Annual_Income\",\"Total_EMI_per_month\",\"Credit_Mix_Encoded\",\"Changed_Credit_Limit\",\"Interest_Rate\",\"Total_Num_Accounts\",\"Payment_of_Min_Amount\",\"Num_Credit_Card\",\"Delay_from_due_date\",\"Num_Bank_Accounts\",\"Delayed_Payments_Per_Account\",\"Num_of_Delayed_Payment\",\"Num_Credit_Inquiries\",\"Num_of_Loan\",\"Credit_History_Age_Months\",\"Total_Monthly_Expenses\",\"Age\",\"Monthly_Balance\",\"Amount_invested_monthly\",\"Payment_Behaviour_Encoded\",\"Credit_Utilization_Ratio\",\"Occupation_Encoded\"],\"y\":[0.4315132874237706,0.43140383761990364,0.43047537163653127,0.4279294552272739,0.3504406109454492,0.1827952003010458,0.10422487861322693,0.10203817093304801,0.07950651283559163,0.07077188032147208,0.070430728423716,0.06583644411851308,0.05812977737378322,0.05422067951302245,0.04997309110483816,0.03201837281917563,0.025713527947642145,0.018459390787272323,0.005232400797671843,0.004964300605555749,0.004944582883276594,0.002450936011143101,0.0016441620168428095,0.0008940600062685711,0.0],\"type\":\"bar\"}],                        {\"template\":{\"data\":{\"histogram2dcontour\":[{\"type\":\"histogram2dcontour\",\"colorbar\":{\"outlinewidth\":0,\"ticks\":\"\"},\"colorscale\":[[0.0,\"#0d0887\"],[0.1111111111111111,\"#46039f\"],[0.2222222222222222,\"#7201a8\"],[0.3333333333333333,\"#9c179e\"],[0.4444444444444444,\"#bd3786\"],[0.5555555555555556,\"#d8576b\"],[0.6666666666666666,\"#ed7953\"],[0.7777777777777778,\"#fb9f3a\"],[0.8888888888888888,\"#fdca26\"],[1.0,\"#f0f921\"]]}],\"choropleth\":[{\"type\":\"choropleth\",\"colorbar\":{\"outlinewidth\":0,\"ticks\":\"\"}}],\"histogram2d\":[{\"type\":\"histogram2d\",\"colorbar\":{\"outlinewidth\":0,\"ticks\":\"\"},\"colorscale\":[[0.0,\"#0d0887\"],[0.1111111111111111,\"#46039f\"],[0.2222222222222222,\"#7201a8\"],[0.3333333333333333,\"#9c179e\"],[0.4444444444444444,\"#bd3786\"],[0.5555555555555556,\"#d8576b\"],[0.6666666666666666,\"#ed7953\"],[0.7777777777777778,\"#fb9f3a\"],[0.8888888888888888,\"#fdca26\"],[1.0,\"#f0f921\"]]}],\"heatmap\":[{\"type\":\"heatmap\",\"colorbar\":{\"outlinewidth\":0,\"ticks\":\"\"},\"colorscale\":[[0.0,\"#0d0887\"],[0.1111111111111111,\"#46039f\"],[0.2222222222222222,\"#7201a8\"],[0.3333333333333333,\"#9c179e\"],[0.4444444444444444,\"#bd3786\"],[0.5555555555555556,\"#d8576b\"],[0.6666666666666666,\"#ed7953\"],[0.7777777777777778,\"#fb9f3a\"],[0.8888888888888888,\"#fdca26\"],[1.0,\"#f0f921\"]]}],\"heatmapgl\":[{\"type\":\"heatmapgl\",\"colorbar\":{\"outlinewidth\":0,\"ticks\":\"\"},\"colorscale\":[[0.0,\"#0d0887\"],[0.1111111111111111,\"#46039f\"],[0.2222222222222222,\"#7201a8\"],[0.3333333333333333,\"#9c179e\"],[0.4444444444444444,\"#bd3786\"],[0.5555555555555556,\"#d8576b\"],[0.6666666666666666,\"#ed7953\"],[0.7777777777777778,\"#fb9f3a\"],[0.8888888888888888,\"#fdca26\"],[1.0,\"#f0f921\"]]}],\"contourcarpet\":[{\"type\":\"contourcarpet\",\"colorbar\":{\"outlinewidth\":0,\"ticks\":\"\"}}],\"contour\":[{\"type\":\"contour\",\"colorbar\":{\"outlinewidth\":0,\"ticks\":\"\"},\"colorscale\":[[0.0,\"#0d0887\"],[0.1111111111111111,\"#46039f\"],[0.2222222222222222,\"#7201a8\"],[0.3333333333333333,\"#9c179e\"],[0.4444444444444444,\"#bd3786\"],[0.5555555555555556,\"#d8576b\"],[0.6666666666666666,\"#ed7953\"],[0.7777777777777778,\"#fb9f3a\"],[0.8888888888888888,\"#fdca26\"],[1.0,\"#f0f921\"]]}],\"surface\":[{\"type\":\"surface\",\"colorbar\":{\"outlinewidth\":0,\"ticks\":\"\"},\"colorscale\":[[0.0,\"#0d0887\"],[0.1111111111111111,\"#46039f\"],[0.2222222222222222,\"#7201a8\"],[0.3333333333333333,\"#9c179e\"],[0.4444444444444444,\"#bd3786\"],[0.5555555555555556,\"#d8576b\"],[0.6666666666666666,\"#ed7953\"],[0.7777777777777778,\"#fb9f3a\"],[0.8888888888888888,\"#fdca26\"],[1.0,\"#f0f921\"]]}],\"mesh3d\":[{\"type\":\"mesh3d\",\"colorbar\":{\"outlinewidth\":0,\"ticks\":\"\"}}],\"scatter\":[{\"fillpattern\":{\"fillmode\":\"overlay\",\"size\":10,\"solidity\":0.2},\"type\":\"scatter\"}],\"parcoords\":[{\"type\":\"parcoords\",\"line\":{\"colorbar\":{\"outlinewidth\":0,\"ticks\":\"\"}}}],\"scatterpolargl\":[{\"type\":\"scatterpolargl\",\"marker\":{\"colorbar\":{\"outlinewidth\":0,\"ticks\":\"\"}}}],\"bar\":[{\"error_x\":{\"color\":\"#2a3f5f\"},\"error_y\":{\"color\":\"#2a3f5f\"},\"marker\":{\"line\":{\"color\":\"#E5ECF6\",\"width\":0.5},\"pattern\":{\"fillmode\":\"overlay\",\"size\":10,\"solidity\":0.2}},\"type\":\"bar\"}],\"scattergeo\":[{\"type\":\"scattergeo\",\"marker\":{\"colorbar\":{\"outlinewidth\":0,\"ticks\":\"\"}}}],\"scatterpolar\":[{\"type\":\"scatterpolar\",\"marker\":{\"colorbar\":{\"outlinewidth\":0,\"ticks\":\"\"}}}],\"histogram\":[{\"marker\":{\"pattern\":{\"fillmode\":\"overlay\",\"size\":10,\"solidity\":0.2}},\"type\":\"histogram\"}],\"scattergl\":[{\"type\":\"scattergl\",\"marker\":{\"colorbar\":{\"outlinewidth\":0,\"ticks\":\"\"}}}],\"scatter3d\":[{\"type\":\"scatter3d\",\"line\":{\"colorbar\":{\"outlinewidth\":0,\"ticks\":\"\"}},\"marker\":{\"colorbar\":{\"outlinewidth\":0,\"ticks\":\"\"}}}],\"scattermapbox\":[{\"type\":\"scattermapbox\",\"marker\":{\"colorbar\":{\"outlinewidth\":0,\"ticks\":\"\"}}}],\"scatterternary\":[{\"type\":\"scatterternary\",\"marker\":{\"colorbar\":{\"outlinewidth\":0,\"ticks\":\"\"}}}],\"scattercarpet\":[{\"type\":\"scattercarpet\",\"marker\":{\"colorbar\":{\"outlinewidth\":0,\"ticks\":\"\"}}}],\"carpet\":[{\"aaxis\":{\"endlinecolor\":\"#2a3f5f\",\"gridcolor\":\"white\",\"linecolor\":\"white\",\"minorgridcolor\":\"white\",\"startlinecolor\":\"#2a3f5f\"},\"baxis\":{\"endlinecolor\":\"#2a3f5f\",\"gridcolor\":\"white\",\"linecolor\":\"white\",\"minorgridcolor\":\"white\",\"startlinecolor\":\"#2a3f5f\"},\"type\":\"carpet\"}],\"table\":[{\"cells\":{\"fill\":{\"color\":\"#EBF0F8\"},\"line\":{\"color\":\"white\"}},\"header\":{\"fill\":{\"color\":\"#C8D4E3\"},\"line\":{\"color\":\"white\"}},\"type\":\"table\"}],\"barpolar\":[{\"marker\":{\"line\":{\"color\":\"#E5ECF6\",\"width\":0.5},\"pattern\":{\"fillmode\":\"overlay\",\"size\":10,\"solidity\":0.2}},\"type\":\"barpolar\"}],\"pie\":[{\"automargin\":true,\"type\":\"pie\"}]},\"layout\":{\"autotypenumbers\":\"strict\",\"colorway\":[\"#636efa\",\"#EF553B\",\"#00cc96\",\"#ab63fa\",\"#FFA15A\",\"#19d3f3\",\"#FF6692\",\"#B6E880\",\"#FF97FF\",\"#FECB52\"],\"font\":{\"color\":\"#2a3f5f\"},\"hovermode\":\"closest\",\"hoverlabel\":{\"align\":\"left\"},\"paper_bgcolor\":\"white\",\"plot_bgcolor\":\"#E5ECF6\",\"polar\":{\"bgcolor\":\"#E5ECF6\",\"angularaxis\":{\"gridcolor\":\"white\",\"linecolor\":\"white\",\"ticks\":\"\"},\"radialaxis\":{\"gridcolor\":\"white\",\"linecolor\":\"white\",\"ticks\":\"\"}},\"ternary\":{\"bgcolor\":\"#E5ECF6\",\"aaxis\":{\"gridcolor\":\"white\",\"linecolor\":\"white\",\"ticks\":\"\"},\"baxis\":{\"gridcolor\":\"white\",\"linecolor\":\"white\",\"ticks\":\"\"},\"caxis\":{\"gridcolor\":\"white\",\"linecolor\":\"white\",\"ticks\":\"\"}},\"coloraxis\":{\"colorbar\":{\"outlinewidth\":0,\"ticks\":\"\"}},\"colorscale\":{\"sequential\":[[0.0,\"#0d0887\"],[0.1111111111111111,\"#46039f\"],[0.2222222222222222,\"#7201a8\"],[0.3333333333333333,\"#9c179e\"],[0.4444444444444444,\"#bd3786\"],[0.5555555555555556,\"#d8576b\"],[0.6666666666666666,\"#ed7953\"],[0.7777777777777778,\"#fb9f3a\"],[0.8888888888888888,\"#fdca26\"],[1.0,\"#f0f921\"]],\"sequentialminus\":[[0.0,\"#0d0887\"],[0.1111111111111111,\"#46039f\"],[0.2222222222222222,\"#7201a8\"],[0.3333333333333333,\"#9c179e\"],[0.4444444444444444,\"#bd3786\"],[0.5555555555555556,\"#d8576b\"],[0.6666666666666666,\"#ed7953\"],[0.7777777777777778,\"#fb9f3a\"],[0.8888888888888888,\"#fdca26\"],[1.0,\"#f0f921\"]],\"diverging\":[[0,\"#8e0152\"],[0.1,\"#c51b7d\"],[0.2,\"#de77ae\"],[0.3,\"#f1b6da\"],[0.4,\"#fde0ef\"],[0.5,\"#f7f7f7\"],[0.6,\"#e6f5d0\"],[0.7,\"#b8e186\"],[0.8,\"#7fbc41\"],[0.9,\"#4d9221\"],[1,\"#276419\"]]},\"xaxis\":{\"gridcolor\":\"white\",\"linecolor\":\"white\",\"ticks\":\"\",\"title\":{\"standoff\":15},\"zerolinecolor\":\"white\",\"automargin\":true,\"zerolinewidth\":2},\"yaxis\":{\"gridcolor\":\"white\",\"linecolor\":\"white\",\"ticks\":\"\",\"title\":{\"standoff\":15},\"zerolinecolor\":\"white\",\"automargin\":true,\"zerolinewidth\":2},\"scene\":{\"xaxis\":{\"backgroundcolor\":\"#E5ECF6\",\"gridcolor\":\"white\",\"linecolor\":\"white\",\"showbackground\":true,\"ticks\":\"\",\"zerolinecolor\":\"white\",\"gridwidth\":2},\"yaxis\":{\"backgroundcolor\":\"#E5ECF6\",\"gridcolor\":\"white\",\"linecolor\":\"white\",\"showbackground\":true,\"ticks\":\"\",\"zerolinecolor\":\"white\",\"gridwidth\":2},\"zaxis\":{\"backgroundcolor\":\"#E5ECF6\",\"gridcolor\":\"white\",\"linecolor\":\"white\",\"showbackground\":true,\"ticks\":\"\",\"zerolinecolor\":\"white\",\"gridwidth\":2}},\"shapedefaults\":{\"line\":{\"color\":\"#2a3f5f\"}},\"annotationdefaults\":{\"arrowcolor\":\"#2a3f5f\",\"arrowhead\":0,\"arrowwidth\":1},\"geo\":{\"bgcolor\":\"white\",\"landcolor\":\"#E5ECF6\",\"subunitcolor\":\"white\",\"showland\":true,\"showlakes\":true,\"lakecolor\":\"white\"},\"title\":{\"x\":0.05},\"mapbox\":{\"style\":\"light\"}}},\"title\":{\"text\":\"Mutual Information Scores for Each Feature\"},\"xaxis\":{\"title\":{\"text\":\"Features\"}},\"yaxis\":{\"title\":{\"text\":\"Mutual Information Score\"}}},                        {\"responsive\": true}                    ).then(function(){\n",
              "                            \n",
              "var gd = document.getElementById('9bcc92e3-9014-40c0-a001-621810218802');\n",
              "var x = new MutationObserver(function (mutations, observer) {{\n",
              "        var display = window.getComputedStyle(gd).display;\n",
              "        if (!display || display === 'none') {{\n",
              "            console.log([gd, 'removed!']);\n",
              "            Plotly.purge(gd);\n",
              "            observer.disconnect();\n",
              "        }}\n",
              "}});\n",
              "\n",
              "// Listen for the removal of the full notebook cells\n",
              "var notebookContainer = gd.closest('#notebook-container');\n",
              "if (notebookContainer) {{\n",
              "    x.observe(notebookContainer, {childList: true});\n",
              "}}\n",
              "\n",
              "// Listen for the clearing of the current output cell\n",
              "var outputEl = gd.closest('.output');\n",
              "if (outputEl) {{\n",
              "    x.observe(outputEl, {childList: true});\n",
              "}}\n",
              "\n",
              "                        })                };                            </script>        </div>\n",
              "</body>\n",
              "</html>"
            ]
          },
          "metadata": {}
        }
      ],
      "source": [
        "sorted_mi_scores = sorted(zip(X.columns, mi_scores), key=lambda x: x[1], reverse=True)\n",
        "sorted_columns = [x[0] for x in sorted_mi_scores]\n",
        "sorted_scores = [x[1] for x in sorted_mi_scores]\n",
        "\n",
        "colorscale = 'Viridis'\n",
        "\n",
        "fig = go.Figure(data=[go.Bar(x=sorted_columns, y=sorted_scores, marker=dict(color=sorted_scores, colorbar=dict(title='Mutual Information Score', len=0.5, y=0.2)))])\n",
        "\n",
        "fig.update_layout(title='Mutual Information Scores for Each Feature',\n",
        "                  xaxis_title='Features',\n",
        "                  yaxis_title='Mutual Information Score')\n",
        "\n",
        "fig.show()"
      ]
    },
    {
      "cell_type": "markdown",
      "metadata": {
        "id": "r6IH6Y2eSNph"
      },
      "source": [
        "    KEY 🗝️\n",
        "    ______________________________________________________________________\n",
        "    \n",
        "    Annual Income: With a high Mutual Information Score of 0.430, the annual income appears to be a significant predictor of credit score rate. Generally, individuals with higher annual incomes tend to have better credit scores.\n",
        "\n",
        "    Outstanding Debt: Another crucial factor is outstanding debt, which has a Mutual Information Score of 0.429. High levels of outstanding debt may negatively impact credit score rates.\n",
        "\n",
        "    Debt-to-Income Ratio: This feature also demonstrates a high importance with a Mutual Information Score of 0.433. It measures the proportion of a person's debt relative to their income and is a strong indicator of creditworthiness.\n",
        "\n",
        "    Total EMI per Month: Total Equated Monthly Installment (EMI) obligations carry a substantial weight (Mutual Information Score of 0.349) in predicting credit score rates. Higher EMI commitments might suggest higher financial stress and impact credit scores negatively.\n",
        "\n",
        "    Interest Rate: While not as high as the debt-related features, the interest rate still holds significant importance with a Mutual Information Score of 0.100. Higher interest rates may indicate riskier borrowing behavior and could negatively influence credit scores.  \n",
        "    \n",
        "    ______________________________________________________________________"
      ]
    },
    {
      "cell_type": "markdown",
      "metadata": {
        "id": "K8eN0SSaSNph"
      },
      "source": [
        "    ✂️ Dropping low related values for MI Score\n",
        "\n"
      ]
    },
    {
      "cell_type": "code",
      "execution_count": 39,
      "metadata": {
        "id": "mcWB-vqbSNpi"
      },
      "outputs": [],
      "source": [
        "# Getting rid of columns which are not important for prediction. Even so we just created new features, some of them seems to be not effective for the model\n",
        "# I tried to get rid of other columns. However, the prediction accuracy was harmed by that.\n",
        "\n",
        "columns_to_drop = [ 'Payment_of_Min_Amount', 'Monthly_Balance', 'Total_Monthly_Expenses', 'Payment_Behaviour_Encoded', 'Amount_invested_monthly', 'Credit_Utilization_Ratio', 'Occupation_Encoded']\n",
        "df.drop(columns=columns_to_drop, inplace=True)"
      ]
    },
    {
      "cell_type": "markdown",
      "metadata": {
        "id": "8wVPkj3dSNpi"
      },
      "source": [
        "<a id=\"eda\"></a>\n",
        "## 5. 📊 EDA"
      ]
    },
    {
      "cell_type": "markdown",
      "metadata": {
        "id": "6ka1dohRSNpi"
      },
      "source": [
        "## 5.1 🧱 Correlation Matrix\n",
        "<a id=\"correlation-matrix\"></a>\n"
      ]
    },
    {
      "cell_type": "code",
      "execution_count": 40,
      "metadata": {
        "colab": {
          "base_uri": "https://localhost:8080/",
          "height": 1000
        },
        "id": "1LBibj6ZSNpi",
        "outputId": "de1bf893-6c02-4c23-c724-17adc4c96a32"
      },
      "outputs": [
        {
          "output_type": "display_data",
          "data": {
            "text/plain": [
              "<Figure size 1600x1200 with 2 Axes>"
            ],
            "image/png": "[encoded data removed]"
          },
          "metadata": {}
        }
      ],
      "source": [
        "# Calculate Correlation Matrix\n",
        "\n",
        "corr = df.select_dtypes(include=['float64', 'int64']).corr(method='pearson')\n",
        "mask = np.triu(np.ones_like(corr, dtype=bool))\n",
        "\n",
        "plt.figure(figsize=(16, 12))\n",
        "sns.heatmap(corr, mask=mask, vmax=0.9, square=True, annot=True)\n",
        "plt.title('Correlation Matrix')\n",
        "plt.show()"
      ]
    },
    {
      "cell_type": "markdown",
      "metadata": {
        "id": "vXdKaxq8SNpi"
      },
      "source": [
        "    KEY 🗝️\n",
        "    ______________________________________________________________________\n",
        "    \n",
        "    Financial Stability Indicators: Features such as 'Annual_Income', 'Num_Bank_Accounts', 'Num_Credit_Card', and 'Total_Num_Accounts' demonstrate positive correlations with each other and with the Credit score. This suggests that individuals with higher annual incomes or more diverse banking and credit card accounts tend to have higher credit scores.\n",
        "\n",
        "    Debt-related Metrics: 'Debt_to_Income_Ratio' and 'Debt_Per_Account' exhibit negative correlations with the Credit score. This indicates that individuals with higher debt-to-income ratios or greater debt per account tend to have lower credit scores. Furthermore, 'Outstanding_Debt' demonstrates a weaker negative correlation with the credit score, highlighting its impact on overall creditworthiness.\n",
        "\n",
        "    Credit Utilization and History: 'Total_EMI_per_month', representing monthly loan repayments, shows a positive correlation with the Credit score. Additionally, features related to credit history, such as 'Credit_History_Age_Months' and 'Credit_Mix_Encoded\", suggests that individuals with longer credit histories, diverse credit accounts, and timely repayments tend to have higher credit scores.\n",
        "\n",
        "    Loan-related Factors: Features like 'Num_of_Loan' and 'Num_of_Delayed_Payment' indicate an individual's borrowing behavior and repayment patterns. This implies that individuals with fewer loan accounts or instances of delayed payments are more likely to have higher Credit scores.\n",
        "\n",
        "    Interest Rate and Financial Behavior: 'Interest_Rate' reveals a relationship with the Credit score, suggesting that individuals with lower Interest rates on their loans may have higher Credit scores. Moreover, 'Changed_Credit_Limit' and 'Num_Credit_Inquiries' also exhibit correlations, reflecting changes in credit limits and the frequency of credit inquiries, respectively.\n",
        "    \n",
        "    ______________________________________________________________________"
      ]
    },
    {
      "cell_type": "code",
      "execution_count": 41,
      "metadata": {
        "colab": {
          "base_uri": "https://localhost:8080/",
          "height": 493
        },
        "id": "TV9ELt8JSNpi",
        "outputId": "2874bb65-c077-42e5-e2b6-5463da427813"
      },
      "outputs": [
        {
          "output_type": "display_data",
          "data": {
            "text/plain": [
              "<Figure size 1600x600 with 24 Axes>"
            ],
            "image/png": "[encoded data removed]"
          },
          "metadata": {}
        }
      ],
      "source": [
        "numeric_columns = df.select_dtypes(include=['int64', 'float64']).columns\n",
        "\n",
        "num_columns = 8\n",
        "num_rows = (len(numeric_columns) + num_columns - 1) // num_columns\n",
        "\n",
        "fig, axes = plt.subplots(num_rows, num_columns, figsize=(16, 6))\n",
        "\n",
        "axes = axes.flatten()\n",
        "\n",
        "for i, column in enumerate(numeric_columns):\n",
        "    sns.boxplot(x=df[column], ax=axes[i])\n",
        "    axes[i].set_title(column, fontsize=7)\n",
        "    axes[i].set_xlabel('Value', fontsize=7)\n",
        "    axes[i].set_ylabel('Count', fontsize=7)\n",
        "\n",
        "for j in range(len(numeric_columns), num_columns*num_rows):\n",
        "    axes[j].axis('off')\n",
        "\n",
        "plt.tight_layout()\n",
        "plt.show()"
      ]
    },
    {
      "cell_type": "markdown",
      "metadata": {
        "id": "oimqZ7qqSNpi"
      },
      "source": [
        "    KEY 🗝️  \n",
        "    ______________________________________________________________________\n",
        "    \n",
        "    Let's not Scale New Features. Farther cut only produces more errors and damage accuracy (I've leraned it the hard way...)\n",
        "    ______________________________________________________________________"
      ]
    },
    {
      "cell_type": "markdown",
      "metadata": {
        "id": "7Y6YE6U7SNpi"
      },
      "source": [
        "## 6. 🧩 Model\n",
        "<a id=\"model\"></a>\n"
      ]
    },
    {
      "cell_type": "markdown",
      "metadata": {
        "id": "dSIuG-RpSNpi"
      },
      "source": [
        "### 6.0.1 🏗️ Buildind a Model\n",
        "<a id=\"building-model\"></a>\n"
      ]
    },
    {
      "cell_type": "code",
      "execution_count": 42,
      "metadata": {
        "id": "4K-WWvblSNpi"
      },
      "outputs": [],
      "source": [
        "y = df['Credit_Score_Encoded']\n",
        "\n",
        "X = df[['Age','Annual_Income', 'Num_Bank_Accounts', 'Num_Credit_Card',\n",
        "       'Interest_Rate', 'Num_of_Loan', 'Delay_from_due_date',\n",
        "       'Num_of_Delayed_Payment', 'Changed_Credit_Limit',\n",
        "       'Num_Credit_Inquiries', 'Outstanding_Debt', 'Total_EMI_per_month',\n",
        "       'Credit_History_Age_Months', 'Credit_Mix_Encoded', 'Total_Num_Accounts',\n",
        "       'Debt_Per_Account', 'Debt_to_Income_Ratio', 'Delayed_Payments_Per_Account']]\n",
        "\n",
        "X_train, X_test, y_train, y_test = train_test_split(X, y, test_size=0.2, random_state=77)"
      ]
    },
    {
      "cell_type": "markdown",
      "metadata": {
        "id": "RPxen1Z6SNpi"
      },
      "source": [
        "## 6.1 🧜‍♀️ MSE Model Fashion Show\n",
        "<a id=\"mse-models\"></a>"
      ]
    },
    {
      "cell_type": "markdown",
      "metadata": {
        "id": "GKeYjGbXSNpi"
      },
      "source": [
        "## 6.1.1 🌲 RandomForestRegressor\n",
        "<a id=\"randomforestregressor\"></a>\n"
      ]
    },
    {
      "cell_type": "code",
      "execution_count": 43,
      "metadata": {
        "colab": {
          "base_uri": "https://localhost:8080/",
          "height": 80
        },
        "id": "2yOaA0hmSNpi",
        "outputId": "aafca8d9-8f2f-4c8b-fcce-afc99a9bbcb1"
      },
      "outputs": [
        {
          "output_type": "execute_result",
          "data": {
            "text/plain": [
              "RandomForestRegressor(n_estimators=500, random_state=77)"
            ],
            "text/html": [
              "<style>#sk-container-id-1 {\n",
              "  /* Definition of color scheme common for light and dark mode */\n",
              "  --sklearn-color-text: #000;\n",
              "  --sklearn-color-text-muted: #666;\n",
              "  --sklearn-color-line: gray;\n",
              "  /* Definition of color scheme for unfitted estimators */\n",
              "  --sklearn-color-unfitted-level-0: #fff5e6;\n",
              "  --sklearn-color-unfitted-level-1: #f6e4d2;\n",
              "  --sklearn-color-unfitted-level-2: #ffe0b3;\n",
              "  --sklearn-color-unfitted-level-3: chocolate;\n",
              "  /* Definition of color scheme for fitted estimators */\n",
              "  --sklearn-color-fitted-level-0: #f0f8ff;\n",
              "  --sklearn-color-fitted-level-1: #d4ebff;\n",
              "  --sklearn-color-fitted-level-2: #b3dbfd;\n",
              "  --sklearn-color-fitted-level-3: cornflowerblue;\n",
              "\n",
              "  /* Specific color for light theme */\n",
              "  --sklearn-color-text-on-default-background: var(--sg-text-color, var(--theme-code-foreground, var(--jp-content-font-color1, black)));\n",
              "  --sklearn-color-background: var(--sg-background-color, var(--theme-background, var(--jp-layout-color0, white)));\n",
              "  --sklearn-color-border-box: var(--sg-text-color, var(--theme-code-foreground, var(--jp-content-font-color1, black)));\n",
              "  --sklearn-color-icon: #696969;\n",
              "\n",
              "  @media (prefers-color-scheme: dark) {\n",
              "    /* Redefinition of color scheme for dark theme */\n",
              "    --sklearn-color-text-on-default-background: var(--sg-text-color, var(--theme-code-foreground, var(--jp-content-font-color1, white)));\n",
              "    --sklearn-color-background: var(--sg-background-color, var(--theme-background, var(--jp-layout-color0, #111)));\n",
              "    --sklearn-color-border-box: var(--sg-text-color, var(--theme-code-foreground, var(--jp-content-font-color1, white)));\n",
              "    --sklearn-color-icon: #878787;\n",
              "  }\n",
              "}\n",
              "\n",
              "#sk-container-id-1 {\n",
              "  color: var(--sklearn-color-text);\n",
              "}\n",
              "\n",
              "#sk-container-id-1 pre {\n",
              "  padding: 0;\n",
              "}\n",
              "\n",
              "#sk-container-id-1 input.sk-hidden--visually {\n",
              "  border: 0;\n",
              "  clip: rect(1px 1px 1px 1px);\n",
              "  clip: rect(1px, 1px, 1px, 1px);\n",
              "  height: 1px;\n",
              "  margin: -1px;\n",
              "  overflow: hidden;\n",
              "  padding: 0;\n",
              "  position: absolute;\n",
              "  width: 1px;\n",
              "}\n",
              "\n",
              "#sk-container-id-1 div.sk-dashed-wrapped {\n",
              "  border: 1px dashed var(--sklearn-color-line);\n",
              "  margin: 0 0.4em 0.5em 0.4em;\n",
              "  box-sizing: border-box;\n",
              "  padding-bottom: 0.4em;\n",
              "  background-color: var(--sklearn-color-background);\n",
              "}\n",
              "\n",
              "#sk-container-id-1 div.sk-container {\n",
              "  /* jupyter's `normalize.less` sets `[hidden] { display: none; }`\n",
              "     but bootstrap.min.css set `[hidden] { display: none !important; }`\n",
              "     so we also need the `!important` here to be able to override the\n",
              "     default hidden behavior on the sphinx rendered scikit-learn.org.\n",
              "     See: https://github.com/scikit-learn/scikit-learn/issues/21755 */\n",
              "  display: inline-block !important;\n",
              "  position: relative;\n",
              "}\n",
              "\n",
              "#sk-container-id-1 div.sk-text-repr-fallback {\n",
              "  display: none;\n",
              "}\n",
              "\n",
              "div.sk-parallel-item,\n",
              "div.sk-serial,\n",
              "div.sk-item {\n",
              "  /* draw centered vertical line to link estimators */\n",
              "  background-image: linear-gradient(var(--sklearn-color-text-on-default-background), var(--sklearn-color-text-on-default-background));\n",
              "  background-size: 2px 100%;\n",
              "  background-repeat: no-repeat;\n",
              "  background-position: center center;\n",
              "}\n",
              "\n",
              "/* Parallel-specific style estimator block */\n",
              "\n",
              "#sk-container-id-1 div.sk-parallel-item::after {\n",
              "  content: \"\";\n",
              "  width: 100%;\n",
              "  border-bottom: 2px solid var(--sklearn-color-text-on-default-background);\n",
              "  flex-grow: 1;\n",
              "}\n",
              "\n",
              "#sk-container-id-1 div.sk-parallel {\n",
              "  display: flex;\n",
              "  align-items: stretch;\n",
              "  justify-content: center;\n",
              "  background-color: var(--sklearn-color-background);\n",
              "  position: relative;\n",
              "}\n",
              "\n",
              "#sk-container-id-1 div.sk-parallel-item {\n",
              "  display: flex;\n",
              "  flex-direction: column;\n",
              "}\n",
              "\n",
              "#sk-container-id-1 div.sk-parallel-item:first-child::after {\n",
              "  align-self: flex-end;\n",
              "  width: 50%;\n",
              "}\n",
              "\n",
              "#sk-container-id-1 div.sk-parallel-item:last-child::after {\n",
              "  align-self: flex-start;\n",
              "  width: 50%;\n",
              "}\n",
              "\n",
              "#sk-container-id-1 div.sk-parallel-item:only-child::after {\n",
              "  width: 0;\n",
              "}\n",
              "\n",
              "/* Serial-specific style estimator block */\n",
              "\n",
              "#sk-container-id-1 div.sk-serial {\n",
              "  display: flex;\n",
              "  flex-direction: column;\n",
              "  align-items: center;\n",
              "  background-color: var(--sklearn-color-background);\n",
              "  padding-right: 1em;\n",
              "  padding-left: 1em;\n",
              "}\n",
              "\n",
              "\n",
              "/* Toggleable style: style used for estimator/Pipeline/ColumnTransformer box that is\n",
              "clickable and can be expanded/collapsed.\n",
              "- Pipeline and ColumnTransformer use this feature and define the default style\n",
              "- Estimators will overwrite some part of the style using the `sk-estimator` class\n",
              "*/\n",
              "\n",
              "/* Pipeline and ColumnTransformer style (default) */\n",
              "\n",
              "#sk-container-id-1 div.sk-toggleable {\n",
              "  /* Default theme specific background. It is overwritten whether we have a\n",
              "  specific estimator or a Pipeline/ColumnTransformer */\n",
              "  background-color: var(--sklearn-color-background);\n",
              "}\n",
              "\n",
              "/* Toggleable label */\n",
              "#sk-container-id-1 label.sk-toggleable__label {\n",
              "  cursor: pointer;\n",
              "  display: flex;\n",
              "  width: 100%;\n",
              "  margin-bottom: 0;\n",
              "  padding: 0.5em;\n",
              "  box-sizing: border-box;\n",
              "  text-align: center;\n",
              "  align-items: start;\n",
              "  justify-content: space-between;\n",
              "  gap: 0.5em;\n",
              "}\n",
              "\n",
              "#sk-container-id-1 label.sk-toggleable__label .caption {\n",
              "  font-size: 0.6rem;\n",
              "  font-weight: lighter;\n",
              "  color: var(--sklearn-color-text-muted);\n",
              "}\n",
              "\n",
              "#sk-container-id-1 label.sk-toggleable__label-arrow:before {\n",
              "  /* Arrow on the left of the label */\n",
              "  content: \"▸\";\n",
              "  float: left;\n",
              "  margin-right: 0.25em;\n",
              "  color: var(--sklearn-color-icon);\n",
              "}\n",
              "\n",
              "#sk-container-id-1 label.sk-toggleable__label-arrow:hover:before {\n",
              "  color: var(--sklearn-color-text);\n",
              "}\n",
              "\n",
              "/* Toggleable content - dropdown */\n",
              "\n",
              "#sk-container-id-1 div.sk-toggleable__content {\n",
              "  max-height: 0;\n",
              "  max-width: 0;\n",
              "  overflow: hidden;\n",
              "  text-align: left;\n",
              "  /* unfitted */\n",
              "  background-color: var(--sklearn-color-unfitted-level-0);\n",
              "}\n",
              "\n",
              "#sk-container-id-1 div.sk-toggleable__content.fitted {\n",
              "  /* fitted */\n",
              "  background-color: var(--sklearn-color-fitted-level-0);\n",
              "}\n",
              "\n",
              "#sk-container-id-1 div.sk-toggleable__content pre {\n",
              "  margin: 0.2em;\n",
              "  border-radius: 0.25em;\n",
              "  color: var(--sklearn-color-text);\n",
              "  /* unfitted */\n",
              "  background-color: var(--sklearn-color-unfitted-level-0);\n",
              "}\n",
              "\n",
              "#sk-container-id-1 div.sk-toggleable__content.fitted pre {\n",
              "  /* unfitted */\n",
              "  background-color: var(--sklearn-color-fitted-level-0);\n",
              "}\n",
              "\n",
              "#sk-container-id-1 input.sk-toggleable__control:checked~div.sk-toggleable__content {\n",
              "  /* Expand drop-down */\n",
              "  max-height: 200px;\n",
              "  max-width: 100%;\n",
              "  overflow: auto;\n",
              "}\n",
              "\n",
              "#sk-container-id-1 input.sk-toggleable__control:checked~label.sk-toggleable__label-arrow:before {\n",
              "  content: \"▾\";\n",
              "}\n",
              "\n",
              "/* Pipeline/ColumnTransformer-specific style */\n",
              "\n",
              "#sk-container-id-1 div.sk-label input.sk-toggleable__control:checked~label.sk-toggleable__label {\n",
              "  color: var(--sklearn-color-text);\n",
              "  background-color: var(--sklearn-color-unfitted-level-2);\n",
              "}\n",
              "\n",
              "#sk-container-id-1 div.sk-label.fitted input.sk-toggleable__control:checked~label.sk-toggleable__label {\n",
              "  background-color: var(--sklearn-color-fitted-level-2);\n",
              "}\n",
              "\n",
              "/* Estimator-specific style */\n",
              "\n",
              "/* Colorize estimator box */\n",
              "#sk-container-id-1 div.sk-estimator input.sk-toggleable__control:checked~label.sk-toggleable__label {\n",
              "  /* unfitted */\n",
              "  background-color: var(--sklearn-color-unfitted-level-2);\n",
              "}\n",
              "\n",
              "#sk-container-id-1 div.sk-estimator.fitted input.sk-toggleable__control:checked~label.sk-toggleable__label {\n",
              "  /* fitted */\n",
              "  background-color: var(--sklearn-color-fitted-level-2);\n",
              "}\n",
              "\n",
              "#sk-container-id-1 div.sk-label label.sk-toggleable__label,\n",
              "#sk-container-id-1 div.sk-label label {\n",
              "  /* The background is the default theme color */\n",
              "  color: var(--sklearn-color-text-on-default-background);\n",
              "}\n",
              "\n",
              "/* On hover, darken the color of the background */\n",
              "#sk-container-id-1 div.sk-label:hover label.sk-toggleable__label {\n",
              "  color: var(--sklearn-color-text);\n",
              "  background-color: var(--sklearn-color-unfitted-level-2);\n",
              "}\n",
              "\n",
              "/* Label box, darken color on hover, fitted */\n",
              "#sk-container-id-1 div.sk-label.fitted:hover label.sk-toggleable__label.fitted {\n",
              "  color: var(--sklearn-color-text);\n",
              "  background-color: var(--sklearn-color-fitted-level-2);\n",
              "}\n",
              "\n",
              "/* Estimator label */\n",
              "\n",
              "#sk-container-id-1 div.sk-label label {\n",
              "  font-family: monospace;\n",
              "  font-weight: bold;\n",
              "  display: inline-block;\n",
              "  line-height: 1.2em;\n",
              "}\n",
              "\n",
              "#sk-container-id-1 div.sk-label-container {\n",
              "  text-align: center;\n",
              "}\n",
              "\n",
              "/* Estimator-specific */\n",
              "#sk-container-id-1 div.sk-estimator {\n",
              "  font-family: monospace;\n",
              "  border: 1px dotted var(--sklearn-color-border-box);\n",
              "  border-radius: 0.25em;\n",
              "  box-sizing: border-box;\n",
              "  margin-bottom: 0.5em;\n",
              "  /* unfitted */\n",
              "  background-color: var(--sklearn-color-unfitted-level-0);\n",
              "}\n",
              "\n",
              "#sk-container-id-1 div.sk-estimator.fitted {\n",
              "  /* fitted */\n",
              "  background-color: var(--sklearn-color-fitted-level-0);\n",
              "}\n",
              "\n",
              "/* on hover */\n",
              "#sk-container-id-1 div.sk-estimator:hover {\n",
              "  /* unfitted */\n",
              "  background-color: var(--sklearn-color-unfitted-level-2);\n",
              "}\n",
              "\n",
              "#sk-container-id-1 div.sk-estimator.fitted:hover {\n",
              "  /* fitted */\n",
              "  background-color: var(--sklearn-color-fitted-level-2);\n",
              "}\n",
              "\n",
              "/* Specification for estimator info (e.g. \"i\" and \"?\") */\n",
              "\n",
              "/* Common style for \"i\" and \"?\" */\n",
              "\n",
              ".sk-estimator-doc-link,\n",
              "a:link.sk-estimator-doc-link,\n",
              "a:visited.sk-estimator-doc-link {\n",
              "  float: right;\n",
              "  font-size: smaller;\n",
              "  line-height: 1em;\n",
              "  font-family: monospace;\n",
              "  background-color: var(--sklearn-color-background);\n",
              "  border-radius: 1em;\n",
              "  height: 1em;\n",
              "  width: 1em;\n",
              "  text-decoration: none !important;\n",
              "  margin-left: 0.5em;\n",
              "  text-align: center;\n",
              "  /* unfitted */\n",
              "  border: var(--sklearn-color-unfitted-level-1) 1pt solid;\n",
              "  color: var(--sklearn-color-unfitted-level-1);\n",
              "}\n",
              "\n",
              ".sk-estimator-doc-link.fitted,\n",
              "a:link.sk-estimator-doc-link.fitted,\n",
              "a:visited.sk-estimator-doc-link.fitted {\n",
              "  /* fitted */\n",
              "  border: var(--sklearn-color-fitted-level-1) 1pt solid;\n",
              "  color: var(--sklearn-color-fitted-level-1);\n",
              "}\n",
              "\n",
              "/* On hover */\n",
              "div.sk-estimator:hover .sk-estimator-doc-link:hover,\n",
              ".sk-estimator-doc-link:hover,\n",
              "div.sk-label-container:hover .sk-estimator-doc-link:hover,\n",
              ".sk-estimator-doc-link:hover {\n",
              "  /* unfitted */\n",
              "  background-color: var(--sklearn-color-unfitted-level-3);\n",
              "  color: var(--sklearn-color-background);\n",
              "  text-decoration: none;\n",
              "}\n",
              "\n",
              "div.sk-estimator.fitted:hover .sk-estimator-doc-link.fitted:hover,\n",
              ".sk-estimator-doc-link.fitted:hover,\n",
              "div.sk-label-container:hover .sk-estimator-doc-link.fitted:hover,\n",
              ".sk-estimator-doc-link.fitted:hover {\n",
              "  /* fitted */\n",
              "  background-color: var(--sklearn-color-fitted-level-3);\n",
              "  color: var(--sklearn-color-background);\n",
              "  text-decoration: none;\n",
              "}\n",
              "\n",
              "/* Span, style for the box shown on hovering the info icon */\n",
              ".sk-estimator-doc-link span {\n",
              "  display: none;\n",
              "  z-index: 9999;\n",
              "  position: relative;\n",
              "  font-weight: normal;\n",
              "  right: .2ex;\n",
              "  padding: .5ex;\n",
              "  margin: .5ex;\n",
              "  width: min-content;\n",
              "  min-width: 20ex;\n",
              "  max-width: 50ex;\n",
              "  color: var(--sklearn-color-text);\n",
              "  box-shadow: 2pt 2pt 4pt #999;\n",
              "  /* unfitted */\n",
              "  background: var(--sklearn-color-unfitted-level-0);\n",
              "  border: .5pt solid var(--sklearn-color-unfitted-level-3);\n",
              "}\n",
              "\n",
              ".sk-estimator-doc-link.fitted span {\n",
              "  /* fitted */\n",
              "  background: var(--sklearn-color-fitted-level-0);\n",
              "  border: var(--sklearn-color-fitted-level-3);\n",
              "}\n",
              "\n",
              ".sk-estimator-doc-link:hover span {\n",
              "  display: block;\n",
              "}\n",
              "\n",
              "/* \"?\"-specific style due to the `<a>` HTML tag */\n",
              "\n",
              "#sk-container-id-1 a.estimator_doc_link {\n",
              "  float: right;\n",
              "  font-size: 1rem;\n",
              "  line-height: 1em;\n",
              "  font-family: monospace;\n",
              "  background-color: var(--sklearn-color-background);\n",
              "  border-radius: 1rem;\n",
              "  height: 1rem;\n",
              "  width: 1rem;\n",
              "  text-decoration: none;\n",
              "  /* unfitted */\n",
              "  color: var(--sklearn-color-unfitted-level-1);\n",
              "  border: var(--sklearn-color-unfitted-level-1) 1pt solid;\n",
              "}\n",
              "\n",
              "#sk-container-id-1 a.estimator_doc_link.fitted {\n",
              "  /* fitted */\n",
              "  border: var(--sklearn-color-fitted-level-1) 1pt solid;\n",
              "  color: var(--sklearn-color-fitted-level-1);\n",
              "}\n",
              "\n",
              "/* On hover */\n",
              "#sk-container-id-1 a.estimator_doc_link:hover {\n",
              "  /* unfitted */\n",
              "  background-color: var(--sklearn-color-unfitted-level-3);\n",
              "  color: var(--sklearn-color-background);\n",
              "  text-decoration: none;\n",
              "}\n",
              "\n",
              "#sk-container-id-1 a.estimator_doc_link.fitted:hover {\n",
              "  /* fitted */\n",
              "  background-color: var(--sklearn-color-fitted-level-3);\n",
              "}\n",
              "</style><div id=\"sk-container-id-1\" class=\"sk-top-container\"><div class=\"sk-text-repr-fallback\"><pre>RandomForestRegressor(n_estimators=500, random_state=77)</pre><b>In a Jupyter environment, please rerun this cell to show the HTML representation or trust the notebook. <br />On GitHub, the HTML representation is unable to render, please try loading this page with nbviewer.org.</b></div><div class=\"sk-container\" hidden><div class=\"sk-item\"><div class=\"sk-estimator fitted sk-toggleable\"><input class=\"sk-toggleable__control sk-hidden--visually\" id=\"sk-estimator-id-1\" type=\"checkbox\" checked><label for=\"sk-estimator-id-1\" class=\"sk-toggleable__label fitted sk-toggleable__label-arrow\"><div><div>RandomForestRegressor</div></div><div><a class=\"sk-estimator-doc-link fitted\" rel=\"noreferrer\" target=\"_blank\" href=\"https://scikit-learn.org/1.6/modules/generated/sklearn.ensemble.RandomForestRegressor.html\">?<span>Documentation for RandomForestRegressor</span></a><span class=\"sk-estimator-doc-link fitted\">i<span>Fitted</span></span></div></label><div class=\"sk-toggleable__content fitted\"><pre>RandomForestRegressor(n_estimators=500, random_state=77)</pre></div> </div></div></div></div>"
            ]
          },
          "metadata": {},
          "execution_count": 43
        }
      ],
      "source": [
        "model = RandomForestRegressor(n_estimators=500, bootstrap=True, random_state=77)\n",
        "model.fit(X_train, y_train)"
      ]
    },
    {
      "cell_type": "markdown",
      "metadata": {
        "id": "Q-cMDje_SNpi"
      },
      "source": [
        "### 6.1.1.1 ✨ Model Validation (MSE)\n",
        "<a id=\"validation\"></a>"
      ]
    },
    {
      "cell_type": "code",
      "execution_count": 44,
      "metadata": {
        "colab": {
          "base_uri": "https://localhost:8080/"
        },
        "id": "lfXOMtUmSNpi",
        "outputId": "1d5fbab6-603b-4aaa-a75e-8804cb3d9a3e"
      },
      "outputs": [
        {
          "output_type": "stream",
          "name": "stdout",
          "text": [
            "Mean Squared Error: 0.15987276817349194\n"
          ]
        }
      ],
      "source": [
        "y_pred = model.predict(X_test)\n",
        "mse = mean_squared_error(y_test, y_pred)\n",
        "print(\"Mean Squared Error:\", mse)"
      ]
    },
    {
      "cell_type": "markdown",
      "metadata": {
        "id": "YAT8imNXSNpi"
      },
      "source": [
        "<a id=\"baseline-vs-mse\"></a>\n",
        "## 6.1.1.2 🎌 Baseline VS MSE"
      ]
    },
    {
      "cell_type": "code",
      "execution_count": 45,
      "metadata": {
        "colab": {
          "base_uri": "https://localhost:8080/"
        },
        "id": "GXXHQfhdSNpi",
        "outputId": "3a60bbb3-6f0a-4dde-96d8-daca7c1e3956"
      },
      "outputs": [
        {
          "output_type": "stream",
          "name": "stdout",
          "text": [
            "Baseline MSE: 0.3749730269198414\n",
            "MSE RFRegressor 0.15987276817349194\n"
          ]
        }
      ],
      "source": [
        "baseline_prediction = y_train.mean()\n",
        "baseline_mse = mean_squared_error(y_test, [baseline_prediction] * len(y_test))\n",
        "\n",
        "print(\"Baseline MSE:\", baseline_mse)\n",
        "print(\"MSE RFRegressor\", mse)"
      ]
    },
    {
      "cell_type": "markdown",
      "metadata": {
        "id": "wMfU4oapSNpi"
      },
      "source": [
        "## 6.1.1.3 📏 Underfitting and Overfitting\n",
        "<a id=\"underfitting-and-overfitting\"></a>\n"
      ]
    },
    {
      "cell_type": "markdown",
      "metadata": {
        "id": "zeDtgWhcSNpj"
      },
      "source": [
        "    KEY 🗝️\n",
        "    ______________________________________________________________________\n",
        "    \n",
        "    I used it in the process. After some Featuring I've realized that this part is not necessary. However, I will keep it here if you want to try it yourself\n",
        "\n",
        "    Define the values of max_leaf_nodes for best model.\n",
        "    \n",
        "    ______________________________________________________________________"
      ]
    },
    {
      "cell_type": "markdown",
      "metadata": {
        "id": "YcnOlHraSNpj"
      },
      "source": [
        "<a id=\"xgboost\"></a>\n",
        "## 6.1.2 🚀 XGBoost"
      ]
    },
    {
      "cell_type": "code",
      "execution_count": 46,
      "metadata": {
        "colab": {
          "base_uri": "https://localhost:8080/"
        },
        "id": "jvNZQAj8SNpj",
        "outputId": "5b1cab4b-8098-4c0a-91d3-b1b5ca5abc37"
      },
      "outputs": [
        {
          "output_type": "stream",
          "name": "stdout",
          "text": [
            "Mean Squared Error (MSE): 0.1587969562337204\n"
          ]
        }
      ],
      "source": [
        "xgb_model = XGBRegressor(n_estimators=3500, learning_rate=0.05, random_state=77)\n",
        "xgb_model.fit(X_train, y_train)\n",
        "\n",
        "y_pred_xgb = xgb_model.predict(X_test)\n",
        "mse = mean_squared_error(y_test, y_pred_xgb)\n",
        "\n",
        "print(\"Mean Squared Error (MSE):\", mse)"
      ]
    },
    {
      "cell_type": "markdown",
      "metadata": {
        "id": "A2yF39maSNpj"
      },
      "source": [
        "<a id=\"comparing-mse\"></a>\n",
        "## 6.1.3 📉 Comparing MSE"
      ]
    },
    {
      "cell_type": "code",
      "execution_count": 47,
      "metadata": {
        "colab": {
          "base_uri": "https://localhost:8080/",
          "height": 542
        },
        "id": "JlQ01LEhSNpj",
        "outputId": "ec6520bd-4152-49bb-aae0-1a2d36b1c196"
      },
      "outputs": [
        {
          "output_type": "display_data",
          "data": {
            "text/html": [
              "<html>\n",
              "<head><meta charset=\"utf-8\" /></head>\n",
              "<body>\n",
              "    <div>            <script src=\"https://cdnjs.cloudflare.com/ajax/libs/mathjax/2.7.5/MathJax.js?config=TeX-AMS-MML_SVG\"></script><script type=\"text/javascript\">if (window.MathJax && window.MathJax.Hub && window.MathJax.Hub.Config) {window.MathJax.Hub.Config({SVG: {font: \"STIX-Web\"}});}</script>                <script type=\"text/javascript\">window.PlotlyConfig = {MathJaxConfig: 'local'};</script>\n",
              "        <script charset=\"utf-8\" src=\"https://cdn.plot.ly/plotly-2.35.2.min.js\"></script>                <div id=\"b724a84c-1311-4c84-bd5f-3582d532232a\" class=\"plotly-graph-div\" style=\"height:525px; width:100%;\"></div>            <script type=\"text/javascript\">                                    window.PLOTLYENV=window.PLOTLYENV || {};                                    if (document.getElementById(\"b724a84c-1311-4c84-bd5f-3582d532232a\")) {                    Plotly.newPlot(                        \"b724a84c-1311-4c84-bd5f-3582d532232a\",                        [{\"marker\":{\"color\":[\"blue\",\"green\"]},\"x\":[\"RandomForestRegressor\",\"XGBoost\"],\"y\":[0.15987276817349194,0.1587969562337204],\"type\":\"bar\"}],                        {\"template\":{\"data\":{\"histogram2dcontour\":[{\"type\":\"histogram2dcontour\",\"colorbar\":{\"outlinewidth\":0,\"ticks\":\"\"},\"colorscale\":[[0.0,\"#0d0887\"],[0.1111111111111111,\"#46039f\"],[0.2222222222222222,\"#7201a8\"],[0.3333333333333333,\"#9c179e\"],[0.4444444444444444,\"#bd3786\"],[0.5555555555555556,\"#d8576b\"],[0.6666666666666666,\"#ed7953\"],[0.7777777777777778,\"#fb9f3a\"],[0.8888888888888888,\"#fdca26\"],[1.0,\"#f0f921\"]]}],\"choropleth\":[{\"type\":\"choropleth\",\"colorbar\":{\"outlinewidth\":0,\"ticks\":\"\"}}],\"histogram2d\":[{\"type\":\"histogram2d\",\"colorbar\":{\"outlinewidth\":0,\"ticks\":\"\"},\"colorscale\":[[0.0,\"#0d0887\"],[0.1111111111111111,\"#46039f\"],[0.2222222222222222,\"#7201a8\"],[0.3333333333333333,\"#9c179e\"],[0.4444444444444444,\"#bd3786\"],[0.5555555555555556,\"#d8576b\"],[0.6666666666666666,\"#ed7953\"],[0.7777777777777778,\"#fb9f3a\"],[0.8888888888888888,\"#fdca26\"],[1.0,\"#f0f921\"]]}],\"heatmap\":[{\"type\":\"heatmap\",\"colorbar\":{\"outlinewidth\":0,\"ticks\":\"\"},\"colorscale\":[[0.0,\"#0d0887\"],[0.1111111111111111,\"#46039f\"],[0.2222222222222222,\"#7201a8\"],[0.3333333333333333,\"#9c179e\"],[0.4444444444444444,\"#bd3786\"],[0.5555555555555556,\"#d8576b\"],[0.6666666666666666,\"#ed7953\"],[0.7777777777777778,\"#fb9f3a\"],[0.8888888888888888,\"#fdca26\"],[1.0,\"#f0f921\"]]}],\"heatmapgl\":[{\"type\":\"heatmapgl\",\"colorbar\":{\"outlinewidth\":0,\"ticks\":\"\"},\"colorscale\":[[0.0,\"#0d0887\"],[0.1111111111111111,\"#46039f\"],[0.2222222222222222,\"#7201a8\"],[0.3333333333333333,\"#9c179e\"],[0.4444444444444444,\"#bd3786\"],[0.5555555555555556,\"#d8576b\"],[0.6666666666666666,\"#ed7953\"],[0.7777777777777778,\"#fb9f3a\"],[0.8888888888888888,\"#fdca26\"],[1.0,\"#f0f921\"]]}],\"contourcarpet\":[{\"type\":\"contourcarpet\",\"colorbar\":{\"outlinewidth\":0,\"ticks\":\"\"}}],\"contour\":[{\"type\":\"contour\",\"colorbar\":{\"outlinewidth\":0,\"ticks\":\"\"},\"colorscale\":[[0.0,\"#0d0887\"],[0.1111111111111111,\"#46039f\"],[0.2222222222222222,\"#7201a8\"],[0.3333333333333333,\"#9c179e\"],[0.4444444444444444,\"#bd3786\"],[0.5555555555555556,\"#d8576b\"],[0.6666666666666666,\"#ed7953\"],[0.7777777777777778,\"#fb9f3a\"],[0.8888888888888888,\"#fdca26\"],[1.0,\"#f0f921\"]]}],\"surface\":[{\"type\":\"surface\",\"colorbar\":{\"outlinewidth\":0,\"ticks\":\"\"},\"colorscale\":[[0.0,\"#0d0887\"],[0.1111111111111111,\"#46039f\"],[0.2222222222222222,\"#7201a8\"],[0.3333333333333333,\"#9c179e\"],[0.4444444444444444,\"#bd3786\"],[0.5555555555555556,\"#d8576b\"],[0.6666666666666666,\"#ed7953\"],[0.7777777777777778,\"#fb9f3a\"],[0.8888888888888888,\"#fdca26\"],[1.0,\"#f0f921\"]]}],\"mesh3d\":[{\"type\":\"mesh3d\",\"colorbar\":{\"outlinewidth\":0,\"ticks\":\"\"}}],\"scatter\":[{\"fillpattern\":{\"fillmode\":\"overlay\",\"size\":10,\"solidity\":0.2},\"type\":\"scatter\"}],\"parcoords\":[{\"type\":\"parcoords\",\"line\":{\"colorbar\":{\"outlinewidth\":0,\"ticks\":\"\"}}}],\"scatterpolargl\":[{\"type\":\"scatterpolargl\",\"marker\":{\"colorbar\":{\"outlinewidth\":0,\"ticks\":\"\"}}}],\"bar\":[{\"error_x\":{\"color\":\"#2a3f5f\"},\"error_y\":{\"color\":\"#2a3f5f\"},\"marker\":{\"line\":{\"color\":\"#E5ECF6\",\"width\":0.5},\"pattern\":{\"fillmode\":\"overlay\",\"size\":10,\"solidity\":0.2}},\"type\":\"bar\"}],\"scattergeo\":[{\"type\":\"scattergeo\",\"marker\":{\"colorbar\":{\"outlinewidth\":0,\"ticks\":\"\"}}}],\"scatterpolar\":[{\"type\":\"scatterpolar\",\"marker\":{\"colorbar\":{\"outlinewidth\":0,\"ticks\":\"\"}}}],\"histogram\":[{\"marker\":{\"pattern\":{\"fillmode\":\"overlay\",\"size\":10,\"solidity\":0.2}},\"type\":\"histogram\"}],\"scattergl\":[{\"type\":\"scattergl\",\"marker\":{\"colorbar\":{\"outlinewidth\":0,\"ticks\":\"\"}}}],\"scatter3d\":[{\"type\":\"scatter3d\",\"line\":{\"colorbar\":{\"outlinewidth\":0,\"ticks\":\"\"}},\"marker\":{\"colorbar\":{\"outlinewidth\":0,\"ticks\":\"\"}}}],\"scattermapbox\":[{\"type\":\"scattermapbox\",\"marker\":{\"colorbar\":{\"outlinewidth\":0,\"ticks\":\"\"}}}],\"scatterternary\":[{\"type\":\"scatterternary\",\"marker\":{\"colorbar\":{\"outlinewidth\":0,\"ticks\":\"\"}}}],\"scattercarpet\":[{\"type\":\"scattercarpet\",\"marker\":{\"colorbar\":{\"outlinewidth\":0,\"ticks\":\"\"}}}],\"carpet\":[{\"aaxis\":{\"endlinecolor\":\"#2a3f5f\",\"gridcolor\":\"white\",\"linecolor\":\"white\",\"minorgridcolor\":\"white\",\"startlinecolor\":\"#2a3f5f\"},\"baxis\":{\"endlinecolor\":\"#2a3f5f\",\"gridcolor\":\"white\",\"linecolor\":\"white\",\"minorgridcolor\":\"white\",\"startlinecolor\":\"#2a3f5f\"},\"type\":\"carpet\"}],\"table\":[{\"cells\":{\"fill\":{\"color\":\"#EBF0F8\"},\"line\":{\"color\":\"white\"}},\"header\":{\"fill\":{\"color\":\"#C8D4E3\"},\"line\":{\"color\":\"white\"}},\"type\":\"table\"}],\"barpolar\":[{\"marker\":{\"line\":{\"color\":\"#E5ECF6\",\"width\":0.5},\"pattern\":{\"fillmode\":\"overlay\",\"size\":10,\"solidity\":0.2}},\"type\":\"barpolar\"}],\"pie\":[{\"automargin\":true,\"type\":\"pie\"}]},\"layout\":{\"autotypenumbers\":\"strict\",\"colorway\":[\"#636efa\",\"#EF553B\",\"#00cc96\",\"#ab63fa\",\"#FFA15A\",\"#19d3f3\",\"#FF6692\",\"#B6E880\",\"#FF97FF\",\"#FECB52\"],\"font\":{\"color\":\"#2a3f5f\"},\"hovermode\":\"closest\",\"hoverlabel\":{\"align\":\"left\"},\"paper_bgcolor\":\"white\",\"plot_bgcolor\":\"#E5ECF6\",\"polar\":{\"bgcolor\":\"#E5ECF6\",\"angularaxis\":{\"gridcolor\":\"white\",\"linecolor\":\"white\",\"ticks\":\"\"},\"radialaxis\":{\"gridcolor\":\"white\",\"linecolor\":\"white\",\"ticks\":\"\"}},\"ternary\":{\"bgcolor\":\"#E5ECF6\",\"aaxis\":{\"gridcolor\":\"white\",\"linecolor\":\"white\",\"ticks\":\"\"},\"baxis\":{\"gridcolor\":\"white\",\"linecolor\":\"white\",\"ticks\":\"\"},\"caxis\":{\"gridcolor\":\"white\",\"linecolor\":\"white\",\"ticks\":\"\"}},\"coloraxis\":{\"colorbar\":{\"outlinewidth\":0,\"ticks\":\"\"}},\"colorscale\":{\"sequential\":[[0.0,\"#0d0887\"],[0.1111111111111111,\"#46039f\"],[0.2222222222222222,\"#7201a8\"],[0.3333333333333333,\"#9c179e\"],[0.4444444444444444,\"#bd3786\"],[0.5555555555555556,\"#d8576b\"],[0.6666666666666666,\"#ed7953\"],[0.7777777777777778,\"#fb9f3a\"],[0.8888888888888888,\"#fdca26\"],[1.0,\"#f0f921\"]],\"sequentialminus\":[[0.0,\"#0d0887\"],[0.1111111111111111,\"#46039f\"],[0.2222222222222222,\"#7201a8\"],[0.3333333333333333,\"#9c179e\"],[0.4444444444444444,\"#bd3786\"],[0.5555555555555556,\"#d8576b\"],[0.6666666666666666,\"#ed7953\"],[0.7777777777777778,\"#fb9f3a\"],[0.8888888888888888,\"#fdca26\"],[1.0,\"#f0f921\"]],\"diverging\":[[0,\"#8e0152\"],[0.1,\"#c51b7d\"],[0.2,\"#de77ae\"],[0.3,\"#f1b6da\"],[0.4,\"#fde0ef\"],[0.5,\"#f7f7f7\"],[0.6,\"#e6f5d0\"],[0.7,\"#b8e186\"],[0.8,\"#7fbc41\"],[0.9,\"#4d9221\"],[1,\"#276419\"]]},\"xaxis\":{\"gridcolor\":\"white\",\"linecolor\":\"white\",\"ticks\":\"\",\"title\":{\"standoff\":15},\"zerolinecolor\":\"white\",\"automargin\":true,\"zerolinewidth\":2},\"yaxis\":{\"gridcolor\":\"white\",\"linecolor\":\"white\",\"ticks\":\"\",\"title\":{\"standoff\":15},\"zerolinecolor\":\"white\",\"automargin\":true,\"zerolinewidth\":2},\"scene\":{\"xaxis\":{\"backgroundcolor\":\"#E5ECF6\",\"gridcolor\":\"white\",\"linecolor\":\"white\",\"showbackground\":true,\"ticks\":\"\",\"zerolinecolor\":\"white\",\"gridwidth\":2},\"yaxis\":{\"backgroundcolor\":\"#E5ECF6\",\"gridcolor\":\"white\",\"linecolor\":\"white\",\"showbackground\":true,\"ticks\":\"\",\"zerolinecolor\":\"white\",\"gridwidth\":2},\"zaxis\":{\"backgroundcolor\":\"#E5ECF6\",\"gridcolor\":\"white\",\"linecolor\":\"white\",\"showbackground\":true,\"ticks\":\"\",\"zerolinecolor\":\"white\",\"gridwidth\":2}},\"shapedefaults\":{\"line\":{\"color\":\"#2a3f5f\"}},\"annotationdefaults\":{\"arrowcolor\":\"#2a3f5f\",\"arrowhead\":0,\"arrowwidth\":1},\"geo\":{\"bgcolor\":\"white\",\"landcolor\":\"#E5ECF6\",\"subunitcolor\":\"white\",\"showland\":true,\"showlakes\":true,\"lakecolor\":\"white\"},\"title\":{\"x\":0.05},\"mapbox\":{\"style\":\"light\"}}},\"title\":{\"text\":\"Comparison of MSE between RandomForestRegressor and XGBoost\"},\"xaxis\":{\"title\":{\"text\":\"Models\"}},\"yaxis\":{\"title\":{\"text\":\"Mean Squared Error (MSE)\"}}},                        {\"responsive\": true}                    ).then(function(){\n",
              "                            \n",
              "var gd = document.getElementById('b724a84c-1311-4c84-bd5f-3582d532232a');\n",
              "var x = new MutationObserver(function (mutations, observer) {{\n",
              "        var display = window.getComputedStyle(gd).display;\n",
              "        if (!display || display === 'none') {{\n",
              "            console.log([gd, 'removed!']);\n",
              "            Plotly.purge(gd);\n",
              "            observer.disconnect();\n",
              "        }}\n",
              "}});\n",
              "\n",
              "// Listen for the removal of the full notebook cells\n",
              "var notebookContainer = gd.closest('#notebook-container');\n",
              "if (notebookContainer) {{\n",
              "    x.observe(notebookContainer, {childList: true});\n",
              "}}\n",
              "\n",
              "// Listen for the clearing of the current output cell\n",
              "var outputEl = gd.closest('.output');\n",
              "if (outputEl) {{\n",
              "    x.observe(outputEl, {childList: true});\n",
              "}}\n",
              "\n",
              "                        })                };                            </script>        </div>\n",
              "</body>\n",
              "</html>"
            ]
          },
          "metadata": {}
        }
      ],
      "source": [
        "mse_rf = mean_squared_error(y_test, y_pred)\n",
        "mse_xgb = mean_squared_error(y_test, y_pred_xgb)\n",
        "\n",
        "models = ['RandomForestRegressor', 'XGBoost']\n",
        "mse_values = [mse_rf, mse_xgb]\n",
        "colors = ['blue', 'green']\n",
        "\n",
        "fig = go.Figure(data=[go.Bar(x=models, y=mse_values, marker_color=colors)])\n",
        "fig.update_layout(\n",
        "    title='Comparison of MSE between RandomForestRegressor and XGBoost',\n",
        "    xaxis_title='Models',\n",
        "    yaxis_title='Mean Squared Error (MSE)'\n",
        ")\n",
        "fig.show()"
      ]
    },
    {
      "cell_type": "markdown",
      "metadata": {
        "id": "J0GhTTcdSNpj"
      },
      "source": [
        "    KEY 🗝️\n",
        "    ______________________________________________________________________\n",
        "    \n",
        "    Both models show the same MSE rate 🏆\n",
        "    ______________________________________________________________________"
      ]
    },
    {
      "cell_type": "markdown",
      "metadata": {
        "id": "AHnO-go0SNpj"
      },
      "source": [
        "<a id=\"smote\"></a>\n",
        "## 6.2.1 🔄 SMOTE vs 🌳 ForestClassifier"
      ]
    },
    {
      "cell_type": "code",
      "execution_count": 48,
      "metadata": {
        "colab": {
          "base_uri": "https://localhost:8080/"
        },
        "id": "w8zb9ONkSNpj",
        "outputId": "9d7e820a-b610-4f1b-c6dd-6f4f171ea8ee"
      },
      "outputs": [
        {
          "output_type": "stream",
          "name": "stdout",
          "text": [
            "Accuracy on training set: 0.9996946129728409\n",
            "Accuracy on SMOTE test set: 0.8949007844946931\n"
          ]
        }
      ],
      "source": [
        "smote_params = {\n",
        "    'sampling_strategy': 'auto',\n",
        "    'random_state': 77,\n",
        "    'k_neighbors': 5,\n",
        "}\n",
        "\n",
        "smote = SMOTE(**smote_params)\n",
        "\n",
        "X_train = df.drop('Credit_Score_Encoded', axis=1)\n",
        "y_train = df['Credit_Score_Encoded']\n",
        "\n",
        "X_smote, y_smote = smote.fit_resample(X_train, y_train)\n",
        "X_train_smote, X_test_smote, y_train_smote, y_test_smote = train_test_split(X_smote, y_smote, test_size=0.15, random_state=77)\n",
        "\n",
        "rf_classifier = RandomForestClassifier(n_estimators=500, bootstrap=True)\n",
        "\n",
        "rf_classifier.fit(X_train_smote, y_train_smote)\n",
        "\n",
        "print(\"Accuracy on training set:\", rf_classifier.score(X_train_smote, y_train_smote))\n",
        "\n",
        "y_pred_smote = rf_classifier.predict(X_test_smote)\n",
        "accuracy_smote = accuracy_score(y_test_smote, y_pred_smote)\n",
        "\n",
        "print(\"Accuracy on SMOTE test set:\", accuracy_smote)"
      ]
    },
    {
      "cell_type": "markdown",
      "metadata": {
        "id": "_ejsWRzcSNpj"
      },
      "source": [
        "## 6.2.2 🎖️ Accuracy test\n",
        "<a id=\"accuracy-test\"></a>"
      ]
    },
    {
      "cell_type": "code",
      "execution_count": 49,
      "metadata": {
        "colab": {
          "base_uri": "https://localhost:8080/",
          "height": 1000
        },
        "id": "-46yiW3_SNpj",
        "outputId": "d0cb03db-1e3d-49a1-bc56-daf3416c5ab0"
      },
      "outputs": [
        {
          "output_type": "stream",
          "name": "stdout",
          "text": [
            "Accuracy on original test set: 0.9685982518614439\n",
            "\n",
            "Classification report for SMOTE test set:\n",
            "               precision    recall  f1-score   support\n",
            "\n",
            "         0.0       0.92      0.93      0.92      2919\n",
            "         1.0       0.88      0.84      0.86      2871\n",
            "         2.0       0.89      0.91      0.90      2878\n",
            "\n",
            "    accuracy                           0.89      8668\n",
            "   macro avg       0.89      0.89      0.89      8668\n",
            "weighted avg       0.89      0.89      0.89      8668\n",
            "\n",
            "\n",
            "Classification report for original test set:\n",
            "               precision    recall  f1-score   support\n",
            "\n",
            "         0.0       0.94      0.97      0.96       901\n",
            "         1.0       0.98      0.96      0.97      3810\n",
            "         2.0       0.95      0.98      0.96      1467\n",
            "\n",
            "    accuracy                           0.97      6178\n",
            "   macro avg       0.96      0.97      0.96      6178\n",
            "weighted avg       0.97      0.97      0.97      6178\n",
            "\n"
          ]
        },
        {
          "output_type": "display_data",
          "data": {
            "text/plain": [
              "<Figure size 600x600 with 1 Axes>"
            ],
            "image/png": "[encoded data removed]"
          },
          "metadata": {}
        }
      ],
      "source": [
        "y_pred = rf_classifier.predict(X_test)\n",
        "\n",
        "accuracy = accuracy_score(y_test, y_pred)\n",
        "print(\"Accuracy on original test set:\", accuracy)\n",
        "\n",
        "matrix = confusion_matrix(y_test, y_pred)\n",
        "plt.figure(figsize=(6, 6))\n",
        "sns.heatmap(matrix, annot=True, cbar=False, cmap='twilight', linewidth=0.5, fmt=\"d\")\n",
        "plt.ylabel('True Label')\n",
        "plt.xlabel('Predicted Label')\n",
        "plt.title('Confusion Matrix for RandomForestClassifier on original test set')\n",
        "\n",
        "print('\\nClassification report for SMOTE test set:\\n', classification_report(y_test_smote, y_pred_smote))\n",
        "print('\\nClassification report for original test set:\\n', classification_report(y_test, y_pred))"
      ]
    },
    {
      "cell_type": "markdown",
      "metadata": {
        "id": "M2WWxF9rSNpj"
      },
      "source": [
        "    KEY 🗝️\n",
        "    ______________________________________________________________________\n",
        "    \n",
        "    The RandomForestClassifier trained on the original test set achieves a high accuracy of approximately 97% 🥇     \n",
        "    This indicates that the model performs exceptionally well in classifying the target variable 🤌  \n",
        "    The RandomForestClassifier trained on the SMOTE test set achieves a slightly lower accuracy of around 90%  🥈\n",
        "    Despite the lower accuracy compared to the original test set, the SMOTE model still demonstrates a respectable performance 💪\n",
        "    \n",
        "    ______________________________________________________________________"
      ]
    },
    {
      "cell_type": "markdown",
      "metadata": {
        "id": "4VZYXhWzSNpj"
      },
      "source": [
        "<a id=\"conclusion\"></a>\n",
        "## 7. ✅ Conclusion"
      ]
    },
    {
      "cell_type": "markdown",
      "metadata": {
        "id": "ACSwDMqqSNpj"
      },
      "source": [
        "## 7.1 🔐 KEY POINTS\n",
        "<a id=\"KEY-POINTS\"></a>"
      ]
    },
    {
      "cell_type": "markdown",
      "metadata": {
        "id": "Bk_Oeg-6SNpj"
      },
      "source": [
        "    KEY POINTS:\n",
        "\n",
        "    \n",
        "    Financial Stability Indicators:\n",
        "        Features such as 'Annual_Income', 'Num_Bank_Accounts', 'Num_Credit_Card', and 'Total_Num_Accounts' demonstrate positive correlations with each other and with the Credit score. This suggests that individuals with higher annual incomes or more diverse banking and credit card accounts tend to have higher credit scores.\n",
        "\n",
        "    Debt-related Metrics:\n",
        "        'Debt_to_Income_Ratio' and 'Debt_Per_Account' exhibit negative correlations with the Credit score. This indicates that individuals with higher debt-to-income ratios or greater debt per account tend to have lower credit scores. Furthermore, 'Outstanding_Debt' demonstrates a weaker negative correlation with the credit score, highlighting its impact on overall creditworthiness.\n",
        "\n",
        "    Credit Utilization and History:\n",
        "        'Total_EMI_per_month', representing monthly loan repayments, shows a positive correlation with the Credit score. Additionally, features related to credit history, such as 'Credit_History_Age_Months' and 'Credit_Mix_Encoded\", suggests that individuals with longer credit histories, diverse credit accounts, and timely repayments tend to have higher credit scores.\n",
        "\n",
        "    Loan-related Factors:\n",
        "        Features like 'Num_of_Loan' and 'Num_of_Delayed_Payment' indicate an individual's borrowing behavior and repayment patterns. This implies that individuals with fewer loan accounts or instances of delayed payments are more likely to have higher Credit scores.\n",
        "\n",
        "    Interest Rate and Financial Behavior:\n",
        "        'Interest_Rate' reveals a relationship with the Credit score, suggesting that individuals with lower Interest rates on their loans may have higher Credit scores. Moreover, 'Changed_Credit_Limit' and 'Num_Credit_Inquiries' also exhibit correlations, reflecting changes in credit limits and the frequency of credit inquiries, respectively."
      ]
    },
    {
      "cell_type": "code",
      "execution_count": 50,
      "metadata": {
        "id": "z22KdvFiuHlU",
        "colab": {
          "base_uri": "https://localhost:8080/"
        },
        "outputId": "12fa477c-aab5-4985-b5f4-c775da69d56a"
      },
      "outputs": [
        {
          "output_type": "stream",
          "name": "stdout",
          "text": [
            "\u001b[2K     \u001b[90m━━━━━━━━━━━━━━━━━━━━━━━━━━━━━━━━━━━━━━━━\u001b[0m \u001b[32m44.3/44.3 kB\u001b[0m \u001b[31m1.7 MB/s\u001b[0m eta \u001b[36m0:00:00\u001b[0m\n",
            "\u001b[2K   \u001b[90m━━━━━━━━━━━━━━━━━━━━━━━━━━━━━━━━━━━━━━━━\u001b[0m \u001b[32m9.9/9.9 MB\u001b[0m \u001b[31m67.7 MB/s\u001b[0m eta \u001b[36m0:00:00\u001b[0m\n",
            "\u001b[2K   \u001b[90m━━━━━━━━━━━━━━━━━━━━━━━━━━━━━━━━━━━━━━━━\u001b[0m \u001b[32m6.9/6.9 MB\u001b[0m \u001b[31m110.7 MB/s\u001b[0m eta \u001b[36m0:00:00\u001b[0m\n",
            "\u001b[2K   \u001b[90m━━━━━━━━━━━━━━━━━━━━━━━━━━━━━━━━━━━━━━━━\u001b[0m \u001b[32m79.1/79.1 kB\u001b[0m \u001b[31m5.5 MB/s\u001b[0m eta \u001b[36m0:00:00\u001b[0m\n",
            "\u001b[?25h"
          ]
        }
      ],
      "source": [
        "!pip install streamlit pyngrok --quiet\n"
      ]
    },
    {
      "cell_type": "code",
      "source": [
        "import joblib # Import the joblib module\n",
        "\n",
        "joblib.dump(model, \"model.pkl\")"
      ],
      "metadata": {
        "colab": {
          "base_uri": "https://localhost:8080/"
        },
        "id": "jqz2lQH8KaJ9",
        "outputId": "a6771b87-d091-4a48-cd3f-0e72d918cb80"
      },
      "execution_count": 51,
      "outputs": [
        {
          "output_type": "execute_result",
          "data": {
            "text/plain": [
              "['model.pkl']"
            ]
          },
          "metadata": {},
          "execution_count": 51
        }
      ]
    },
    {
      "source": [
        "import os\n",
        "\n",
        "file_size = os.path.getsize('model.pkl')\n",
        "print(f\"File size: {file_size / (1024 * 1024):.2f} MB\")  # Display size in MB"
      ],
      "cell_type": "code",
      "metadata": {
        "colab": {
          "base_uri": "https://localhost:8080/"
        },
        "id": "3jU3rrNUOXCw",
        "outputId": "157482dd-2fc4-4d6c-a50b-0f831d5771dc"
      },
      "execution_count": 52,
      "outputs": [
        {
          "output_type": "stream",
          "name": "stdout",
          "text": [
            "File size: 240.98 MB\n"
          ]
        }
      ]
    },
    {
      "cell_type": "code",
      "execution_count": 53,
      "metadata": {
        "colab": {
          "base_uri": "https://localhost:8080/"
        },
        "id": "MOoiNXKkuaXS",
        "outputId": "08fdd7d3-a87c-4031-9eb2-294744eaa59e"
      },
      "outputs": [
        {
          "output_type": "stream",
          "name": "stdout",
          "text": [
            "Writing app.py\n"
          ]
        }
      ],
      "source": [
        "%%writefile app.py\n",
        "import streamlit as st\n",
        "import pandas as pd\n",
        "import joblib\n",
        "\n",
        "model = joblib.load(\"model.pkl\")  # تأكد إنك رفعته مع الملفات\n",
        "\n",
        "st.title(\"Credit Score Classifier\")\n",
        "\n",
        "# Replace 'age' with 'Num_Bank_Accounts'\n",
        "num_bank_accounts = st.number_input(\"Number of Bank Accounts\", min_value=0, step=1)\n",
        "income = st.number_input(\"Annual Income\", min_value=0.0, step=100.0)\n",
        "num_cards = st.number_input(\"Number of Credit Cards\", min_value=0, step=1)\n",
        "\n",
        "if st.button(\"Predict\"):\n",
        "    df = pd.DataFrame({\n",
        "        \"Total_EMI_per_month\": [Total_EMI_per_month], # If Total_EMI_per_month is defined else replace accordingly\n",
        "        \"Annual_Income\": [income],\n",
        "        \"Num_Credit_Card\": [num_cards],\n",
        "        \"Num_Bank_Accounts\": [num_bank_accounts] # Added the new feature\n",
        "    })\n",
        "    result = model.predict(df)[0]\n",
        "    st.success(f\"Predicted Credit Score: {result}\")"
      ]
    },
    {
      "cell_type": "code",
      "source": [
        "selected_features = [\n",
        "    \"Annual_Income\", \"Num_Bank_Accounts\", \"Num_Credit_Card\", \"Interest_Rate\",\n",
        "    \"Num_of_Loan\", \"Delay_from_due_date\", \"Num_of_Delayed_Payment\",\n",
        "    \"Changed_Credit_Limit\", \"Num_Credit_Inquiries\", \"Outstanding_Debt\",\n",
        "    \"Total_EMI_per_month\", \"Credit_History_Age_Months\", \"Credit_Mix_Encoded\",\n",
        "    \"Total_Num_Accounts\", \"Debt_Per_Account\", \"Debt_to_Income_Ratio\",\n",
        "    \"Delayed_Payments_Per_Account\"\n",
        "]\n",
        "\n",
        "X = df[selected_features]\n",
        "y = df[\"Credit_Score_Encoded\"]\n",
        "model = RandomForestClassifier()\n",
        "model.fit(X, y)\n",
        "joblib.dump(model, \"model.pkl\")\n"
      ],
      "metadata": {
        "colab": {
          "base_uri": "https://localhost:8080/"
        },
        "id": "IxyVaRB8D7eC",
        "outputId": "2935c481-5874-4aaf-91d2-4a490ab2ac91"
      },
      "execution_count": 54,
      "outputs": [
        {
          "output_type": "execute_result",
          "data": {
            "text/plain": [
              "['model.pkl']"
            ]
          },
          "metadata": {},
          "execution_count": 54
        }
      ]
    },
    {
      "source": [
        "%%writefile app.py\n",
        "import streamlit as st\n",
        "import pandas as pd\n",
        "import joblib\n",
        "\n",
        "# Load the trained model\n",
        "model = joblib.load(\"model.pkl\")\n",
        "\n",
        "st.title(\"Credit Score Classifier\")\n",
        "\n",
        "# Collect inputs for all features used during training\n",
        "income = st.number_input(\"Annual Income\", min_value=0.0, step=100.0)\n",
        "num_bank_accounts = st.number_input(\"Number of Bank Accounts\", min_value=0, step=1)\n",
        "num_cards = st.number_input(\"Number of Credit Cards\", min_value=0, step=1)\n",
        "interest_rate = st.number_input(\"Interest Rate\", min_value=0.0, max_value=100.0, step=0.1)\n",
        "num_loans = st.number_input(\"Number of Loans\", min_value=0, step=1)\n",
        "delay_days = st.number_input(\"Delay from Due Date (in days)\", min_value=0, step=1)\n",
        "num_delayed = st.number_input(\"Number of Delayed Payments\", min_value=0, step=1)\n",
        "changed_limit = st.number_input(\"Changed Credit Limit\", min_value=0.0, step=10.0)\n",
        "credit_inquiries = st.number_input(\"Number of Credit Inquiries\", min_value=0, step=1)\n",
        "outstanding_debt = st.number_input(\"Outstanding Debt\", min_value=0.0, step=100.0)\n",
        "emi = st.number_input(\"Total EMI per Month\", min_value=0.0, step=100.0)\n",
        "credit_history_months = st.number_input(\"Credit History Age (Months)\", min_value=0, step=1)\n",
        "credit_mix_encoded = st.selectbox(\"Credit Mix (Encoded)\", options=[0, 1, 2])\n",
        "# 0: Bad, 1: Standard, 2: Good\n",
        "\n",
        "if st.button(\"Predict\"):\n",
        "    # Derived features\n",
        "    total_accounts = num_bank_accounts + num_cards\n",
        "    debt_per_account = outstanding_debt / total_accounts if total_accounts != 0 else 0\n",
        "    debt_to_income = outstanding_debt / income if income != 0 else 0\n",
        "    delayed_per_account = num_delayed / total_accounts if total_accounts != 0 else 0\n",
        "\n",
        "    # Ensure correct column order and names\n",
        "    df = pd.DataFrame([{\n",
        "        \"Annual_Income\": income,\n",
        "        \"Num_Bank_Accounts\": num_bank_accounts,\n",
        "        \"Num_Credit_Card\": num_cards,\n",
        "        \"Interest_Rate\": interest_rate,\n",
        "        \"Num_of_Loan\": num_loans,\n",
        "        \"Delay_from_due_date\": delay_days,\n",
        "        \"Num_of_Delayed_Payment\": num_delayed,\n",
        "        \"Changed_Credit_Limit\": changed_limit,\n",
        "        \"Num_Credit_Inquiries\": credit_inquiries,\n",
        "        \"Outstanding_Debt\": outstanding_debt,\n",
        "        \"Total_EMI_per_month\": emi,\n",
        "        \"Credit_History_Age_Months\": credit_history_months,\n",
        "        \"Credit_Mix_Encoded\": credit_mix_encoded,\n",
        "        \"Total_Num_Accounts\": total_accounts,\n",
        "        \"Debt_Per_Account\": debt_per_account,\n",
        "        \"Debt_to_Income_Ratio\": debt_to_income,\n",
        "        \"Delayed_Payments_Per_Account\": delayed_per_account\n",
        "    }])\n",
        "\n",
        "    # Predict\n",
        "    result = model.predict(df)[0]\n",
        "    st.success(f\"Predicted Credit Score: {result}\")\n"
      ],
      "cell_type": "code",
      "metadata": {
        "colab": {
          "base_uri": "https://localhost:8080/"
        },
        "id": "x0FNezR-1RbJ",
        "outputId": "1a64ba53-9825-4b25-bf61-ead36e4561bc"
      },
      "execution_count": 55,
      "outputs": [
        {
          "output_type": "stream",
          "name": "stdout",
          "text": [
            "Overwriting app.py\n"
          ]
        }
      ]
    },
    {
      "cell_type": "code",
      "execution_count": 56,
      "metadata": {
        "colab": {
          "base_uri": "https://localhost:8080/",
          "height": 73
        },
        "id": "PslQzWezvrxl",
        "outputId": "b47461f9-47b9-4a9e-9a90-a1628df41101"
      },
      "outputs": [
        {
          "output_type": "display_data",
          "data": {
            "text/plain": [
              "<IPython.core.display.HTML object>"
            ],
            "text/html": [
              "\n",
              "     <input type=\"file\" id=\"files-0b333790-f7d4-45d1-a330-1ed7d76b777e\" name=\"files[]\" multiple disabled\n",
              "        style=\"border:none\" />\n",
              "     <output id=\"result-0b333790-f7d4-45d1-a330-1ed7d76b777e\">\n",
              "      Upload widget is only available when the cell has been executed in the\n",
              "      current browser session. Please rerun this cell to enable.\n",
              "      </output>\n",
              "      <script>// Copyright 2017 Google LLC\n",
              "//\n",
              "// Licensed under the Apache License, Version 2.0 (the \"License\");\n",
              "// you may not use this file except in compliance with the License.\n",
              "// You may obtain a copy of the License at\n",
              "//\n",
              "//      http://www.apache.org/licenses/LICENSE-2.0\n",
              "//\n",
              "// Unless required by applicable law or agreed to in writing, software\n",
              "// distributed under the License is distributed on an \"AS IS\" BASIS,\n",
              "// WITHOUT WARRANTIES OR CONDITIONS OF ANY KIND, either express or implied.\n",
              "// See the License for the specific language governing permissions and\n",
              "// limitations under the License.\n",
              "\n",
              "/**\n",
              " * @fileoverview Helpers for google.colab Python module.\n",
              " */\n",
              "(function(scope) {\n",
              "function span(text, styleAttributes = {}) {\n",
              "  const element = document.createElement('span');\n",
              "  element.textContent = text;\n",
              "  for (const key of Object.keys(styleAttributes)) {\n",
              "    element.style[key] = styleAttributes[key];\n",
              "  }\n",
              "  return element;\n",
              "}\n",
              "\n",
              "// Max number of bytes which will be uploaded at a time.\n",
              "const MAX_PAYLOAD_SIZE = 100 * 1024;\n",
              "\n",
              "function _uploadFiles(inputId, outputId) {\n",
              "  const steps = uploadFilesStep(inputId, outputId);\n",
              "  const outputElement = document.getElementById(outputId);\n",
              "  // Cache steps on the outputElement to make it available for the next call\n",
              "  // to uploadFilesContinue from Python.\n",
              "  outputElement.steps = steps;\n",
              "\n",
              "  return _uploadFilesContinue(outputId);\n",
              "}\n",
              "\n",
              "// This is roughly an async generator (not supported in the browser yet),\n",
              "// where there are multiple asynchronous steps and the Python side is going\n",
              "// to poll for completion of each step.\n",
              "// This uses a Promise to block the python side on completion of each step,\n",
              "// then passes the result of the previous step as the input to the next step.\n",
              "function _uploadFilesContinue(outputId) {\n",
              "  const outputElement = document.getElementById(outputId);\n",
              "  const steps = outputElement.steps;\n",
              "\n",
              "  const next = steps.next(outputElement.lastPromiseValue);\n",
              "  return Promise.resolve(next.value.promise).then((value) => {\n",
              "    // Cache the last promise value to make it available to the next\n",
              "    // step of the generator.\n",
              "    outputElement.lastPromiseValue = value;\n",
              "    return next.value.response;\n",
              "  });\n",
              "}\n",
              "\n",
              "/**\n",
              " * Generator function which is called between each async step of the upload\n",
              " * process.\n",
              " * @param {string} inputId Element ID of the input file picker element.\n",
              " * @param {string} outputId Element ID of the output display.\n",
              " * @return {!Iterable<!Object>} Iterable of next steps.\n",
              " */\n",
              "function* uploadFilesStep(inputId, outputId) {\n",
              "  const inputElement = document.getElementById(inputId);\n",
              "  inputElement.disabled = false;\n",
              "\n",
              "  const outputElement = document.getElementById(outputId);\n",
              "  outputElement.innerHTML = '';\n",
              "\n",
              "  const pickedPromise = new Promise((resolve) => {\n",
              "    inputElement.addEventListener('change', (e) => {\n",
              "      resolve(e.target.files);\n",
              "    });\n",
              "  });\n",
              "\n",
              "  const cancel = document.createElement('button');\n",
              "  inputElement.parentElement.appendChild(cancel);\n",
              "  cancel.textContent = 'Cancel upload';\n",
              "  const cancelPromise = new Promise((resolve) => {\n",
              "    cancel.onclick = () => {\n",
              "      resolve(null);\n",
              "    };\n",
              "  });\n",
              "\n",
              "  // Wait for the user to pick the files.\n",
              "  const files = yield {\n",
              "    promise: Promise.race([pickedPromise, cancelPromise]),\n",
              "    response: {\n",
              "      action: 'starting',\n",
              "    }\n",
              "  };\n",
              "\n",
              "  cancel.remove();\n",
              "\n",
              "  // Disable the input element since further picks are not allowed.\n",
              "  inputElement.disabled = true;\n",
              "\n",
              "  if (!files) {\n",
              "    return {\n",
              "      response: {\n",
              "        action: 'complete',\n",
              "      }\n",
              "    };\n",
              "  }\n",
              "\n",
              "  for (const file of files) {\n",
              "    const li = document.createElement('li');\n",
              "    li.append(span(file.name, {fontWeight: 'bold'}));\n",
              "    li.append(span(\n",
              "        `(${file.type || 'n/a'}) - ${file.size} bytes, ` +\n",
              "        `last modified: ${\n",
              "            file.lastModifiedDate ? file.lastModifiedDate.toLocaleDateString() :\n",
              "                                    'n/a'} - `));\n",
              "    const percent = span('0% done');\n",
              "    li.appendChild(percent);\n",
              "\n",
              "    outputElement.appendChild(li);\n",
              "\n",
              "    const fileDataPromise = new Promise((resolve) => {\n",
              "      const reader = new FileReader();\n",
              "      reader.onload = (e) => {\n",
              "        resolve(e.target.result);\n",
              "      };\n",
              "      reader.readAsArrayBuffer(file);\n",
              "    });\n",
              "    // Wait for the data to be ready.\n",
              "    let fileData = yield {\n",
              "      promise: fileDataPromise,\n",
              "      response: {\n",
              "        action: 'continue',\n",
              "      }\n",
              "    };\n",
              "\n",
              "    // Use a chunked sending to avoid message size limits. See b/62115660.\n",
              "    let position = 0;\n",
              "    do {\n",
              "      const length = Math.min(fileData.byteLength - position, MAX_PAYLOAD_SIZE);\n",
              "      const chunk = new Uint8Array(fileData, position, length);\n",
              "      position += length;\n",
              "\n",
              "      const base64 = btoa(String.fromCharCode.apply(null, chunk));\n",
              "      yield {\n",
              "        response: {\n",
              "          action: 'append',\n",
              "          file: file.name,\n",
              "          data: base64,\n",
              "        },\n",
              "      };\n",
              "\n",
              "      let percentDone = fileData.byteLength === 0 ?\n",
              "          100 :\n",
              "          Math.round((position / fileData.byteLength) * 100);\n",
              "      percent.textContent = `${percentDone}% done`;\n",
              "\n",
              "    } while (position < fileData.byteLength);\n",
              "  }\n",
              "\n",
              "  // All done.\n",
              "  yield {\n",
              "    response: {\n",
              "      action: 'complete',\n",
              "    }\n",
              "  };\n",
              "}\n",
              "\n",
              "scope.google = scope.google || {};\n",
              "scope.google.colab = scope.google.colab || {};\n",
              "scope.google.colab._files = {\n",
              "  _uploadFiles,\n",
              "  _uploadFilesContinue,\n",
              "};\n",
              "})(self);\n",
              "</script> "
            ]
          },
          "metadata": {}
        },
        {
          "output_type": "stream",
          "name": "stdout",
          "text": [
            "Saving app (1).py to app (1).py\n"
          ]
        }
      ],
      "source": [
        "from google.colab import files\n",
        "uploaded = files.upload()\n"
      ]
    },
    {
      "source": [
        "!ngrok authtoken 2x0PiWFDn2pGQ69dmaTE583IVdx_6eR5N4YaSnGTewWaDx7fU\n",
        "from pyngrok import ngrok\n",
        "\n",
        "# افتح نفق على بورت 8501\n",
        "# public_url = ngrok.connect(port='8501') # This line is incorrect\n",
        "public_url = ngrok.connect(addr='8501') # Use addr instead of port\n",
        "print(f\"Public URL: {public_url}\")\n",
        "\n",
        "# شغّل streamlit\n",
        "!streamlit run app (1).py &>/content/logs.txt &"
      ],
      "cell_type": "code",
      "metadata": {
        "colab": {
          "base_uri": "https://localhost:8080/"
        },
        "id": "keqnYOZXpsIY",
        "outputId": "393695a8-6ca8-46eb-914b-0351e90df4ce"
      },
      "execution_count": 57,
      "outputs": [
        {
          "output_type": "stream",
          "name": "stdout",
          "text": [
            "Authtoken saved to configuration file: /root/.config/ngrok/ngrok.yml\n",
            "Public URL: NgrokTunnel: \"https://59ea-34-80-169-220.ngrok-free.app\" -> \"http://localhost:8501\"\n",
            "/bin/bash: -c: line 1: syntax error near unexpected token `('\n",
            "/bin/bash: -c: line 1: `streamlit run app (1).py &>/content/logs.txt &'\n"
          ]
        }
      ]
    },
    {
      "cell_type": "code",
      "source": [
        "# STEP 3: Copy uploaded app file to app.py\n",
        "import shutil\n",
        "\n",
        "# Replace with whatever the uploaded filename is (check in uploaded.keys())\n",
        "shutil.copy(\"app (1).py\", \"app.py\")\n",
        "\n",
        "# STEP 4: Check if 'Age' is in the app\n",
        "print(\"\\n✅ Verifying that 'Age' exists in the form:\")\n",
        "!grep Age app.py || echo \"❌ 'Age' not found in app.py — please check!\"\n",
        "\n",
        "# STEP 5: Kill old Streamlit server\n",
        "print(\"\\n🔪 Killing old Streamlit instances...\")\n",
        "!pkill streamlit\n",
        "\n",
        "# STEP 6: Install dependencies\n",
        "print(\"\\n📦 Installing packages...\")\n",
        "!pip install -q streamlit pyngrok\n",
        "\n",
        "# STEP 7: Run Streamlit in background and create public URL\n",
        "from pyngrok import ngrok\n",
        "\n",
        "print(\"\\n🚀 Starting Streamlit server...\")\n",
        "!streamlit run app.py &> /content/logs.txt &\n",
        "\n",
        "print(\"\\n🌐 Opening tunnel...\")\n",
        "public_url = ngrok.connect(addr='8501')\n",
        "print(\"🔗 Streamlit app is live at:\", public_url)\n"
      ],
      "metadata": {
        "colab": {
          "base_uri": "https://localhost:8080/"
        },
        "id": "nyoT42oYR_XK",
        "outputId": "eedd309d-8abe-474d-c64a-70b7a47eaa9b"
      },
      "execution_count": 58,
      "outputs": [
        {
          "output_type": "stream",
          "name": "stdout",
          "text": [
            "\n",
            "✅ Verifying that 'Age' exists in the form:\n",
            "credit_history_months = st.number_input(\"Credit History Age (Months)\", min_value=0, step=1)\n",
            "age = st.number_input(\"Age\", min_value=18, max_value=100, step=1)\n",
            "        \"Credit_History_Age_Months\": credit_history_months,\n",
            "        \"Age\": age,\n",
            "\n",
            "🔪 Killing old Streamlit instances...\n",
            "\n",
            "📦 Installing packages...\n",
            "\n",
            "🚀 Starting Streamlit server...\n",
            "\n",
            "🌐 Opening tunnel...\n",
            "🔗 Streamlit app is live at: NgrokTunnel: \"https://1baf-34-80-169-220.ngrok-free.app\" -> \"http://localhost:8501\"\n"
          ]
        }
      ]
    },
    {
      "cell_type": "code",
      "source": [
        "from pyngrok import ngrok\n",
        "\n",
        "# Start fresh Streamlit\n",
        "!streamlit run app(1).py &> /content/logs.txt &\n",
        "\n",
        "# Open a new public URL\n",
        "public_url = ngrok.connect(addr='8501')\n",
        "print(\"🔗 Your live app is here:\", public_url)\n"
      ],
      "metadata": {
        "colab": {
          "base_uri": "https://localhost:8080/"
        },
        "id": "L1QGU7usTOG8",
        "outputId": "a2eecfa4-f816-4930-e4e0-dfd5d83905a1"
      },
      "execution_count": 59,
      "outputs": [
        {
          "output_type": "stream",
          "name": "stdout",
          "text": [
            "/bin/bash: -c: line 1: syntax error near unexpected token `('\n",
            "/bin/bash: -c: line 1: `streamlit run app(1).py &> /content/logs.txt &'\n",
            "🔗 Your live app is here: NgrokTunnel: \"https://a755-34-80-169-220.ngrok-free.app\" -> \"http://localhost:8501\"\n"
          ]
        }
      ]
    },
    {
      "cell_type": "code",
      "source": [
        "!pkill ngrok"
      ],
      "metadata": {
        "id": "wBVD1j5azTEp"
      },
      "execution_count": 60,
      "outputs": []
    },
    {
      "cell_type": "code",
      "source": [
        "!streamlit run app.py &>/content/logs.txt &\n",
        "from pyngrok import ngrok\n",
        "public_url = ngrok.connect(addr='8501')\n",
        "print(f\"Public URL: {public_url}\")\n"
      ],
      "metadata": {
        "colab": {
          "base_uri": "https://localhost:8080/"
        },
        "id": "HF6Ahmv0DmpK",
        "outputId": "48fa183e-971a-4d61-e018-f17dcb258b8b"
      },
      "execution_count": 61,
      "outputs": [
        {
          "output_type": "stream",
          "name": "stdout",
          "text": [
            "Public URL: NgrokTunnel: \"https://354f-34-80-169-220.ngrok-free.app\" -> \"http://localhost:8501\"\n"
          ]
        }
      ]
    },
    {
      "cell_type": "code",
      "source": [
        "!ngrok authtoken 2x0PiWFDn2pGQ69dmaTE583IVdx_6eR5N4YaSnGTewWaDx7fU\n",
        "from pyngrok import ngrok\n",
        "\n",
        "public_url = ngrok.connect(addr='8501')\n",
        "print(f\"Public URL: {public_url}\")"
      ],
      "metadata": {
        "colab": {
          "base_uri": "https://localhost:8080/"
        },
        "id": "UDrjwb8ezdDl",
        "outputId": "4c24ce30-e128-42e5-d474-505d9455277f"
      },
      "execution_count": 68,
      "outputs": [
        {
          "output_type": "stream",
          "name": "stdout",
          "text": [
            "Authtoken saved to configuration file: /root/.config/ngrok/ngrok.yml\n",
            "Public URL: NgrokTunnel: \"https://2891-34-80-169-220.ngrok-free.app\" -> \"http://localhost:8501\"\n"
          ]
        }
      ]
    },
    {
      "cell_type": "markdown",
      "source": [
        "Docker Phase\n"
      ],
      "metadata": {
        "id": "WsR9Nj0rDGmF"
      }
    },
    {
      "cell_type": "code",
      "source": [
        "# 2. requirements.txt\n",
        "with open('requirements.txt', 'w') as f:\n",
        "    f.write(\"streamlit\\npandas\\nscikit-learn\\njoblib\")\n"
      ],
      "metadata": {
        "id": "FWz9Yy-xDNZC"
      },
      "execution_count": 63,
      "outputs": []
    },
    {
      "cell_type": "code",
      "source": [
        "# 3. Dockerfile\n",
        "dockerfile = '''\n",
        "FROM python:3.9\n",
        "\n",
        "WORKDIR /app\n",
        "\n",
        "COPY requirements.txt .\n",
        "RUN pip install --no-cache-dir -r requirements.txt\n",
        "\n",
        "COPY . .\n",
        "\n",
        "EXPOSE 8501\n",
        "\n",
        "CMD [\"streamlit\", \"run\", \"app.py\", \"--server.port=8501\", \"--server.address=0.0.0.0\"]\n",
        "'''\n",
        "\n",
        "with open('Dockerfile', 'w') as f:\n",
        "    f.write(dockerfile)\n"
      ],
      "metadata": {
        "id": "zQjGtTHFKJDs"
      },
      "execution_count": 64,
      "outputs": []
    },
    {
      "cell_type": "code",
      "source": [
        "import zipfile\n",
        "\n",
        "with zipfile.ZipFile(\"credit_score_docker.zip\", \"w\") as zipf:\n",
        "    zipf.write(\"app.py\")\n",
        "    zipf.write(\"requirements.txt\")\n",
        "    zipf.write(\"Dockerfile\")\n",
        "    zipf.write(\"model.pkl\")\n"
      ],
      "metadata": {
        "id": "8rLPyFjvKSfD"
      },
      "execution_count": 65,
      "outputs": []
    },
    {
      "cell_type": "code",
      "source": [
        "from google.colab import files\n",
        "files.download(\"credit_score_docker.zip\")\n"
      ],
      "metadata": {
        "colab": {
          "base_uri": "https://localhost:8080/",
          "height": 17
        },
        "id": "9OkvIgutKesm",
        "outputId": "7961c159-eaf4-43ad-97a2-efcb4f34f888"
      },
      "execution_count": 67,
      "outputs": [
        {
          "output_type": "display_data",
          "data": {
            "text/plain": [
              "<IPython.core.display.Javascript object>"
            ],
            "application/javascript": [
              "\n",
              "    async function download(id, filename, size) {\n",
              "      if (!google.colab.kernel.accessAllowed) {\n",
              "        return;\n",
              "      }\n",
              "      const div = document.createElement('div');\n",
              "      const label = document.createElement('label');\n",
              "      label.textContent = `Downloading \"${filename}\": `;\n",
              "      div.appendChild(label);\n",
              "      const progress = document.createElement('progress');\n",
              "      progress.max = size;\n",
              "      div.appendChild(progress);\n",
              "      document.body.appendChild(div);\n",
              "\n",
              "      const buffers = [];\n",
              "      let downloaded = 0;\n",
              "\n",
              "      const channel = await google.colab.kernel.comms.open(id);\n",
              "      // Send a message to notify the kernel that we're ready.\n",
              "      channel.send({})\n",
              "\n",
              "      for await (const message of channel.messages) {\n",
              "        // Send a message to notify the kernel that we're ready.\n",
              "        channel.send({})\n",
              "        if (message.buffers) {\n",
              "          for (const buffer of message.buffers) {\n",
              "            buffers.push(buffer);\n",
              "            downloaded += buffer.byteLength;\n",
              "            progress.value = downloaded;\n",
              "          }\n",
              "        }\n",
              "      }\n",
              "      const blob = new Blob(buffers, {type: 'application/binary'});\n",
              "      const a = document.createElement('a');\n",
              "      a.href = window.URL.createObjectURL(blob);\n",
              "      a.download = filename;\n",
              "      div.appendChild(a);\n",
              "      a.click();\n",
              "      div.remove();\n",
              "    }\n",
              "  "
            ]
          },
          "metadata": {}
        },
        {
          "output_type": "display_data",
          "data": {
            "text/plain": [
              "<IPython.core.display.Javascript object>"
            ],
            "application/javascript": [
              "download(\"download_439a8741-81c9-464e-b55c-3b6e282a564b\", \"credit_score_docker.zip\", 99552715)"
            ]
          },
          "metadata": {}
        }
      ]
    }
  ],
  "metadata": {
    "colab": {
      "provenance": []
    },
    "kaggle": {
      "accelerator": "none",
      "dataSources": [
        {
          "datasetId": 2289007,
          "sourceId": 3846912,
          "sourceType": "datasetVersion"
        }
      ],
      "dockerImageVersionId": 30664,
      "isGpuEnabled": false,
      "isInternetEnabled": true,
      "language": "python",
      "sourceType": "notebook"
    },
    "kernelspec": {
      "display_name": "Python 3",
      "language": "python",
      "name": "python3"
    },
    "language_info": {
      "codemirror_mode": {
        "name": "ipython",
        "version": 3
      },
      "file_extension": ".py",
      "mimetype": "text/x-python",
      "name": "python",
      "nbconvert_exporter": "python",
      "pygments_lexer": "ipython3",
      "version": "3.10.13"
    },
    "papermill": {
      "default_parameters": {},
      "duration": 25.891006,
      "end_time": "2024-03-10T12:32:50.370042",
      "environment_variables": {},
      "exception": null,
      "input_path": "__notebook__.ipynb",
      "output_path": "__notebook__.ipynb",
      "parameters": {},
      "start_time": "2024-03-10T12:32:24.479036",
      "version": "2.5.0"
    }
  },
  "nbformat": 4,
  "nbformat_minor": 0
}